{
 "cells": [
  {
   "cell_type": "markdown",
   "metadata": {},
   "source": [
    "\n",
    "# Multiple inheritances\n",
    "\n",
    "Unlike other object-oriented programming languages like Java and C#, C++ supports multiple inheritances. That means, in C++, a class can inherit the public and protected members of more than one class. For example, class `C` below inherits from both classes `A` and `B`. This is depicted in the following class hierarchy:\n",
    "\n",
    "```text\n",
    "    A                B\n",
    "    △               △\n",
    "    |                |\n",
    "    |                |\n",
    "    +------- C ------+\n",
    "```"
   ]
  },
  {
   "cell_type": "code",
   "execution_count": 1,
   "metadata": {},
   "outputs": [],
   "source": [
    "#include <iostream>\n",
    "using namespace std;"
   ]
  },
  {
   "cell_type": "code",
   "execution_count": null,
   "metadata": {},
   "outputs": [],
   "source": [
    "class A { // Base class 1\n",
    "};\n",
    "\n",
    "class B { // Base class 2\n",
    "};\n",
    "\n",
    "class C : public A, public B { //Derived class from A and B\n",
    "};"
   ]
  },
  {
   "cell_type": "markdown",
   "metadata": {},
   "source": [
    "### CODING CHALLENGE\n",
    "Define the classes that implement the following hierarchy with Manager and Scientist each inheriting from both Employee and Student.\n",
    "\n",
    "```text\n",
    "    Employee                      Student\n",
    "        △                           △\n",
    "        |                            |\n",
    "        |                            |\n",
    "        +--------- Manager ----------+\n",
    "        |                            |\n",
    "        |                            |\n",
    "        +---------Scientist ---------+\n",
    "```"
   ]
  },
  {
   "cell_type": "code",
   "execution_count": null,
   "metadata": {},
   "outputs": [],
   "source": [
    "//TODO\n",
    "class Employee {\n",
    "};\n",
    "\n",
    "class Student {\n",
    "};\n",
    "\n",
    "class Manager : public Employee, public Student {\n",
    "};\n",
    "\n",
    "class Scientist : public Employee, public Student {\n",
    "};"
   ]
  },
  {
   "cell_type": "markdown",
   "metadata": {},
   "source": [
    "There is, however, a reason why other languages do not support multiple inheritances; it can lead to overcomplicated program designs and suffers from a set of problems, one of which is the infamous **diamond probelm**. Here is an example of such a problem. \n",
    "\n",
    "```text\n",
    "        +--------▷ Parent ◁ --------+    \n",
    "        |                            |\n",
    "        |                            |\n",
    "      Child1                      Child2 \n",
    "        △                           △\n",
    "        |                            |\n",
    "        |                            |\n",
    "        +-------- GrandChild --------+\n",
    "```    "
   ]
  },
  {
   "cell_type": "code",
   "execution_count": null,
   "metadata": {},
   "outputs": [],
   "source": [
    "class Parent {\n",
    "public:\n",
    "   void foo(){}\n",
    "};\n",
    "\n",
    "class Child1 : public Parent {\n",
    "public:\n",
    "   void bar(){}\n",
    "};\n",
    "\n",
    "class Child2 : public Parent {};\n",
    "class GrandChild : public Child1, public Child2 {};"
   ]
  },
  {
   "cell_type": "markdown",
   "metadata": {},
   "source": [
    "The problem here is that `Grandchild` has two copies of `foo()`: one inherited from `Parent` via `Child1` and another, also inherited from `Parent`, via `Child2`. So when you call `foo()` on a `GrandChild` object, which one will be used? Let's see how the compiler reacts to this situation. Uncomment the following code to see the errors."
   ]
  },
  {
   "cell_type": "code",
   "execution_count": null,
   "metadata": {},
   "outputs": [],
   "source": [
    "\n",
    "GrandChild d;\n",
    "d.foo();\n"
   ]
  },
  {
   "cell_type": "markdown",
   "metadata": {},
   "source": [
    "To the compiler, `d.foo()` is an ambiguous call and it does not know which version of `foo()` to use. It is up to us, the programmers, to clear this up for the compiler and we do that in one of two ways:\n",
    "* Tell the compiler exactly which version of `foo()` to use using the class name and the resolution operator `::`. For example, the code below, tells the compiler to use the version of `foo()` inherited by `GrandChild` via `Child2`."
   ]
  },
  {
   "cell_type": "code",
   "execution_count": null,
   "metadata": {},
   "outputs": [],
   "source": [
    "GrandChild gc;\n",
    "gc.Child2::foo();"
   ]
  },
  {
   "cell_type": "markdown",
   "metadata": {},
   "source": [
    "* Or use the keyword `virtual` to instruct the compiler to prevent creating multiple copies of functions of the same `Parent`. This means changing the implementation of the above class hierarchy to something like this:"
   ]
  },
  {
   "cell_type": "code",
   "execution_count": null,
   "metadata": {},
   "outputs": [],
   "source": [
    "class AnotherParent {\n",
    "public:\n",
    "   void foo(){}\n",
    "};\n",
    "\n",
    "class AnotherChild1 : virtual public AnotherParent {\n",
    "public:\n",
    "   void bar(){}\n",
    "};\n",
    "\n",
    "class AnotherChild2 : virtual public AnotherParent {};\n",
    "class AnotherGrandChild : public AnotherChild1, public AnotherChild2 {};"
   ]
  },
  {
   "cell_type": "markdown",
   "metadata": {},
   "source": [
    "Notice the use of the keyword `virtual` before the public inheritance of the `AnotherChild1` and `AnotherChild2` classes. This tells C++ that if another class inherits from both of these classes (like `AnotherGrandChild` here), only single copies of the functions of the base class `AnotherParent` are made available to it. Thus eliminating the previous ambiguity.\n",
    "\n",
    "Having done that allows us to run the following without the use of the resolution operator `::`"
   ]
  },
  {
   "cell_type": "code",
   "execution_count": null,
   "metadata": {},
   "outputs": [],
   "source": [
    "AnotherGrandChild d2;\n",
    "d2.foo();"
   ]
  },
  {
   "cell_type": "markdown",
   "metadata": {},
   "source": [
    "### CODING CHALLENGE\n",
    "\n",
    "Define the classes that implement the following class hierarchy. Use the keyword `virtual` to insure your classes do not suffer from the **diamond problem**.\n",
    "\n",
    "```text\n",
    "        +---------▷ BaseClass ◁ ---------+    \n",
    "        |                                 |\n",
    "        |                                 |\n",
    "  DerivedClass1                     DerivedClass2 \n",
    "        △                                △\n",
    "        |                                 |\n",
    "        |                                 |\n",
    "        +----- DerivedFurtherClass1 ------+\n",
    "        |                                 |\n",
    "        |                                 |\n",
    "        +----- DerivedFurtherClass2 ------+\n",
    "``` "
   ]
  },
  {
   "cell_type": "code",
   "execution_count": null,
   "metadata": {},
   "outputs": [],
   "source": [
    "//TODO\n",
    "\n",
    "class BaseClass {\n",
    "public: \n",
    "    void poo(){}\n",
    "};\n",
    "\n",
    "class DerivedClass1 : virtual public BaseClass{\n",
    "public: \n",
    "    void par(){}\n",
    "};\n",
    "\n",
    "class DerivedClass2 : virtual public BaseClass{\n",
    "};\n",
    "\n",
    "class DerivedFurtherClass1 : public DerivedClass1, public DerivedClass2 {};\n",
    "class DerivedFurtherClass2 : public DerivedClass1, public DerivedClass2 {};\n"
   ]
  },
  {
   "cell_type": "markdown",
   "metadata": {},
   "source": [
    "# Virtual Functions\n",
    "\n",
    "In addition to encapsulation and inheritance, **polymorphism** is the third principle of object-oriented programming. It means multiple forms. and it is supported by C++ at both compile-time and run-time. At compile-time, we can think of function overloading and operator overloading as forms of polymorphism, where the same function name or operator is used to mean and do different things in different contexts. At run-time polymorphism is achieved by combining inheritance and **virtual functions**.\n",
    "\n",
    "Generally speaking **virtual** means existing in appearance but not in reality. In c++, a **virtual function** is a member function declared at the base class and redefined (or overridden) by a derived class. When this happens, the derived class will have access to two functions with the same name and signature: one provided by the base class and the other by the derived class itself. When a **virtual function** is called, the compiler defers deciding on which function definition to use until run-time. We call this **late binding** which is different from the **early binding** utilized by non-virtual functions.\n",
    "\n",
    "To understand **virtual functions** and the difference between **early binding** and **late binding**, let's look at an example. First here is our base class:"
   ]
  },
  {
   "cell_type": "code",
   "execution_count": null,
   "metadata": {},
   "outputs": [],
   "source": [
    "class Base {\n",
    "public:\n",
    "    void show() { cout << \"Base\\n\"; }\n",
    "};"
   ]
  },
  {
   "cell_type": "markdown",
   "metadata": {},
   "source": [
    "Next let's create two \"regular\" classes that derive from it. Both of these classes override the `show()` function. No `virtual` functions yet."
   ]
  },
  {
   "cell_type": "code",
   "execution_count": null,
   "metadata": {},
   "outputs": [],
   "source": [
    "class Derived1 : public Base {\n",
    "public:\n",
    "    void show() { cout << \"Derived 1\\n\"; }\n",
    "};\n",
    "\n",
    "class Derived2 : public Base {\n",
    "public:\n",
    "    void show() { cout << \"Derived 2\\n\"; }\n",
    "};"
   ]
  },
  {
   "cell_type": "markdown",
   "metadata": {},
   "source": [
    "Using these classes, we can create the following objects:"
   ]
  },
  {
   "cell_type": "code",
   "execution_count": null,
   "metadata": {},
   "outputs": [],
   "source": [
    "Derived1 d1; \n",
    "Derived2 d2_1, d2_2;"
   ]
  },
  {
   "cell_type": "markdown",
   "metadata": {},
   "source": [
    "Now we call the `show()` functions on these objects and study the output:"
   ]
  },
  {
   "cell_type": "code",
   "execution_count": null,
   "metadata": {},
   "outputs": [],
   "source": [
    "d1.show();\n",
    "d2_1.show();\n",
    "d2_2.show();"
   ]
  },
  {
   "cell_type": "markdown",
   "metadata": {},
   "source": [
    "These calls are behaving as expected, with each calling the version of `show()` defined in its own class.\n",
    "\n",
    "Let's now see what happens when `Base` pointers are used."
   ]
  },
  {
   "cell_type": "code",
   "execution_count": null,
   "metadata": {},
   "outputs": [],
   "source": [
    "Base* bptr; \n",
    "bptr = &d1; \n",
    "bptr->show();\n",
    "bptr = &d2_1; \n",
    "bptr->show();"
   ]
  },
  {
   "cell_type": "markdown",
   "metadata": {},
   "source": [
    "Here the `show()`  function of the `Base` class is called instead of the ones from the derived classes. This  is inspite of this  pointer `bptr` pointing to a `Derived1` object first and a `Derived2` object after that. This is example of **early binding** with the compiler determining which version of `show()` to use at compile-time based on the type of the pointer, which is `Base`.\n",
    "\n",
    "Let's try the same thing with a `Base` reference:"
   ]
  },
  {
   "cell_type": "code",
   "execution_count": null,
   "metadata": {},
   "outputs": [],
   "source": [
    "Base& bref = d2_2;\n",
    "bref.show();"
   ]
  },
  {
   "cell_type": "markdown",
   "metadata": {},
   "source": [
    "**Early binding** happens here as well. \n",
    "\n",
    "To enable **late binding** we need to use **virtual functions**. Here is an example of virtual functions starting with the base class:"
   ]
  },
  {
   "cell_type": "code",
   "execution_count": null,
   "metadata": {},
   "outputs": [],
   "source": [
    "class AnotherBase {\n",
    "public:\n",
    "    virtual void show() { cout << \"Another Base\\n\"; }\n",
    "    virtual ~AnotherBase(){} // Virtual destructor\n",
    "};"
   ]
  },
  {
   "cell_type": "markdown",
   "metadata": {},
   "source": [
    "Notice the use of the keyword `virtual` in front of the `show()` function. This makes this function **virtual** and instructs the compiler to enable **late binding** on it. \n",
    "\n",
    "Notice the adding  of the virtual destructor. The destructor should be maked virtual on any class with one ore more virtual functions. This is to make sure objects of derived classes are destroyed properly. This applies **polymorphism** and **late binding** to object cleanup and makes sure that the correct destructors based on the actual objects are called when objects are deleted. \n",
    "\n",
    "Let's define two derived classes of this base class:"
   ]
  },
  {
   "cell_type": "code",
   "execution_count": null,
   "metadata": {},
   "outputs": [],
   "source": [
    "class AnotherDerived1 : public AnotherBase {\n",
    "public:\n",
    "    void show() { cout << \"Another Derived 1\\n\"; }\n",
    "};\n",
    "\n",
    "class AnotherDerived2 : public AnotherBase {\n",
    "public:\n",
    "    void show() { cout << \"Another Derived 2\\n\"; }\n",
    "};"
   ]
  },
  {
   "cell_type": "markdown",
   "metadata": {},
   "source": [
    "\n",
    "Notice that we did not use the keyword `virtual` inside these derived class; only inside the base. This is because a function needs only be defined as `virtual` once and in the base class. After that, no matter how many times a it is  inherited, it remains virtual.\n",
    "\n",
    "Let's now see what **virtual functions** do, starting with the following objects:"
   ]
  },
  {
   "cell_type": "code",
   "execution_count": null,
   "metadata": {},
   "outputs": [],
   "source": [
    "AnotherDerived1 ad1; \n",
    "AnotherDerived2 ad2_1, ad2_2;"
   ]
  },
  {
   "cell_type": "markdown",
   "metadata": {},
   "source": [
    "First, let's call the `show()` function using the **dot operator**."
   ]
  },
  {
   "cell_type": "code",
   "execution_count": null,
   "metadata": {},
   "outputs": [],
   "source": [
    "ad1.show();\n",
    "ad2_1.show();\n",
    "ad2_2.show();"
   ]
  },
  {
   "cell_type": "markdown",
   "metadata": {},
   "source": [
    "This worked as expected. Let's see what happens when `Base` pointers are used. "
   ]
  },
  {
   "cell_type": "code",
   "execution_count": null,
   "metadata": {},
   "outputs": [],
   "source": [
    "AnotherBase* abptr; \n",
    "abptr = &ad1; \n",
    "abptr->show();\n",
    "abptr = &ad2_1; \n",
    "abptr->show();"
   ]
  },
  {
   "cell_type": "markdown",
   "metadata": {},
   "source": [
    "Now the correct `show()` function is called based on the actual object. This is **late binding** in action. \n",
    "\n",
    "Let's try the same thing, but  with a `Base` reference:"
   ]
  },
  {
   "cell_type": "code",
   "execution_count": null,
   "metadata": {},
   "outputs": [],
   "source": [
    "AnotherBase& abref = ad2_2;\n",
    "abref.show();"
   ]
  },
  {
   "cell_type": "markdown",
   "metadata": {},
   "source": [
    "The correct `show()` function is being called and **late binding** worked here as well.\n",
    "\n",
    "To summarize, A **virtual function**:\n",
    "* is a member function that is declared as `virtual' in a base class and redefined (or overridden) by one or more derived classes.\n",
    "* works like a *normal* non-virtual function when accessed by the **dot operator**.\n",
    "* supports **late binding** as opposed to **early binding** when accessed via a pointer or a reference.\n",
    "\n",
    "### CODING CHALLENGE\n",
    "**PART 1**: Define a class named `Rectangle` with four data members:\n",
    "* two integers x and y for the coordinates of the upper left corner.\n",
    "* two integers width and height for its width and height.\n",
    "\n",
    "This class should have a constructor that takes four arguments one for each of its data members. It should also have a virtual function named `getName()` that returns the string `\"Rectangle\"` and a virtual destructor.\n",
    "\n",
    "**PART 2**: Knowing that a square is a rectangle whose width and height are the same, define a class names `Square` that inherits from `Rectangle` This class should have a constructor that takes three arguments (x, y, and width) and delegates initialization to the `Rectangle` constructor. It should also override the `getName()` function by returning the string `\"Square\"`."
   ]
  },
  {
   "cell_type": "code",
   "execution_count": 2,
   "metadata": {},
   "outputs": [],
   "source": [
    "//TODO: The Rectangle class\n",
    "\n",
    "class Rectangle{\n",
    "    private:\n",
    "        int x;\n",
    "        int y;\n",
    "        int width;\n",
    "        int height;\n",
    "    public: \n",
    "        Rectangle(int x, int y, int w, int h): x(x), y(y), width(w), height(h){}\n",
    "    virtual string getName(){\n",
    "        return \"Rectangle\";\n",
    "    }\n",
    "        virtual ~Rectangle(){}\n",
    "};"
   ]
  },
  {
   "cell_type": "code",
   "execution_count": 3,
   "metadata": {},
   "outputs": [],
   "source": [
    "//TODO: The Square class\n",
    "\n",
    "class Square: public Rectangle{\n",
    "    private:\n",
    "        int x;\n",
    "        int y;\n",
    "        int width;\n",
    "    public:\n",
    "        Square(int x, int y, int w): Rectangle(x, y, w, w){}\n",
    "    \n",
    "    string getName(){\n",
    "        return \"Square\";\n",
    "    }\n",
    "}"
   ]
  },
  {
   "cell_type": "markdown",
   "metadata": {},
   "source": [
    "### CODING CHALLENGE\n",
    "\n",
    "Create two objects: a rectangle and a square. Also, create a rectangle pointer named `rptr` and initialize it to `nullptr`. Then:\n",
    "\n",
    "* point the `rptr` pointer to the rectangle object and use it to call the `getName()` function.\n",
    "* point the `rptr` pointer to the square object and use it to call the `getName()` function."
   ]
  },
  {
   "cell_type": "code",
   "execution_count": 4,
   "metadata": {},
   "outputs": [
    {
     "name": "stdout",
     "output_type": "stream",
     "text": [
      "Rectangle\n",
      "Square\n"
     ]
    }
   ],
   "source": [
    "//TODO // HELP\n",
    "\n",
    "Square s(4, 4, 4);\n",
    "Rectangle r(4, 3, 2, 1);\n",
    "Rectangle* rptr = nullptr;\n",
    "    \n",
    "rptr = &r;\n",
    "cout << rptr->getName() << endl;\n",
    "rptr = &s;\n",
    "cout << rptr->getName() << endl;"
   ]
  },
  {
   "cell_type": "markdown",
   "metadata": {},
   "source": [
    "### CODING CHALLENGE\n",
    "\n",
    "Create another two objects: a rectangle and a square. Create a rectangle reference named `rref` and make it an alias to the square object. Use it to call the `getName()` function."
   ]
  },
  {
   "cell_type": "code",
   "execution_count": 5,
   "metadata": {},
   "outputs": [
    {
     "name": "stdout",
     "output_type": "stream",
     "text": [
      "Square\n"
     ]
    }
   ],
   "source": [
    "//TODO\n",
    "\n",
    "Square s2(4, 4, 4);\n",
    "Rectangle r2(4, 3, 2, 1);\n",
    "\n",
    "Rectangle& rref = s2;\n",
    "\n",
    "cout << rref.getName() << endl;"
   ]
  },
  {
   "cell_type": "markdown",
   "metadata": {},
   "source": [
    "## Pure functions\n",
    "\n",
    "Finally, there is the notion of **pure virtual functions**, which are defined by having the `= 0` at the end of their prototypes. A **pure virtual function** is a function that has no actual definition within the class that declares it; only the prototype is provided. This makes any class declaring one or more pure function **an abstract class**. which is a class whose implementation is not complete and therefore cannot be used to create objects. \n",
    "\n",
    "Here is an example abstract class."
   ]
  },
  {
   "cell_type": "code",
   "execution_count": null,
   "metadata": {},
   "outputs": [],
   "source": [
    "class SomeClass {\n",
    "public:\n",
    "    virtual void print() = 0; // a pure function\n",
    "};"
   ]
  },
  {
   "cell_type": "markdown",
   "metadata": {},
   "source": [
    "Having a **pure virtual function** makes this class **abstract**, which means it is not complete (or concrete) and cannot, therefore, be used to create objects. For example, the following statement throws a compilation error. Run it to see these errors."
   ]
  },
  {
   "cell_type": "code",
   "execution_count": null,
   "metadata": {},
   "outputs": [],
   "source": [
    "SomeClass sc;"
   ]
  },
  {
   "cell_type": "markdown",
   "metadata": {},
   "source": [
    "To summarize, **abstract classes** are meant to be subclassed or inherited by other classes. Their **pure functions** are like holes that make them incomplete and unfit to be used for creating objects."
   ]
  },
  {
   "cell_type": "code",
   "execution_count": null,
   "metadata": {},
   "outputs": [],
   "source": []
  }
 ],
 "metadata": {
  "kernelspec": {
   "display_name": "C++17",
   "language": "C++17",
   "name": "xcpp17"
  },
  "language_info": {
   "codemirror_mode": "text/x-c++src",
   "file_extension": ".cpp",
   "mimetype": "text/x-c++src",
   "name": "c++",
   "version": "-std=c++17"
  }
 },
 "nbformat": 4,
 "nbformat_minor": 2
}
