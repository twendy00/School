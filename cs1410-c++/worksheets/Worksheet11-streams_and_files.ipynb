{
 "cells": [
  {
   "cell_type": "markdown",
   "metadata": {},
   "source": [
    "# Streams and Files\n",
    "\n",
    "A stream is a flow of data into or out of a program. It is a metaphor to help visualize data produced by and/or consumed by a program. When data flows into a program we call that an input stream and when data flows out of a program we call it an output stream. \n",
    "\n",
    "Streams are ubiquitous in C++ and we have been using them since the very beginning with our use of `cout`  which is an output stream  `cin` which is an input stream  \n",
    "\n",
    "In addition to the standard output stream `cout`, C++ has a standard error stream named `cerr`, which is used to report errors. Compare the following two output messages: one using `cout` and the other using `cerr`."
   ]
  },
  {
   "cell_type": "code",
   "execution_count": null,
   "metadata": {},
   "outputs": [],
   "source": [
    "#include <iostream>\n",
    "#include <iomanip>\n",
    "#include <string>\n",
    "#include <cmath>\n",
    "using namespace std;"
   ]
  },
  {
   "cell_type": "code",
   "execution_count": null,
   "metadata": {},
   "outputs": [],
   "source": [
    "cout << \"Welcome to C++\";\n",
    "cerr << \"An error has happened\";"
   ]
  },
  {
   "cell_type": "markdown",
   "metadata": {},
   "source": [
    "Here is the hierarchy of the most popular streams in C++. \n",
    "\n",
    "```text\n",
    "                   ios_base\n",
    "                      △\n",
    "                      |\n",
    "                      |\n",
    "        +----------▷ ios ◁------------+    \n",
    "        |                              |\n",
    "        |                              |\n",
    "     istream ◁------+    +------▷ ostream \n",
    "        △           \\   /             △\n",
    "        |            \\  /              |\n",
    "        |             \\/               |\n",
    "     ifstream      iostream        ofstream\n",
    "                    △   △\n",
    "                    |    |\n",
    "           +--------+    +--------+\n",
    "           |                      |\n",
    "        fstream             stringstream\n",
    "``` \n",
    "\n",
    "As you can see, `ios_base` is the grandparent of all stream classes. It is subclassed by the `ios` class, which stands for input-output-stream and has nothing to do with the iOS operating system from Apple. The `ios` class is the parent of both the `istream`, which is the input stream class of `cin`, and the `ostream`, which is the output stream class of `cout` and `cerr`. `iostream` is an example of multiple inheritances with its two parents `istream` and `ostream`. All of these classes are for the standard input and output (keyboard and console screen). \n",
    "\n",
    "For working with files, we have three streams: the input file stream `ifstream` for reading data from a file, the output file stream `ofstream` for writing data to a file, and the input and output file stream `fstream` for reading data from and writing data to the same file. \n",
    "\n",
    "Going down the hierarchy, we can also see that the `stringstream` class is both an input and an output stream.\n",
    "\n",
    "Having a hierarchy like this showcases the importance object-oriented programming, brings simplicity and consistency to how we handle input and output, and makes working with file and string streams identical to using `cout` and `cin`.\n",
    "\n",
    "To get started working with files, we must first include the `<fstream>` header file."
   ]
  },
  {
   "cell_type": "code",
   "execution_count": null,
   "metadata": {},
   "outputs": [],
   "source": [
    "#include <fstream>"
   ]
  },
  {
   "cell_type": "markdown",
   "metadata": {},
   "source": [
    "## Writing to a file\n",
    "\n",
    "To write to a file we use the `ofstream` class. Here is a simple example of writing the string `\"Hello, World!\"` to a text file named `hello.txt`. "
   ]
  },
  {
   "cell_type": "code",
   "execution_count": null,
   "metadata": {},
   "outputs": [],
   "source": [
    "ofstream out(\"hello.txt\");\n",
    "\n",
    "out << \"Hello World!\" << endl;\n",
    "\n",
    "out.close();"
   ]
  },
  {
   "cell_type": "markdown",
   "metadata": {},
   "source": [
    "As you can see, creating a file involves nothing more than creating an object of the `ofstream` and passing the name of the file as an argument to its constructor. We called this object `out` but it could be any valid C++ identifier. Having done that, the variable `out` is now an output stream just like `cout` is, and we can use it exactly the same way. \n",
    "\n",
    "And when we are done writing to the file, it is important to close the file by calling `out.close()`.\n",
    "\n",
    "After running the code above, go to the folder where this worksheet is saved, you will find a file named `hello.txt` in there. This file did not exist before and was created by running the above cell code. Open it to see its contents.\n",
    "\n",
    "## Appending text to an existing file\n",
    "\n",
    "If you have an existing file that you want to add contents to, you can open it in the same way as before except for adding the extra constructor argument (`ios::app`) to tell C++ to append to the file if it exists instead of writing over it. Since we already have the `hello.txt` file from the example above, let us open this file and append some new text to it. Here we'll prompt the user for a name, read that name from the standard input, and then append the line `\"Welcome <name> to C++ programming!\"` to the end of the file. Run the following code cell and then open the `hello.txt` file again to make sure that it now has the appended new text line at the end."
   ]
  },
  {
   "cell_type": "code",
   "execution_count": null,
   "metadata": {},
   "outputs": [],
   "source": [
    "cout << \"Enter your first name: \";\n",
    "string name;\n",
    "cin >> name;\n",
    "\n",
    "ofstream out2(\"hello.txt\", ios::app);\n",
    "out2 << \"Welcome \" << name << \" to C++ programming!\" << endl;\n",
    "out2.close();"
   ]
  },
  {
   "cell_type": "markdown",
   "metadata": {},
   "source": [
    "### CODING CHALLENGE\n",
    "\n",
    "In the code cell below, write a program that prompts the user for words, reads these words from the keyboard, and saves them one word per line to a file named `words.txt`"
   ]
  },
  {
   "cell_type": "code",
   "execution_count": null,
   "metadata": {},
   "outputs": [],
   "source": [
    "//TODO\n",
    "\n",
    "cout << \"Enter some words: \";\n",
    "string words;\n",
    "cin >> words;\n",
    "\n",
    "ofstream o(\"words.txt\", ios::app);\n",
    "o << words << endl;\n",
    "o.close();"
   ]
  },
  {
   "cell_type": "markdown",
   "metadata": {},
   "source": [
    "### CODING CHALLENGE\n",
    "\n",
    "In the code cell below, write a program that prompts the user for two more words, reads these two words from the keyboard, and saves them one word per line at the bottom the `words.txt` file that was created by the previous coding challenge."
   ]
  },
  {
   "cell_type": "code",
   "execution_count": null,
   "metadata": {},
   "outputs": [],
   "source": [
    "//TODO\n",
    "cout << \"Enter two more words: \";\n",
    "string w;\n",
    "\n",
    "for (int i = 0; i < 2; i++) {\n",
    "    cin >> w;\n",
    "    \n",
    "    ofstream o(\"words.txt\", ios::app);\n",
    "    o << w << endl;\n",
    "    o.close();\n",
    "}"
   ]
  },
  {
   "cell_type": "markdown",
   "metadata": {},
   "source": [
    "## Using `setw` to organize file output into tables\n",
    "\n",
    "Because  `ofstream` is an output stream, we can use `setw` with it just like we did with `cout`. The code cell below uses `setw` to generate a data table like this and save it into a file named `multable.txt`:\n",
    "\n",
    "| x | 2 * x | 3 * x | 4 * x | 5 * x |\n",
    "| - | ----- | ----- | ----- | ----- |\n",
    "| 1 | 2     | 3     | 4     | 5     |\n",
    "| 2 | 4     | 6     | 8     | 10    |\n",
    "| 3 | 6     | 9     | 12    | 15    |\n",
    "| 4 | 8     | 12    | 16    | 20    |\n",
    "| 5 | 10    | 15    | 20    | 25    |"
   ]
  },
  {
   "cell_type": "code",
   "execution_count": null,
   "metadata": {},
   "outputs": [],
   "source": [
    "ofstream mt_out(\"multable.txt\");\n",
    "mt_out << setw(4) << \"x\" << setw(6) << \"2*x\" << setw(6) <<\"3*x\" << setw(6) <<\"4*x\" << setw(6) << \"5*x\" << endl;\n",
    "for(int x = 1; x <= 5; x++){\n",
    "  mt_out << setw(4) << x;\n",
    "  for(int y = 2; y <= 5; y++){\n",
    "      mt_out << setw(6) << x * y;\n",
    "  }\n",
    "  \n",
    "  mt_out << endl;\n",
    "}\n",
    "mt_out.close();"
   ]
  },
  {
   "cell_type": "markdown",
   "metadata": {},
   "source": [
    "Under the folder where this worksheet is saved, there should be a file named `multable.txt`. Open it to see its formatted table-like contents."
   ]
  },
  {
   "cell_type": "markdown",
   "metadata": {},
   "source": [
    "### CODING CHALLENGE\n",
    "\n",
    "In the code cell below, write a program that prompts the user for a year (say 2019, for instance) and output a file named `daysNmonths.txt` containing a table of how many days in each month for that given year in a format like this:\n",
    "\n",
    "| YEAR | MONTH     | DAYS |\n",
    "| ---- | --------- | ---- |\n",
    "| 2019 | January   | 31   |\n",
    "| 2019 | February  | 28   |\n",
    "| 2019 | March     | 31   |\n",
    "| 2019 | April     | 30   |\n",
    "| 2019 | May       | 31   |\n",
    "| 2019 | June      | 30   |\n",
    "| 2019 | July      | 31   |\n",
    "| 2019 | August    | 31   |\n",
    "| 2019 | September | 30   |\n",
    "| 2019 | October   | 31   |\n",
    "| 2019 | November  | 30   |\n",
    "| 2019 | December  | 31   |\n",
    "\n",
    "Remember that February has 29 on leap years and 28 days on other years. A leap year is a year that is divisible by 4 and is not divisible by 100. That is:"
   ]
  },
  {
   "cell_type": "code",
   "execution_count": null,
   "metadata": {},
   "outputs": [],
   "source": [
    "//TODO\n",
    "#include <array>\n",
    "\n",
    "cout << \"Enter a year:\";\n",
    "long int year;\n",
    "string month[] = {\"January\", \"February\", \"March\", \"April\", \"May\", \"June\", \"July\", \"August\", \"September\", \"October\", \"November\", \"December\"};\n",
    "int days[] = {31, 28, 31, 30, 31, 30, 31, 31, 30, 31, 30, 31};\n",
    "cin >> year;\n",
    "\n",
    "if (year % 4 == 0){\n",
    "    days[1] = 29;\n",
    "} else {\n",
    "    days[1] = 28;\n",
    "}\n",
    "\n",
    "ofstream out(\"daysNmonths.txt\", ios::app);\n",
    "out << setw(6) << \"YEAR\" << setw(12) << \"MONTH\" << setw(8) << \"DAYS\" << endl;\n",
    "for (int i=0; i<12; i++){\n",
    "    out << setw(6) << year << setw(12) << month[i] << setw(8) << days[i] << endl;\n",
    "}\n",
    "\n",
    "out.close();"
   ]
  },
  {
   "cell_type": "markdown",
   "metadata": {},
   "source": [
    "## Reading from a file\n",
    "\n",
    "Reading from a text file is simple too. It starts with creating an `ifstream` object and passing the name of the file we want to read from as argument to its constructor. The file we are trying to read must exist already. This new input file stream object can then used in the same way we use `cin`, because both of them are input streams.\n",
    "\n",
    "Here is an example program reading the contents of the previously created `multable.txt` file line by line and displaying them to the screen."
   ]
  },
  {
   "cell_type": "code",
   "execution_count": null,
   "metadata": {},
   "outputs": [],
   "source": [
    "ifstream in(\"multable.txt\");\n",
    "string line;\n",
    "\n",
    "while(getline(in, line)){\n",
    "    cout << line << endl;\n",
    "}\n",
    "\n",
    "in.close();"
   ]
  },
  {
   "cell_type": "markdown",
   "metadata": {},
   "source": [
    "Here, we use the `while` loop to make sure we read everything in the file, and we use the `getline()` function to read it line by line. Notice how we use the `getline(in, line)` as a condition for this loop. This `getline()` function will keep returning `true` until end of file is encountered.\n",
    "\n",
    "But what if, instead of reading this file line by line, we want to read it a value by value. To do this, we need to pay attention to the following:\n",
    "* the data type of each value. The header row is all strings while the subsequent rows are all integers.\n",
    "* how many values per row (5 in this example)\n",
    "\n",
    "Here is a simple program for doing that."
   ]
  },
  {
   "cell_type": "code",
   "execution_count": null,
   "metadata": {},
   "outputs": [],
   "source": [
    "ifstream mt_in(\"multable.txt\");\n",
    "string hx, h2x, h3x, h4x, h5x; // one per header; five headers total.\n",
    "int x, x2, x3, x4, x5; // one per value per row: five values per row total;\n",
    "\n",
    "// Read the headers\n",
    "mt_in >> hx >> h2x >> h3x >> h4x >> h5x;\n",
    "// Outout the headers\n",
    "cout << setw(4) << hx << setw(6) << h2x << setw(6) << h3x << setw(6) << h4x << setw(6) << h5x << endl;\n",
    "\n",
    "// Read and output the numbers one row at a time\n",
    "while(mt_in >> x >> x2 >> x3 >> x4 >> x5){\n",
    "    cout << setw(4) << x << setw(6) << x2 << setw(6) << x3 << setw(6) << x4 << setw(6) << x5 << endl;\n",
    "}\n",
    "\n",
    "mt_in.close();"
   ]
  },
  {
   "cell_type": "markdown",
   "metadata": {},
   "source": [
    "Notice how we but the `mt_in >> x >> x2 >> x3 >> x4 >> x5` expression as a condition to the `while` loop. This is, again, to instruct c++ to keep reading from the file until end of file is reached. When end of file is encountered, this expression will evaluate to `false` causing the while loop to terminate. \n",
    "\n",
    "### CODING CHALLENGE\n",
    "\n",
    "Write a program that reads the contents of the `daysNmonths.txt` file created by the previous coding challenge value by value and displays only the second and third columns to the screen."
   ]
  },
  {
   "cell_type": "code",
   "execution_count": null,
   "metadata": {},
   "outputs": [],
   "source": [
    "//TODO\n",
    "\n",
    "ifstream i(\"daysNmonths.txt\");\n",
    "string d1, d2, d3; \n",
    "int y, d;\n",
    "string m;\n",
    "\n",
    "\n",
    "i >> d1 >> d2 >> d3;\n",
    "\n",
    "cout << setw(6) << d1 << setw(12) << d2 << setw(8) << d3 << endl;\n",
    "\n",
    "while(i >> y >> m >> d){\n",
    "    cout << setw(6) << y << setw(12) << m << setw(8) << d << endl;\n",
    "}\n",
    "\n",
    "i.close();"
   ]
  },
  {
   "cell_type": "markdown",
   "metadata": {},
   "source": [
    "## Working with errors\n",
    "\n",
    "Working with files can result in errors, We might be trying to read from a file the does not exist or write to a file that we don't have permission to write to. All stream objects come with error states that we can check to make sure that these streams are in good condition. We can use the `eof()` function to check if the end of file has been reached. We can use the `fail()` function to see if the attempted stream operation fails. Similarly, the `bad()` function can be called to check if an invalid operation was attempted and the `good()` function can be used to make sure the stream is in good condition.\n",
    "\n",
    "Here is an example program using the error-checking functions above to read and display the contents of the previously created `hello.txt` file. First, we changed the while loop condition to the `eof()` function instead. This means keep reading data from the input file as long as it is not end of file. Second, we make sure that the stream is in good condition using the `good()` function before we printed out the results."
   ]
  },
  {
   "cell_type": "code",
   "execution_count": null,
   "metadata": {},
   "outputs": [],
   "source": [
    "ifstream h_in(\"hello.txt\");\n",
    "string text;\n",
    "while(!h_in.eof()){\n",
    "    getline(h_in, text);\n",
    "    if(h_in.good()){\n",
    "         cout << text << endl;\n",
    "    }\n",
    "}\n",
    "h_in.close();"
   ]
  },
  {
   "cell_type": "markdown",
   "metadata": {},
   "source": [
    "## Output manipulators\n",
    "\n",
    "To support streams, C++ provides many manipulators to control and format the data that goes into these streams.  One such manipulator is the `setw` manipulator we have been using all along. But `setw` is not the only manipulator we can use. There are many more manipulators to take advantage of and all these manipulators require the header file `<iomanip>`. \n",
    "\n",
    "To start, we can use `setfill` to change the fill character used by `setw` to something other than the space character, which is the default. This manipulator takes a single filling character as an argument. Here is an example using the `setfill` manipulator to replace the spaces in the previous multiplication table with periods `.`. Notice how, unlike `setw`, we only had to call `setfill` once; subsequent `setw` calls will use the new filling character.\n",
    "\n",
    "Run the following code cell multiple times and each time change the fill character to something else."
   ]
  },
  {
   "cell_type": "code",
   "execution_count": null,
   "metadata": {
    "scrolled": true
   },
   "outputs": [],
   "source": [
    "cout << setfill('.');\n",
    "cout << setw(4) << \"x\" << setw(6) << \"2*x\" << setw(6) <<\"3*x\" << setw(6) <<\"4*x\" << setw(6) << \"5*x\" << endl;\n",
    "for(int x = 1; x <= 5; x++){\n",
    "  cout << setw(4) << x;\n",
    "  for(int y = 2; y <= 5; y++){\n",
    "      cout << setw(6) << x * y;\n",
    "  }\n",
    "  \n",
    "  cout << endl;\n",
    "}"
   ]
  },
  {
   "cell_type": "markdown",
   "metadata": {},
   "source": [
    "To go back to using spaces, we call `setfill(' ')`:"
   ]
  },
  {
   "cell_type": "code",
   "execution_count": null,
   "metadata": {},
   "outputs": [],
   "source": [
    "cout << setfill(' ');"
   ]
  },
  {
   "cell_type": "markdown",
   "metadata": {},
   "source": [
    "We can also use the `fixed` and `setprecision`  manipulators to format `double` and/or `float` numbers. `fixed` instructs C++ to display numbers in fixed-point notation (using the decimal point). `setprecision`, on the other hand, sets the precision of the numbers. It takes an integer argument which can mean one of two things depending on whether the manipulator `fixed` is also used :\n",
    "* If `fixed` is not used, it specifies the number of digits to display including both the digits before and after the point.\n",
    "* If `fixed` is used, it specifies the number of decimal points after the point. \n",
    "\n",
    "The cell code below displays, in a table, the numbers 1 through 10 along with their square roots; no `setprecision` and no `fixed` yet. Notice that to use the `sqrt()` function for calculating the square root, we need to include the `<cmath>` header file."
   ]
  },
  {
   "cell_type": "code",
   "execution_count": null,
   "metadata": {
    "scrolled": true
   },
   "outputs": [],
   "source": [
    "for(double i = 1; i <= 10; i++) {\n",
    "    cout << setw(3) << i << \": \" << setw(10) << sqrt(i) << endl;\n",
    "}"
   ]
  },
  {
   "cell_type": "markdown",
   "metadata": {},
   "source": [
    "Here is the code above with precision set to 4; no `fixed`."
   ]
  },
  {
   "cell_type": "code",
   "execution_count": null,
   "metadata": {},
   "outputs": [],
   "source": [
    "cout << setprecision(4);\n",
    "for(double i = 1; i <= 10; i++) {\n",
    "    cout << setw(3) << i << \": \" << setw(10) << sqrt(i) << endl;\n",
    "}"
   ]
  },
  {
   "cell_type": "markdown",
   "metadata": {},
   "source": [
    "Here is the code above using `fixed` and with precision set to 4. "
   ]
  },
  {
   "cell_type": "code",
   "execution_count": null,
   "metadata": {
    "scrolled": true
   },
   "outputs": [],
   "source": [
    "cout << setprecision(4) << fixed;\n",
    "for(double i = 1; i <= 10; i++) {\n",
    "    cout << setw(3) << i << \": \" << setw(10) << sqrt(i) << endl;\n",
    "}"
   ]
  },
  {
   "cell_type": "markdown",
   "metadata": {},
   "source": [
    "Now all numbers have exactly 4 decimal places. To turn `fixed` off, we call:"
   ]
  },
  {
   "cell_type": "code",
   "execution_count": null,
   "metadata": {},
   "outputs": [],
   "source": [
    "cout << resetiosflags(ios::fixed);"
   ]
  },
  {
   "cell_type": "markdown",
   "metadata": {},
   "source": [
    "Unless the precision changes for one number to the next, we only needed to call `setprecision` once. Here is another example where we display the square root of 2 in increasing precisions."
   ]
  },
  {
   "cell_type": "code",
   "execution_count": null,
   "metadata": {
    "scrolled": true
   },
   "outputs": [],
   "source": [
    "for(int i = 1; i <= 10; i++) {\n",
    "    cout << setw(3) << i << setw(15) << setprecision(i) << sqrt(2.0) << endl;\n",
    "}"
   ]
  },
  {
   "cell_type": "markdown",
   "metadata": {},
   "source": [
    "By default, the columns above are right-aligned. We can use the manipulators `left` and `right` to change that. Here is the example above with left-aligned columns."
   ]
  },
  {
   "cell_type": "code",
   "execution_count": null,
   "metadata": {},
   "outputs": [],
   "source": [
    "cout << left;\n",
    "for(int i = 1; i <= 10; i++) {\n",
    "    cout << setw(3) << i << setw(15) << setprecision(i) << sqrt(2.0) << endl;\n",
    "}"
   ]
  },
  {
   "cell_type": "markdown",
   "metadata": {},
   "source": [
    "To switch back to right-alignment we use the `right` manipulator."
   ]
  },
  {
   "cell_type": "code",
   "execution_count": null,
   "metadata": {
    "scrolled": true
   },
   "outputs": [],
   "source": [
    "cout << right;\n",
    "for(int i = 1; i <= 10; i++) {\n",
    "    cout << setw(3) << i << setw(15) << setprecision(i) << sqrt(2.0) << endl;\n",
    "}"
   ]
  },
  {
   "cell_type": "markdown",
   "metadata": {},
   "source": [
    "Moreover, we can use the `dec`, `oct`, and `hex` manipulators to display integers in **decimal**, **octal**, and **hexadecimal** formats respectively.  Here is an example displaying the integers 1 through 20 in decimal, octal, lowercase hexadecimal, and uppercase hexadecimal formats. "
   ]
  },
  {
   "cell_type": "code",
   "execution_count": null,
   "metadata": {
    "scrolled": true
   },
   "outputs": [],
   "source": [
    "cout << left << setw(6) << \"DEC\"\n",
    "     << setw(6) << \"OCT\"\n",
    "     << setw(6) << \"hex\"\n",
    "     << setw(6) << \"HEX\" << endl;\n",
    "\n",
    "for(int i = 1; i <= 20; i += 2){\n",
    "  cout << setw(6) << dec << i\n",
    "       << setw(6) << oct << i\n",
    "       << setw(6) << nouppercase << hex << i\n",
    "       << setw(6) << uppercase << hex << i << endl;\n",
    "}"
   ]
  },
  {
   "cell_type": "markdown",
   "metadata": {},
   "source": [
    "Notice that the `uppercase` and `nouppercase` manipulators are not for converting arbitrary strings to uppercase or lowercase. They are rather for changing the letters in the hexadecimal number system to uppercase or lowercase, respectively. \n",
    "\n",
    "It is important to finally remember that all these manipulators work the same for any output stream regardless of whether it is a standard output stream like `cout`,  an output file stream, or even a stringstream. Such consistency across all streams is extremely important and useful.\n",
    "\n",
    "### CODING CHALLENGE\n",
    "\n",
    "Write a program that writes the above decimal/octal/hexadecimal table to a file named `numbers.txt`."
   ]
  },
  {
   "cell_type": "code",
   "execution_count": null,
   "metadata": {},
   "outputs": [],
   "source": [
    "//TODO\n",
    "\n",
    "ofstream o(\"numbers.txt\", ios::app);\n",
    "o << left << setw(6) << \"DEC\"\n",
    "     << setw(6) << \"OCT\"\n",
    "     << setw(6) << \"hex\"\n",
    "     << setw(6) << \"HEX\" << endl;\n",
    "\n",
    "for(int i = 1; i <= 20; i += 2){\n",
    "  o << setw(6) << dec << i\n",
    "       << setw(6) << oct << i\n",
    "       << setw(6) << nouppercase << hex << i\n",
    "       << setw(6) << uppercase << hex << i << endl;\n",
    "}\n",
    "\n",
    "o.close();"
   ]
  },
  {
   "cell_type": "markdown",
   "metadata": {},
   "source": [
    "## Putting it all together\n",
    "\n",
    "Let's have a final example that shows how to combine as many of these manipulators as possible. In this example, we have the following structure that represents digital colors. A digital color has three components: red, green, and blue. Each of these components takes a value between 0 and 255. We also define an array of the seven colors of the rainbow."
   ]
  },
  {
   "cell_type": "code",
   "execution_count": null,
   "metadata": {},
   "outputs": [],
   "source": [
    "struct Color {\n",
    "    int r, g, b;\n",
    "    string name;\n",
    "};\n",
    "\n",
    "Color rainbow[] = {\n",
    "    {255, 0, 0, \"Red\"},\n",
    "    {255, 127, 0, \"Orange\"},\n",
    "    {255, 255, 0, \"Yello\"},\n",
    "    {0, 255, 0, \"Green\"},\n",
    "    {0, 0, 255, \"Blue\"},\n",
    "    {75, 0, 130, \"Indigo\"},\n",
    "    {143, 0, 255, \"Violet\"}\n",
    "};"
   ]
  },
  {
   "cell_type": "markdown",
   "metadata": {},
   "source": [
    "Here is a loop that displays these colors with their decimal and hexadecimal representations in the following format.\n",
    "\n",
    "```text\n",
    "COLOR      DECIMAL(rgb)          HEXADECIMAL(rgb)\n",
    "========== ===================== ================ \n",
    "Red....... 255   0   0 ......... FF 0  0  \n",
    "Orange.... 255 127   0 ......... FF 7F 0  \n",
    "Yello..... 255 255   0 ......... FF FF 0  \n",
    "Green.....   0 255   0 ......... 0  FF 0  \n",
    "Blue......   0   0 255 ......... 0  0  FF \n",
    "Indigo....  75   0 130 ......... 4B 0  82 \n",
    "Violet.... 143   0 255 ......... 8F 0  FF \n",
    "```"
   ]
  },
  {
   "cell_type": "code",
   "execution_count": null,
   "metadata": {},
   "outputs": [],
   "source": [
    "\n",
    "cout << left << setw(10) << \"COLOR\" << ' ' << setw(11) \n",
    "     << \"DECIMAL(rgb)\" << setw(10) << ' ' << setw(8) << \"HEXADECIMAL(rgb)\" << endl;\n",
    "cout << right << setfill('=') << setw(11) << \"= \" \n",
    "     << setfill('=') << setw(22) << \"= \" \n",
    "     << setfill('=') << setw(17) << \"= \" << endl;\n",
    "\n",
    "for(Color c : rainbow){\n",
    "    cout << left << setfill('.') << setw(10) << c.name << ' '\n",
    "         << dec << setfill(' ') << right << setw(3) << c.r // Decimal\n",
    "         << right << setw(4) << c.g\n",
    "         << right << setw(4) << c.b << ' '\n",
    "         << hex << setfill('.') << right << setw(10) << ' ' << setfill(' ') <<  left << setw(3) << c.r // Hexadecimal\n",
    "         << setfill(' ') << setw(3) << c.g\n",
    "         << setw(3) << c.b\n",
    "         << endl;\n",
    "}"
   ]
  },
  {
   "cell_type": "markdown",
   "metadata": {},
   "source": [
    "Notice that the color names and the decimal numbers are right-aligned while the hexadecimal numbers are left-aligned.\n",
    "\n",
    "### CODING CHALLENGE\n",
    "Copy the code cell above to the code cell below and refactor it such that:\n",
    "* the `.` filling characters are replaced by underscores `_`.\n",
    "* the alignment of the decimal numbers is changed to left.\n",
    "* the alignment of the hexadecimal numbers is changed to right."
   ]
  },
  {
   "cell_type": "code",
   "execution_count": null,
   "metadata": {},
   "outputs": [],
   "source": [
    "//TODO\n",
    "\n",
    "cout << left << setw(10) << \"COLOR\" << ' ' << setw(11) \n",
    "     << \"DECIMAL(rgb)\" << setw(10) << ' ' << setw(8) << \"HEXADECIMAL(rgb)\" << endl;\n",
    "cout << right << setfill('=') << setw(11) << \"= \" \n",
    "     << setfill('=') << setw(22) << \"= \" \n",
    "     << setfill('=') << setw(17) << \"= \" << endl;\n",
    "\n",
    "for(Color c : rainbow){\n",
    "    cout << left << setfill('_') << setw(10) << c.name << ' '\n",
    "         << dec << setfill(' ') << left << setw(3) << c.r // Decimal\n",
    "         << left << setw(4) << c.g\n",
    "         << left << setw(4) << c.b << ' '\n",
    "         << hex << setfill('_') << right << setw(10) << ' ' << setfill(' ') <<  right << setw(3) << c.r // Hexadecimal\n",
    "         << setfill(' ') << setw(3) << c.g\n",
    "         << setw(3) << c.b\n",
    "         << endl;\n",
    "}"
   ]
  },
  {
   "cell_type": "markdown",
   "metadata": {},
   "source": [
    "### CODING CHALLENGE\n",
    "\n",
    "Refactor the code of the previous coding challenge to save the output to a file named `rainbow.txt` instead of printing it to the console."
   ]
  },
  {
   "cell_type": "code",
   "execution_count": null,
   "metadata": {},
   "outputs": [],
   "source": [
    "//TODO\n",
    "\n",
    "ofstream out2(\"rainbow.txt\", ios::app);\n",
    "\n",
    "out2 << left << setw(10) << \"COLOR\" << ' ' << setw(11) \n",
    "     << \"DECIMAL(rgb)\" << setw(10) << ' ' << setw(8) << \"HEXADECIMAL(rgb)\" << endl;\n",
    "out2 << right << setfill('=') << setw(11) << \"= \" \n",
    "     << setfill('=') << setw(22) << \"= \" \n",
    "     << setfill('=') << setw(17) << \"= \" << endl;\n",
    "\n",
    "for(Color c : rainbow){\n",
    "    out2 << left << setfill('_') << setw(10) << c.name << ' '\n",
    "         << dec << setfill(' ') << left << setw(3) << c.r // Decimal\n",
    "         << left << setw(4) << c.g\n",
    "         << left << setw(4) << c.b << ' '\n",
    "         << hex << setfill('_') << right << setw(10) << ' ' << setfill(' ') <<  right << setw(3) << c.r // Hexadecimal\n",
    "         << setfill(' ') << setw(3) << c.g\n",
    "         << setw(3) << c.b\n",
    "         << endl;\n",
    "}\n",
    "\n",
    "out2.close();"
   ]
  },
  {
   "cell_type": "code",
   "execution_count": null,
   "metadata": {},
   "outputs": [],
   "source": []
  }
 ],
 "metadata": {
  "kernelspec": {
   "display_name": "C++17",
   "language": "C++17",
   "name": "xcpp17"
  },
  "language_info": {
   "codemirror_mode": "text/x-c++src",
   "file_extension": ".cpp",
   "mimetype": "text/x-c++src",
   "name": "c++",
   "version": "-std=c++17"
  }
 },
 "nbformat": 4,
 "nbformat_minor": 2
}
