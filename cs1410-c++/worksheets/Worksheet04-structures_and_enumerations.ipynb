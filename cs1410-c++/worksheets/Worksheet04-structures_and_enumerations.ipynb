{
 "cells": [
  {
   "cell_type": "markdown",
   "metadata": {},
   "source": [
    "# Structures\n",
    "C++ gives us two main ways to create new data types out of other simpler types: **structures** and **classes**. Structures are meant to help us achieve a better organization of our data or variables by grouping relative variables together to form or create new data types. For example, a date can be thought of as a composite of three simple integers: year, month, and day. We capture that idea by having a structure like this:"
   ]
  },
  {
   "cell_type": "code",
   "execution_count": null,
   "metadata": {},
   "outputs": [],
   "source": [
    "struct Date {\n",
    "  int day;\n",
    "  int month;\n",
    "  int year;\n",
    "};"
   ]
  },
  {
   "cell_type": "markdown",
   "metadata": {},
   "source": [
    "By combining these three integers (which we now call members) together we create a new kind of data named `date`, which we can use to create date variables.\n",
    "\n",
    "### CODING CHALLENGE\n",
    "Define a structure that represents time which is a combination of three integers: hour, minute, and second."
   ]
  },
  {
   "cell_type": "code",
   "execution_count": null,
   "metadata": {},
   "outputs": [],
   "source": [
    "//TODO\n",
    "struct Time {\n",
    "    int hour;\n",
    "    int minute;\n",
    "    int second;\n",
    "};"
   ]
  },
  {
   "cell_type": "markdown",
   "metadata": {},
   "source": [
    "Here is another example, but this time we are using one structure `Distance` to define another more complex structure `Room`."
   ]
  },
  {
   "cell_type": "code",
   "execution_count": null,
   "metadata": {},
   "outputs": [],
   "source": [
    "struct Distance {\n",
    "  int feet;\n",
    "  double inches;\n",
    "};\n",
    "\n",
    "struct Room {\n",
    "  Distance length;\n",
    "  Distance width;\n",
    "};"
   ]
  },
  {
   "cell_type": "markdown",
   "metadata": {},
   "source": [
    "# Structure variables\n",
    "Once we have a structure defined. we can use it to define structure variables (or objects). Here are example variables of the structures we saw earlier."
   ]
  },
  {
   "cell_type": "code",
   "execution_count": null,
   "metadata": {},
   "outputs": [],
   "source": [
    "Date mlk;\n",
    "Distance roomLength, roomWidth;\n",
    "Room living;"
   ]
  },
  {
   "cell_type": "markdown",
   "metadata": {},
   "source": [
    "We now can use the **dot operator** to read or write the values of these structures' members. For example, given the date variable `mlk`, here is how to set values for its day, month, and year members."
   ]
  },
  {
   "cell_type": "code",
   "execution_count": null,
   "metadata": {},
   "outputs": [],
   "source": [
    "mlk.day = 15;\n",
    "mlk.month = 1;\n",
    "mlk.year = 2019;"
   ]
  },
  {
   "cell_type": "markdown",
   "metadata": {},
   "source": [
    "And there is even a better way to initialize a structure variable at the time of its definition: by using a comma-separated brace-enclosed list like this."
   ]
  },
  {
   "cell_type": "code",
   "execution_count": null,
   "metadata": {},
   "outputs": [],
   "source": [
    "Date mlk_day = {15, 1, 2019};"
   ]
  },
  {
   "cell_type": "markdown",
   "metadata": {},
   "source": [
    "Now we can access the members of this variable using the **dot operator**."
   ]
  },
  {
   "cell_type": "code",
   "execution_count": null,
   "metadata": {},
   "outputs": [],
   "source": [
    "#include <iostream>\n",
    "using namespace std;\n",
    "\n",
    "cout << mlk_day.year << '-' << mlk_day.month << '-' << mlk_day.day << endl;"
   ]
  },
  {
   "cell_type": "markdown",
   "metadata": {},
   "source": [
    "And for complex structures like `Room` where we have substructures (like `Distance`), we can define and intialize rooms like this:"
   ]
  },
  {
   "cell_type": "code",
   "execution_count": null,
   "metadata": {},
   "outputs": [],
   "source": [
    "Room bedroom = { { 12, 4}, { 16, 0} };\n",
    "\n",
    "cout << \"length = \" << bedroom.length.feet << \"' \" << bedroom.length.inches << '\"' << endl;\n",
    "cout << \"width = \" << bedroom.width.feet << \"' \" << bedroom.width.inches << '\"' << endl;"
   ]
  },
  {
   "cell_type": "markdown",
   "metadata": {},
   "source": [
    "\n",
    "## CODING CHALLENGE\n",
    "Use the next three code cells to define three structure variables, initialize them to the given values, and print their values."
   ]
  },
  {
   "cell_type": "code",
   "execution_count": null,
   "metadata": {},
   "outputs": [],
   "source": [
    "// TODO: define a date variable named 'today' and initialize it to today's values.\n",
    "\n",
    "/*\n",
    "struct Date_v2 {\n",
    "    int day;\n",
    "    string month;\n",
    "    int year;\n",
    "}; */\n",
    "\n",
    "Date today = {9, 7, 2019};\n",
    "\n",
    "// TODO: print the values of this variable.\n",
    "cout << today.month << \"-\" << today.day << \"-\" << today.year << endl;\n"
   ]
  },
  {
   "cell_type": "code",
   "execution_count": null,
   "metadata": {},
   "outputs": [],
   "source": [
    "// TODO: define a time variable named 'noon' and initialize it to time 12:00:00. Use the\n",
    "//       Time structure you created for the previous CODING CHALLENGE. \n",
    "\n",
    "Time noon = {12, 00, 00};\n",
    "\n",
    "// TODO: print the values of this variable.\n",
    "\n",
    "cout << noon.hour << \":\" << noon.minute << \":\" << noon.second << endl;\n"
   ]
  },
  {
   "cell_type": "code",
   "execution_count": null,
   "metadata": {},
   "outputs": [],
   "source": [
    "// TODO: define a distance variable named 'height' and initialize it to 10 feet and 7 inches.\n",
    "Distance height = {10, 7};\n",
    "\n",
    "// TODO: print the values of this variable.\n",
    "cout << height.feet << \"' \" << height.inches << \"\\\"\" << endl;\n"
   ]
  },
  {
   "cell_type": "markdown",
   "metadata": {},
   "source": [
    "# Enumeration\n",
    "Often times, we have variables that can take only a limited number of values. Think, for example, about days which can only be Sunday through Saturday. The same goes for months (January through December), letter grades (A through E), directions (east, west, north, south) and so on. \n",
    "\n",
    "C++ gives us the ability to enumerate these possible values so that the compiler knows about them and validates against them.  Here is the definition of an example enumeration named `DayOfWeek`:"
   ]
  },
  {
   "cell_type": "code",
   "execution_count": null,
   "metadata": {},
   "outputs": [],
   "source": [
    "enum DayOfWeek {\n",
    " SUN, MON, TUE, WED, THU, FRI, SAT\n",
    "};"
   ]
  },
  {
   "cell_type": "markdown",
   "metadata": {},
   "source": [
    "Now we can this enumeration as a data type to define a day variable like this:"
   ]
  },
  {
   "cell_type": "code",
   "execution_count": null,
   "metadata": {},
   "outputs": [],
   "source": [
    "DayOfWeek tomorrow = WED;"
   ]
  },
  {
   "cell_type": "markdown",
   "metadata": {},
   "source": [
    "And if we print the value of `tomorrow`:"
   ]
  },
  {
   "cell_type": "code",
   "execution_count": null,
   "metadata": {},
   "outputs": [],
   "source": [
    "cout << \"Tomorrow is: \" << tomorrow << endl;"
   ]
  },
  {
   "cell_type": "markdown",
   "metadata": {},
   "source": [
    "With the value `3` being the value assigned to `WED` by the compiler by default. If we want to tell the compiler what integers to assign enumerated values or  what integer to start with, we can do something like this (to tell the compiler to start by assigning 1 to SUN):"
   ]
  },
  {
   "cell_type": "code",
   "execution_count": null,
   "metadata": {
    "scrolled": true
   },
   "outputs": [],
   "source": [
    "enum CustomDayOfWeek {\n",
    " SUN = 1, MON, TUE, WED, THU, FRI, SAT\n",
    "};"
   ]
  },
  {
   "cell_type": "markdown",
   "metadata": {},
   "source": [
    "Now we can create a variable of this new enumeration and print its value."
   ]
  },
  {
   "cell_type": "code",
   "execution_count": null,
   "metadata": {},
   "outputs": [],
   "source": [
    "CustomDayOfWeek a_day = WED;\n",
    "cout << \"A day is: \" << a_day << endl;"
   ]
  },
  {
   "cell_type": "markdown",
   "metadata": {},
   "source": [
    "Are you getting the `error: reference to 'WED' is ambiguous` error? Why?\n",
    "\n",
    "It turns out that using the value `WED`, confuses the compiler because it does not know whether you meant `WED` from `DayOfWeek` or `WED` from `CustomDayOfWeek`. So we have to be specific and use the resolution operator `::` to qualify the enumerated values we are using.  "
   ]
  },
  {
   "cell_type": "code",
   "execution_count": null,
   "metadata": {},
   "outputs": [],
   "source": [
    "CustomDayOfWeek a_day = CustomDayOfWeek::WED;\n",
    "cout << \"A day is: \" << a_day << endl;"
   ]
  },
  {
   "cell_type": "markdown",
   "metadata": {},
   "source": [
    "## Scoped enumerations\n",
    "To deal with the above ambiguity problem, C++11 introduced **scoped enumerations** which are the same as the above C-style enumerations, except that we'll always have to use the resolution operator `::` with their values. Here is how we define a scoped enumeration for days of the week. Notice the keyword `class` right after enum. This keyword makes this enumeration **scoped**."
   ]
  },
  {
   "cell_type": "code",
   "execution_count": 4,
   "metadata": {},
   "outputs": [],
   "source": [
    "enum class DayOfWeek_2 {\n",
    " SUNDAY = 1, MONDAY, TUESDAY, WEDNESDAY, THURSDAY, FRIDAY, SATURDAY\n",
    "};"
   ]
  },
  {
   "cell_type": "markdown",
   "metadata": {},
   "source": [
    "By doing this, we can no longer call the values `SUNDAY`, `WEDNESDAY`, and so on directly."
   ]
  },
  {
   "cell_type": "code",
   "execution_count": 5,
   "metadata": {},
   "outputs": [
    {
     "name": "stderr",
     "output_type": "stream",
     "text": [
      "\u001b[1minput_line_11:2:22: \u001b[0m\u001b[0;1;31merror: \u001b[0m\u001b[1muse of undeclared identifier 'WEDNESDAY'\u001b[0m\n",
      " DayOfWeek_2 day_2 = WEDNESDAY;\n",
      "\u001b[0;1;32m                     ^\n",
      "\u001b[0m"
     ]
    },
    {
     "ename": "Interpreter Error",
     "evalue": "",
     "output_type": "error",
     "traceback": [
      "Interpreter Error: "
     ]
    }
   ],
   "source": [
    "DayOfWeek_2 day_2 = WEDNESDAY;"
   ]
  },
  {
   "cell_type": "markdown",
   "metadata": {},
   "source": [
    "Instead, we must qualify these values using the name of the enumeration and the resolution operator `::'"
   ]
  },
  {
   "cell_type": "code",
   "execution_count": 6,
   "metadata": {},
   "outputs": [],
   "source": [
    "DayOfWeek_2 day_2 = DayOfWeek_2::WEDNESDAY;"
   ]
  },
  {
   "cell_type": "markdown",
   "metadata": {},
   "source": [
    "This makes **scoped enumerations** safer to use, and it is highly recommended that you use **scoped enumerations* over the C-style unscoped ones.\n",
    "\n",
    "### CODING CHALLENGE\n",
    "In the code cell below, define a scoped enumeration for the money change (penny, nickel, dime, quarter). In the next cell, define a variable named `change` and make it equal to dime. By conversion, use uppercase for values of the enumeration."
   ]
  },
  {
   "cell_type": "code",
   "execution_count": 1,
   "metadata": {},
   "outputs": [],
   "source": [
    "//TODO: define enumeration\n",
    "enum class MoneyChange {PENNY, NICKEL, DIME, QUARTER};\n"
   ]
  },
  {
   "cell_type": "code",
   "execution_count": 2,
   "metadata": {},
   "outputs": [],
   "source": [
    "//TODO: define an enmeration variable named change\n",
    "\n",
    "MoneyChange change = MoneyChange::DIME;\n"
   ]
  },
  {
   "cell_type": "markdown",
   "metadata": {},
   "source": [
    "## Using enemerations\n",
    "Once we have enumeration variables, we can use them like any other values. For example, we can use them in `if-else` conditionals:"
   ]
  },
  {
   "cell_type": "code",
   "execution_count": null,
   "metadata": {},
   "outputs": [],
   "source": [
    "if(day_2 == DayOfWeek_2::SATURDAY || day_2 == DayOfWeek_2::SUNDAY){\n",
    "    cout << \"It is weekend\" << endl;\n",
    "} else {\n",
    "    cout << \"It is a weekday\" << endl;\n",
    "}"
   ]
  },
  {
   "cell_type": "markdown",
   "metadata": {},
   "source": [
    "or in a `switch` statement:"
   ]
  },
  {
   "cell_type": "code",
   "execution_count": null,
   "metadata": {},
   "outputs": [],
   "source": [
    "switch(day_2){\n",
    "    case DayOfWeek_2::SUNDAY: cout << \"Sunday\"; break;\n",
    "    case DayOfWeek_2::MONDAY: cout <<  \"Monday\"; break;\n",
    "    case DayOfWeek_2::TUESDAY: cout <<  \"Tuesday\"; break;\n",
    "    case DayOfWeek_2::WEDNESDAY: cout <<  \"Wednesday\"; break;\n",
    "    case DayOfWeek_2::THURSDAY: cout <<  \"Thursday\"; break;\n",
    "    case DayOfWeek_2::FRIDAY: cout <<  \"Friday\"; break;\n",
    "    case DayOfWeek_2::SATURDAY: cout <<  \"Saturday\"; break;\n",
    "}"
   ]
  },
  {
   "cell_type": "markdown",
   "metadata": {},
   "source": [
    "or as an argument to a function:"
   ]
  },
  {
   "cell_type": "code",
   "execution_count": null,
   "metadata": {},
   "outputs": [],
   "source": [
    "void nameDayOfWeek(DayOfWeek_2 d){\n",
    "    switch(d){\n",
    "        case DayOfWeek_2::SUNDAY: cout << \"Sunday\"; break;\n",
    "        case DayOfWeek_2::MONDAY: cout <<  \"Monday\"; break;\n",
    "        case DayOfWeek_2::TUESDAY: cout <<  \"Tuesday\"; break;\n",
    "        case DayOfWeek_2::WEDNESDAY: cout <<  \"Wednesday\"; break;\n",
    "        case DayOfWeek_2::THURSDAY: cout <<  \"Thursday\"; break;\n",
    "        case DayOfWeek_2::FRIDAY: cout <<  \"Friday\"; break;\n",
    "        case DayOfWeek_2::SATURDAY: cout <<  \"Saturday\"; break;\n",
    "    }\n",
    "} "
   ]
  },
  {
   "cell_type": "code",
   "execution_count": null,
   "metadata": {},
   "outputs": [],
   "source": [
    "cout << \"day_2 is \";\n",
    "nameDayOfWeek(day_2);"
   ]
  },
  {
   "cell_type": "markdown",
   "metadata": {},
   "source": [
    "or in the definition of a new structure :"
   ]
  },
  {
   "cell_type": "code",
   "execution_count": null,
   "metadata": {},
   "outputs": [],
   "source": [
    "enum class Bill {\n",
    "  HUNDRET = 100, FIFTY = 50,\n",
    "  TWENTY = 20, TEN = 10, \n",
    "  FIVE = 5, ONE = 1\n",
    "};\n",
    "\n",
    "struct Amount {\n",
    "  int number;\n",
    "  Bill kind;\n",
    "};"
   ]
  },
  {
   "cell_type": "markdown",
   "metadata": {},
   "source": [
    "which allows us to express $100 as 5 twenty dollar bills."
   ]
  },
  {
   "cell_type": "code",
   "execution_count": null,
   "metadata": {},
   "outputs": [],
   "source": [
    "//Amount firstHundred = { 5, Bill::TWENTY };"
   ]
  },
  {
   "cell_type": "markdown",
   "metadata": {},
   "source": [
    "### CODING CHALLENGE\n",
    "In the code cell below, define five `Amount` variables each representing $100: 20 five dollar bills, 100 one dollar bills, 10 ten dollar bills, 2 fifty dollar bills, and 1 hundred dollar bill."
   ]
  },
  {
   "cell_type": "code",
   "execution_count": null,
   "metadata": {},
   "outputs": [],
   "source": [
    "//TODO\n",
    "\n",
    "Amount firstHundred_ = {20, Bill::FIVE};\n",
    "Amount secondHundred = {100, Bill::ONE};\n",
    "Amount thirdHundred = {10, Bill::TEN};\n",
    "Amount fourthHundred = {2, Bill::FIFTY};\n",
    "Amount fifthHundred = {1, Bill::HUNDRET};"
   ]
  },
  {
   "cell_type": "code",
   "execution_count": null,
   "metadata": {},
   "outputs": [],
   "source": []
  }
 ],
 "metadata": {
  "kernelspec": {
   "display_name": "C++17",
   "language": "C++17",
   "name": "xcpp17"
  },
  "language_info": {
   "codemirror_mode": "text/x-c++src",
   "file_extension": ".cpp",
   "mimetype": "text/x-c++src",
   "name": "c++",
   "version": "-std=c++17"
  }
 },
 "nbformat": 4,
 "nbformat_minor": 2
}
