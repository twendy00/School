{
 "cells": [
  {
   "cell_type": "markdown",
   "metadata": {},
   "source": [
    "# Classes and Objects\n",
    "\n",
    "From the beginning, C++ was meant to be a better C: to fix the issues and vulnerabilities of C, to solve the issues of structured programming seen in large-scale C programs, and to support the, then new, object-oriented programming (OOP) paradigm. Being an object-oriented programming (OOP) language meant:\n",
    "* The ability to create classes which represent new data types that go beyond the built-in types.\n",
    "* The ability to instantiate or create objects from these classes\n",
    "* The ability of one class to inherit from another class \n",
    "* The ability to take advantage of polymorphism.\n",
    "\n",
    "From the perspective of OOP, the real-world is made up of entities such as automobiles, buildings, devices, shapes, cars, and so on. Each entity has **attributes**. For example, a car has the attributes: year, make, model, and color among other things. Each entity has **behaviors** as well. A car, for example, can move forward or backward, turn left or right, brake, turn on or off. \n",
    "\n",
    "At the core of OOP are **classes** which represent real-world entities by bringing together their attributes and behaviors. We call this **encapsulation**. In C++, attributes are modeled with variables; they are called data members.  Behaviors are modeled with functions, which we call member functions. \n",
    "\n",
    "Classes also provide a way to organize code. with each class containing both data and function members: some **public** and some **private**. And the ability to use classes to make other classes or to have classes inherit from other classes allows us to minimize code repetition and improve code reuse, both of which are important software-engineering goals.\n",
    "\n",
    "Here is our first class example:"
   ]
  },
  {
   "cell_type": "code",
   "execution_count": 1,
   "metadata": {},
   "outputs": [],
   "source": [
    "#include <iostream>\n",
    "#include <iomanip>\n",
    "#include <string>\n",
    "using namespace std;"
   ]
  },
  {
   "cell_type": "code",
   "execution_count": 2,
   "metadata": {},
   "outputs": [],
   "source": [
    "class SimpleClass {\n",
    "private:\n",
    "  int someData;\n",
    "\n",
    "public:\n",
    "  void setData(int d){ \n",
    "      someData = d; \n",
    "  }\n",
    "    \n",
    "  void showData(){\n",
    "    cout << \"Data is \" << someData << endl;\n",
    "  }  \n",
    "};"
   ]
  },
  {
   "cell_type": "markdown",
   "metadata": {},
   "source": [
    "The `SimpleClass` has a single data member (an attribute) named `someData` and two member functions (behaviors): `setData` and `showData`. The class is divided into two sections: `private` and `public`. Members under the `private` section are private which means they cannot be used outside of the class. Public members can be used inside and outside the class.\n",
    "\n",
    "It's a common practice to have the data members of the class as private so as to protect them being seen outside the class while making the member functions public.\n",
    "\n",
    "Once we have a class, we can use it to create objects. For example:"
   ]
  },
  {
   "cell_type": "code",
   "execution_count": 3,
   "metadata": {},
   "outputs": [],
   "source": [
    "SimpleClass s1, s2; // Creating two objects"
   ]
  },
  {
   "cell_type": "markdown",
   "metadata": {},
   "source": [
    "We can use the **dot operator** to access the public members of these objects."
   ]
  },
  {
   "cell_type": "code",
   "execution_count": 4,
   "metadata": {},
   "outputs": [
    {
     "name": "stdout",
     "output_type": "stream",
     "text": [
      "Data is 500\n",
      "Data is 187\n"
     ]
    }
   ],
   "source": [
    "s1.setData(500);\n",
    "s2.setData(187);\n",
    "s1.showData();\n",
    "s2.showData();"
   ]
  },
  {
   "cell_type": "markdown",
   "metadata": {},
   "source": [
    "We cannot, however, from outside the `SimpleClass` access its private member `someData`. Trying to do so results in error."
   ]
  },
  {
   "cell_type": "code",
   "execution_count": 5,
   "metadata": {},
   "outputs": [
    {
     "name": "stderr",
     "output_type": "stream",
     "text": [
      "\u001b[1minput_line_12:2:13: \u001b[0m\u001b[0;1;31merror: \u001b[0m\u001b[1m'someData' is a private member of 'SimpleClass'\u001b[0m\n",
      " cout << s1.someData;\n",
      "\u001b[0;1;32m            ^\n",
      "\u001b[0m\u001b[1minput_line_9:3:7: \u001b[0m\u001b[0;1;30mnote: \u001b[0mdeclared private here\u001b[0m\n",
      "  int someData;\n",
      "\u001b[0;1;32m      ^\n",
      "\u001b[0m\u001b[1minput_line_12:3:12: \u001b[0m\u001b[0;1;31merror: \u001b[0m\u001b[1m'someData' is a private member of 'SimpleClass'\u001b[0m\n",
      "cout << s2.someData;\n",
      "\u001b[0;1;32m           ^\n",
      "\u001b[0m\u001b[1minput_line_9:3:7: \u001b[0m\u001b[0;1;30mnote: \u001b[0mdeclared private here\u001b[0m\n",
      "  int someData;\n",
      "\u001b[0;1;32m      ^\n",
      "\u001b[0m"
     ]
    },
    {
     "ename": "Interpreter Error",
     "evalue": "",
     "output_type": "error",
     "traceback": [
      "Interpreter Error: "
     ]
    }
   ],
   "source": [
    "cout << s1.someData;\n",
    "cout << s2.someData;"
   ]
  },
  {
   "cell_type": "markdown",
   "metadata": {},
   "source": [
    "### CODING CHALLENGE\n",
    "\n",
    "Write a class named `MyFirstClass` with two private data members: integer `number` and string `message`. There should be four public member functions: `setNumber`, `showNumber`, `setMessage`, and `showMessage` that are similar to the example above."
   ]
  },
  {
   "cell_type": "code",
   "execution_count": 6,
   "metadata": {},
   "outputs": [],
   "source": [
    "//TODO\n",
    "\n",
    "class MyFirstClass {\n",
    "    \n",
    "    private: \n",
    "        int number; \n",
    "        string message;\n",
    "\n",
    "    public:\n",
    "        void setNumber(int n) {\n",
    "           number = n;\n",
    "       }\n",
    "\n",
    "        void showNumber() {\n",
    "            cout << \"The number is \" << number << \".\" << endl;\n",
    "        }\n",
    "\n",
    "        void setMessage(string m) {\n",
    "            message = m;\n",
    "        }\n",
    "\n",
    "        void showMessage() {\n",
    "            cout << \"The message is \" << message << \".\" << endl;\n",
    "        }\n",
    "};"
   ]
  },
  {
   "cell_type": "markdown",
   "metadata": {},
   "source": [
    "### CODING CHALLENGE\n",
    "\n",
    "Using the class of the previous coding challenge, create three objects, and use the `set...` member functions to pass values to their private data members and the `show...` member functions to print out the values of these data members."
   ]
  },
  {
   "cell_type": "code",
   "execution_count": 7,
   "metadata": {},
   "outputs": [
    {
     "name": "stdout",
     "output_type": "stream",
     "text": [
      "The number is 26.\n",
      "The message is Hello!.\n"
     ]
    }
   ],
   "source": [
    "//TODO\n",
    "\n",
    "MyFirstClass n1, m1;\n",
    "\n",
    "n1.setNumber(26);\n",
    "n1.showNumber();\n",
    "m1.setMessage(\"Hello\");\n",
    "m1.showMessage();"
   ]
  },
  {
   "cell_type": "markdown",
   "metadata": {},
   "source": [
    "## Classes vs structures\n",
    "\n",
    "In C++, classes and structures are equivalent. The only difference is that by default the data and function members of structures are public while the data and function members of classes are private. Given the following structure, for instance:\n",
    "\n",
    "```c++\n",
    "struct SomeClass {\n",
    " int number;\n",
    " string name;\n",
    "};\n",
    "```\n",
    "\n",
    "is exactly the same as:\n",
    "\n",
    "```c++\n",
    "class SomeClass {\n",
    "public:\n",
    " int number;\n",
    " string name;\n",
    "};\n",
    "```\n",
    "\n",
    "In practice, we use structures when we only have public data members to deal with and classes for everything else."
   ]
  },
  {
   "cell_type": "markdown",
   "metadata": {},
   "source": [
    "### CODING CHALLENGE\n",
    "\n",
    "In the code cell below, write a class that is equivalent to the following structure:\n",
    "\n",
    "```c++\n",
    "struct Time {\n",
    "    int hrs;\n",
    "    int min;\n",
    "    int sec; \n",
    "};\n",
    "```"
   ]
  },
  {
   "cell_type": "code",
   "execution_count": 8,
   "metadata": {},
   "outputs": [],
   "source": [
    "//TODO\n",
    "class Time {\n",
    "    public:\n",
    "        int hrs;\n",
    "        int min;\n",
    "        int sec;\n",
    "};"
   ]
  },
  {
   "cell_type": "markdown",
   "metadata": {},
   "source": [
    "## Class constructors\n",
    "\n",
    "Here is a class that can be used to represent dates. The name of the class is `DateClass`. It has three private data members: `month`, `day`, and `year`. It also has two member functions: `setDate` which is used to set the values of the `month`, `day`, and `year`  members, and `showDate` which prints the date object in a MM/DD/YY format. "
   ]
  },
  {
   "cell_type": "code",
   "execution_count": 9,
   "metadata": {},
   "outputs": [],
   "source": [
    "class DateClass {\n",
    "private:\n",
    "    int month, day, year;\n",
    "public:\n",
    "    void setDate(int mm, int dd, int yyyy){\n",
    "        month = mm;\n",
    "        day = dd;\n",
    "        year = yyyy;\n",
    "    }\n",
    "\n",
    "    void showDate() {\n",
    "        cout << \"The date is \" << setfill('0')\n",
    "             << setw(2) << month << '/'\n",
    "             << setw(2) << day << '/'\n",
    "             << setw(2) << year % 100 << endl;\n",
    "    }\n",
    "};"
   ]
  },
  {
   "cell_type": "markdown",
   "metadata": {},
   "source": [
    "Here is this class being used to create a date object:"
   ]
  },
  {
   "cell_type": "code",
   "execution_count": 10,
   "metadata": {},
   "outputs": [
    {
     "name": "stdout",
     "output_type": "stream",
     "text": [
      "The date is 10/12/18\n"
     ]
    }
   ],
   "source": [
    "DateClass d;\n",
    "d.setDate(10, 12, 2018);\n",
    "d.showDate();"
   ]
  },
  {
   "cell_type": "markdown",
   "metadata": {},
   "source": [
    "Having to write two statements (or more) to create and initialize an object is too much especially if we have to do this for every object we create. Instead of:\n",
    "\n",
    "```c++\n",
    "DateClass d;\n",
    "d.setDate(10, 12, 2018);\n",
    "```\n",
    "can we have something like this?\n",
    "\n",
    "```c++\n",
    "DateClass d(10, 12, 2018);\n",
    "```\n",
    "\n",
    "It turns out: YES we can, thanks to **class constructors**. But what is a **constructor**?\n",
    "\n",
    "A constructor is a special member function with the following properties:\n",
    "* It has the same name as the class. So, our previous `DateClass` would have a constructor whose name is also `DateClass`\n",
    "* It has no return type (not even `void`) and therefore cannot return anything.\n",
    "* It gets called automatically by C++ when objects are created.\n",
    "\n",
    "Here is a class with a single no-argument constructor. This constructor initializes the private data members `count`, and `step` to 0 and 1 respectively. "
   ]
  },
  {
   "cell_type": "code",
   "execution_count": 11,
   "metadata": {},
   "outputs": [],
   "source": [
    "class Counter {\n",
    "private:\n",
    "    unsigned int count;\n",
    "    int step;\n",
    "public:\n",
    "    Counter() : count(0), step(1) { // The constructor\n",
    "        cout << \"init -> count: \" << count << \", step: \"  << step << endl;\n",
    "    }\n",
    "\n",
    "    void increment() { \n",
    "        count += step; \n",
    "    }\n",
    "    \n",
    "    int current() { \n",
    "        return count; \n",
    "    }\n",
    "\n",
    "    ~Counter() { // The destructor\n",
    "        cout << \"fini -> count: \" << count << \", step: \"  << step << endl;\n",
    "    }\n",
    "};"
   ]
  },
  {
   "cell_type": "markdown",
   "metadata": {},
   "source": [
    "Again the constructor has the same name as the class. This constructor also looks different from other functions. It has a colon `:` right after the parentheses followed by `count(0), step(1)`) which looks like two function calls but they are not. We call what is between the colon `:` and the opening brace `{` of the constructor an **initializer list**, which is a comma-separated list of initializations (like `count(0)` and `step(l)`) typically one for each data member. In this example, `count(0)` tells C++ to set the value of the `count` data member to 0. Similarly, `step(1)` tells C++ to set the value of the `step` data member to 1. This **initializer list** `: count(0), step(1)`  makes sure that data members `count` and `step` are initialized to the correct values at the time of creating an object. \n",
    "\n",
    "The body of the constructor in this example is between the curly braces `{}`. Any code inside these braces will run but right after the object has been created. \n",
    "\n",
    "In C++, it is highly recommended that you initialize your data members using an **initializer list** instead of inside the constructor's curly braces `{}`.\n",
    "\n",
    "To see this class in action, let us create an object of it. "
   ]
  },
  {
   "cell_type": "code",
   "execution_count": 12,
   "metadata": {},
   "outputs": [
    {
     "name": "stdout",
     "output_type": "stream",
     "text": [
      "init -> count: 0, step: 1\n"
     ]
    }
   ],
   "source": [
    "Counter c;\n",
    "c.increment();\n",
    "c.increment();\n",
    "c.increment();\n",
    "c.increment();"
   ]
  },
  {
   "cell_type": "markdown",
   "metadata": {},
   "source": [
    "Alternatively we can create an object dynamically using the `new` operator and then use the arrow `->` operator to call the `increment` function."
   ]
  },
  {
   "cell_type": "code",
   "execution_count": 13,
   "metadata": {},
   "outputs": [
    {
     "name": "stdout",
     "output_type": "stream",
     "text": [
      "init -> count: 0, step: 1\n"
     ]
    }
   ],
   "source": [
    "Counter *cptr = new Counter;\n",
    "cptr->increment();\n",
    "cptr->increment();\n",
    "cptr->increment();\n",
    "cptr->increment();"
   ]
  },
  {
   "cell_type": "markdown",
   "metadata": {},
   "source": [
    "### CODING CHALLENGE\n",
    "Copy the following class into the code cell below and change it so that it contains a no-argument constructor that initializes `month` to 1, `day` to also 1, and `year` to `1900`. After that create two objects of this class: one in the stack and another in the heap. Use  the **dot operator** and the **arrow** `->` operators with these objects respectively to call the `showDate()` function.\n",
    "\n",
    "```c++\n",
    "class DateClass2 {\n",
    "private:\n",
    "    int month, day, year;\n",
    "public:\n",
    "    void setDate(int mm, int dd, int yyyy){\n",
    "        month = mm;\n",
    "        day = dd;\n",
    "        year = yyyy;\n",
    "    }\n",
    "\n",
    "\n",
    "    void showDate() {\n",
    "        cout << \"The date is \" << setfill('0')\n",
    "             << setw(2) << month << '/'\n",
    "             << setw(2) << day << '/'\n",
    "             << setw(2) << year % 100 << endl;\n",
    "    }\n",
    "};\n",
    "```"
   ]
  },
  {
   "cell_type": "code",
   "execution_count": 14,
   "metadata": {},
   "outputs": [
    {
     "name": "stdout",
     "output_type": "stream",
     "text": [
      "The date is 01/01/90\n",
      "The date is 01/01/90\n"
     ]
    }
   ],
   "source": [
    "//TODO\n",
    "\n",
    "class DateClass2 {\n",
    "    private:\n",
    "        int month, day, year;\n",
    "    \n",
    "    public:\n",
    "        DateClass2() : month(1), day(1), year(1990){};\n",
    "    \n",
    "        void setDate(int mm, int dd, int yyyy){\n",
    "            month = mm;\n",
    "            day = dd;\n",
    "            year = yyyy;\n",
    "        }\n",
    "\n",
    "        void showDate() {\n",
    "            cout << \"The date is \" << setfill('0')\n",
    "                 << setw(2) << month << '/'\n",
    "                 << setw(2) << day << '/'\n",
    "                 << setw(2) << year % 100 << endl;\n",
    "        }\n",
    "};\n",
    "\n",
    "DateClass2 dc;\n",
    "dc.showDate();\n",
    "\n",
    "DateClass2* dcptr = new DateClass2;\n",
    "dcptr-> showDate();"
   ]
  },
  {
   "cell_type": "markdown",
   "metadata": {},
   "source": [
    "## Class descructors\n",
    "\n",
    "C++ allows classes to define another special function called the **destructor**, which gets called automatically when an object is destroyed (using the `delete` operator) or goes out of scope. This destructor:\n",
    "* has a name that starts with the tilde `~` character followed by the same name as the class \n",
    "* it does not take any arguments\n",
    "* it has no return type\n",
    "\n",
    "Here is an example destructor forn the `Counter` class above:\n",
    "\n",
    "```c++\n",
    "    ~Counter() { // The destructor\n",
    "        cout << \"fini -> count: \" << count << \", step: \"  << step << endl;\n",
    "    }\n",
    "```\n",
    "\n",
    "To see the destructor in action, we can create an object inside curly braces to force it to go out of scope."
   ]
  },
  {
   "cell_type": "code",
   "execution_count": 15,
   "metadata": {},
   "outputs": [
    {
     "name": "stdout",
     "output_type": "stream",
     "text": [
      "init -> count: 0, step: 1\n",
      "fini -> count: 4, step: 1\n"
     ]
    }
   ],
   "source": [
    "{\n",
    "    Counter c;\n",
    "    c.increment();\n",
    "    c.increment();\n",
    "    c.increment();\n",
    "    c.increment();\n",
    "}"
   ]
  },
  {
   "cell_type": "markdown",
   "metadata": {},
   "source": [
    "Alternatively, we can create an object using the `new` operator and then `delete` it at the end"
   ]
  },
  {
   "cell_type": "code",
   "execution_count": 16,
   "metadata": {},
   "outputs": [
    {
     "name": "stdout",
     "output_type": "stream",
     "text": [
      "init -> count: 0, step: 1\n",
      "fini -> count: 3, step: 1\n"
     ]
    }
   ],
   "source": [
    "Counter *c2 = new Counter;\n",
    "\n",
    "c2->increment();\n",
    "c2->increment();\n",
    "c2->increment();\n",
    "\n",
    "delete c2;"
   ]
  },
  {
   "cell_type": "markdown",
   "metadata": {},
   "source": [
    "It is important to remember here that C++ will supply a **default constructor** with zero arguments and blank body to every class that does not define any constructor. C++ will also supply a **default destructor** for each class that does not provide one.\n",
    "\n",
    "## Overloaded constructors\n",
    "\n",
    "In C++, a class can have more than one constructor. This is because there might be more than one way to create objects of that class. We call these multiple constructors **overloaded constructors**.  \n",
    "\n",
    "On the other hand, unlike constructors, a destructor cannot be overloaded and a class can only have one destructor.\n",
    "\n",
    "Here is another date class with more than one constuctor."
   ]
  },
  {
   "cell_type": "code",
   "execution_count": 17,
   "metadata": {},
   "outputs": [],
   "source": [
    "class Date {\n",
    "private:\n",
    "    int month, day, year;\n",
    "public:\n",
    "    Date() : month(1), day(1), year(1900) {} // Constructor # 1\n",
    "    Date(int mm, int dd, int yy) : month(mm), day(dd), year(yy) {}  // Constructor # 2\n",
    "\n",
    "    void showDate() {\n",
    "        cout << \"The date is \" << setfill('0')\n",
    "             << setw(2) << month << '/'\n",
    "             << setw(2) << day << '/'\n",
    "             << setw(2) << year % 100 << endl;\n",
    "    }\n",
    "\n",
    "    ~Date(){} // Destructor\n",
    "};"
   ]
  },
  {
   "cell_type": "markdown",
   "metadata": {},
   "source": [
    "Keep in mind that it is OK for a constructor or a destructor to have an empty body as you see here.\n",
    "\n",
    "Having these two constructors gives us two ways to create objects, one for each constructor."
   ]
  },
  {
   "cell_type": "code",
   "execution_count": 18,
   "metadata": {},
   "outputs": [
    {
     "name": "stdout",
     "output_type": "stream",
     "text": [
      "The date is 01/01/00\n",
      "The date is 02/17/19\n"
     ]
    }
   ],
   "source": [
    "// Using constructor #1\n",
    "Date d1;\n",
    "d1.showDate();\n",
    "\n",
    "// Using constructor #2\n",
    "Date d2(2, 17, 2019);\n",
    "d2.showDate();"
   ]
  },
  {
   "cell_type": "markdown",
   "metadata": {},
   "source": [
    "We also have two ways to create date objects using the `new` operator."
   ]
  },
  {
   "cell_type": "code",
   "execution_count": 19,
   "metadata": {},
   "outputs": [
    {
     "name": "stdout",
     "output_type": "stream",
     "text": [
      "The date is 01/01/00\n",
      "The date is 02/17/19\n"
     ]
    }
   ],
   "source": [
    "// Using constructor #1\n",
    "Date *d3 = new Date;\n",
    "d3->showDate();\n",
    "\n",
    "// Using constructor #1\n",
    "Date *d4 = new Date(2, 17, 2019);\n",
    "d4->showDate();\n",
    "\n",
    "delete d3, d4;"
   ]
  },
  {
   "cell_type": "markdown",
   "metadata": {},
   "source": [
    "### CODING CHALLENGE\n",
    "\n",
    "In the code cell below, create a class named `Employee` with three private data members: id (an integer), name (a string), and age (a short integer). The class should have the following four constructors:\n",
    "* no-argument construcor that initializes `id` to 0, `name` to `\"noname\"`, and `age` to 18.\n",
    "* a one-argument construcor that takes an argument for  `id` and initializes `name` to `\"noname\"`, and `age` to 18.\n",
    "* a two-argument construcor that takes arguments for `id` and `name` and initializes `age` to 18.\n",
    "* a three-argument construcor that takes arguments for `id`, `name`, and `age`.\n",
    "\n",
    "This class should also have a function named `print` that prints out the values of `id`, `name`, and `age`."
   ]
  },
  {
   "cell_type": "code",
   "execution_count": 20,
   "metadata": {},
   "outputs": [],
   "source": [
    "//TODO\n",
    "class Employee {\n",
    "    private:\n",
    "        int id;\n",
    "        string name;\n",
    "        short int age;\n",
    "    public:\n",
    "        Employee() : id(0), name(\"noname\"), age(18) {};\n",
    "        Employee(int id) : id(id), name(\"noname\"), age(18)  {};\n",
    "        Employee(int id, string n) : id(id), name(n), age(18) {};\n",
    "        Employee(int id, string n, short int a) :  id(id), name(n), age(a){};\n",
    "    \n",
    "        void print() {\n",
    "            cout << \"Id: \" << id << endl;\n",
    "            cout << \"Name: \" << name << endl;\n",
    "            cout << \"Age: \" << age << endl;\n",
    "        }\n",
    "};"
   ]
  },
  {
   "cell_type": "markdown",
   "metadata": {},
   "source": [
    "Create four objects without the `new` operator, one object per constructor, and on each object call the `print` function."
   ]
  },
  {
   "cell_type": "code",
   "execution_count": 21,
   "metadata": {},
   "outputs": [
    {
     "name": "stdout",
     "output_type": "stream",
     "text": [
      "Id: 0\n",
      "Name: noname\n",
      "Age: 18\n",
      "Id: 111\n",
      "Name: noname\n",
      "Age: 18\n",
      "Id: 112\n",
      "Name: Jane Doe\n",
      "Age: 18\n",
      "Id: 113\n",
      "Name: Jackie Doe\n",
      "Age: 22\n"
     ]
    }
   ],
   "source": [
    "//TODO\n",
    "Employee e1, e2(111), e3(112, \"Jane Doe\"), e4(113, \"Jackie Doe\", 22);\n",
    "\n",
    "e1.print(); //110, \"Jan Doe\", 54\n",
    "e2.print(); //, \"Janie Doe\", 38\n",
    "e3.print(); //, 18\n",
    "e4.print();"
   ]
  },
  {
   "cell_type": "markdown",
   "metadata": {},
   "source": [
    "Create another four objects, this time, using the `new` operator, one object per constructor, and on each object call the `print` function."
   ]
  },
  {
   "cell_type": "code",
   "execution_count": 22,
   "metadata": {},
   "outputs": [
    {
     "name": "stdout",
     "output_type": "stream",
     "text": [
      "Id: 0\n",
      "Name: noname\n",
      "Age: 18\n",
      "Id: 111\n",
      "Name: noname\n",
      "Age: 18\n",
      "Id: 113\n",
      "Name: Jan Doe\n",
      "Age: 18\n",
      "Id: 113\n",
      "Name: Jan Doe\n",
      "Age: 54\n"
     ]
    }
   ],
   "source": [
    "//TODO\n",
    "Employee* eptr = new Employee();\n",
    "Employee* eptr2 = new Employee(111);\n",
    "Employee* eptr3 = new Employee(113, \"Jan Doe\");\n",
    "Employee* eptr4 = new Employee(113, \"Jan Doe\", 54);\n",
    "\n",
    "eptr->print();\n",
    "eptr2->print();\n",
    "eptr3->print();\n",
    "eptr4->print();"
   ]
  },
  {
   "cell_type": "markdown",
   "metadata": {},
   "source": [
    "As a final example, here is another, more complete, counter class."
   ]
  },
  {
   "cell_type": "code",
   "execution_count": 23,
   "metadata": {},
   "outputs": [],
   "source": [
    "class BetterCounter{\n",
    "private:\n",
    "    unsigned count; int step;\n",
    "public:\n",
    "    BetterCounter() : count(0), step(1){} // Constructor # 1\n",
    "    BetterCounter(unsigned c) : count(c), step(1){} // Constructor # 2\n",
    "    BetterCounter(unsigned c, int s) : count(c), step(s){} // Constructor # 3\n",
    "    \n",
    "    void increment(){ count = count + step; }\n",
    "    int current(){ return count; }\n",
    "    \n",
    "    ~BetterCounter(){} // // Destructor\n",
    "};"
   ]
  },
  {
   "cell_type": "markdown",
   "metadata": {},
   "source": [
    "And here is an example object of this new class. "
   ]
  },
  {
   "cell_type": "code",
   "execution_count": 24,
   "metadata": {},
   "outputs": [
    {
     "name": "stdout",
     "output_type": "stream",
     "text": [
      "12"
     ]
    }
   ],
   "source": [
    "BetterCounter* bc = new BetterCounter(11);\n",
    "bc->increment();\n",
    "cout << bc->current();\n",
    "delete bc;"
   ]
  },
  {
   "cell_type": "markdown",
   "metadata": {},
   "source": [
    "## `const` member functions\n",
    "In C++, it is recommended to make any member function that does not change the data members of the object it's called on a `const` function. This is to prevent accidental changes to objects from happening and to be explicit about what these functions can and cannot do. To make a member function `const`, we add the `const` keyword to the end of the function header (right after the parenthesis-enclosed parameter list). Notice that this `const` keyword at the end of the function header is a part of the function signature and needs to be in both the function prototype and the function definition.\n",
    "\n",
    "Here is another version of the `Date` class with the `showDate` function being a `const` function by adding `const` to the end of its header in both of its prototype and definition. We do this because this function is not supposed to change the date object; it only displays it in a certain format."
   ]
  },
  {
   "cell_type": "code",
   "execution_count": 25,
   "metadata": {},
   "outputs": [],
   "source": [
    "class Date2 {\n",
    "private:\n",
    "    int month, day, year;\n",
    "public:\n",
    "    Date2() : month(1), day(1), year(1900) {} // Constructor # 1\n",
    "    Date2(int mm, int dd, int yy) : month(mm), day(dd), year(yy) {}  // Constructor # 2\n",
    "\n",
    "    void showDate() const; // A const function prototype\n",
    "\n",
    "    ~Date2(){} // Destructor\n",
    "};"
   ]
  },
  {
   "cell_type": "code",
   "execution_count": 26,
   "metadata": {},
   "outputs": [],
   "source": [
    "// A const function definition\n",
    "void Date2::showDate() const {\n",
    "    cout << \"The date is \" << setfill('0')\n",
    "         << setw(2) << month << '/'\n",
    "         << setw(2) << day << '/'\n",
    "         << setw(2) << year % 100 << endl;\n",
    "}"
   ]
  },
  {
   "cell_type": "markdown",
   "metadata": {},
   "source": [
    "Another common example of `const` functions is the class **accessor** or **getter** functions."
   ]
  },
  {
   "cell_type": "markdown",
   "metadata": {},
   "source": [
    "## Accessors and mutators\n",
    "For classes with private data members, we need a controlled and safe away to read and write the values of these members outside the classes. To do that we rely on **accessors** and **mutators**, with one accessor and mutator for each private data member.\n",
    "\n",
    "**Accessors**, which are sometimes called **getters**, are public functions giving access to (or returning values of) their private data members. \n",
    "* They typically but not necessarily have names that start with the word **get** (or the word **is** for `bool` data members); thus the name **getters**.\n",
    "* They take no arguments.\n",
    "* They are read-only functions and should not change any of their objects' data members. In other words, they should be `const` functions by having the `const` keyword after the parenthesis-enclosed parameter list to indicate that these functions do not change the data members of the objects they are called on.\n",
    "* Their return types are the same as that of their data members. When their data members have non-primitive data types, they return `const` references to their data members. This is to avoid copying the actual values for better performance, while at the same time protecting these values from being changed outside the class.\n",
    "\n",
    "Here is an example:"
   ]
  },
  {
   "cell_type": "code",
   "execution_count": 27,
   "metadata": {},
   "outputs": [],
   "source": [
    "class Card {\n",
    "private:\n",
    "    long cardNumber;\n",
    "    string cardName;\n",
    "    bool active;\n",
    "\n",
    "public:\n",
    "    long getCardNumber() const {\n",
    "        return cardNumber;\n",
    "    }\n",
    "\n",
    "    const string& getCardName() const {\n",
    "        return cardName;\n",
    "    }\n",
    "\n",
    "    bool isActive() const {\n",
    "        return active;\n",
    "    }\n",
    "};"
   ]
  },
  {
   "cell_type": "markdown",
   "metadata": {},
   "source": [
    "**Mutators**, which are sometimes called **setters**, are public functions allowing writing to (or changing values of) their private data members:\n",
    "* They typically have names that start with the word **set**; thus the name **setters**.\n",
    "* They return `void`.\n",
    "* They take single arguments whose data types match those of their data members. When their data members have non-primitive data types, their arguments should be `const` references. This is to pass these arguments by reference, for performance, while protecting them from being changed inside these functions.\n",
    "\n",
    "Here is an example:"
   ]
  },
  {
   "cell_type": "code",
   "execution_count": 28,
   "metadata": {},
   "outputs": [],
   "source": [
    "class AnotherCard {\n",
    "private:\n",
    "    long cardNumber;\n",
    "    string cardName;\n",
    "    bool active;\n",
    "\n",
    "public:\n",
    "    void setCardNumber(long number) {\n",
    "        cardNumber = number;\n",
    "    }\n",
    "\n",
    "    void setCardName(const string &name) {\n",
    "        cardName = name;\n",
    "    }\n",
    "\n",
    "    void setActive(bool active) {\n",
    "        AnotherCard::active = active;\n",
    "    }\n",
    "};"
   ]
  },
  {
   "cell_type": "code",
   "execution_count": null,
   "metadata": {},
   "outputs": [],
   "source": []
  },
  {
   "cell_type": "code",
   "execution_count": null,
   "metadata": {},
   "outputs": [],
   "source": []
  }
 ],
 "metadata": {
  "kernelspec": {
   "display_name": "C++17",
   "language": "C++17",
   "name": "xcpp17"
  },
  "language_info": {
   "codemirror_mode": "text/x-c++src",
   "file_extension": ".cpp",
   "mimetype": "text/x-c++src",
   "name": "c++",
   "version": "-std=c++17"
  }
 },
 "nbformat": 4,
 "nbformat_minor": 2
}
