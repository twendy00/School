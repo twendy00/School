{
 "cells": [
  {
   "cell_type": "markdown",
   "metadata": {},
   "source": [
    "# Arrays\n",
    "\n",
    "In the real world, we often group values of the same type into lists or arrays, and the elements in these arrays are then accessed by their ordered places (or indices) in these arrays. C++ allows us to define arrays using the square brackets `[]`. Here are some examples.\n"
   ]
  },
  {
   "cell_type": "code",
   "execution_count": null,
   "metadata": {},
   "outputs": [],
   "source": [
    "#include <iostream>\n",
    "#include <iomanip>\n",
    "#include <string>\n",
    "using namespace std;"
   ]
  },
  {
   "cell_type": "code",
   "execution_count": null,
   "metadata": {},
   "outputs": [],
   "source": [
    "int oddNumbers[10];\n",
    "double bets[100];\n",
    "string tweets[12];"
   ]
  },
  {
   "cell_type": "markdown",
   "metadata": {},
   "source": [
    "In all of these definitions, one must specify the size of the array (the number of elements in it) ahead of time. This is why these arrays are described as **static**; the compiler must know exactly how many elements are there before the program runs.\n",
    "\n",
    "If you know what the values of the array are going to be, you can put them separated by commas inside curly braces and use them to initialize the array."
   ]
  },
  {
   "cell_type": "code",
   "execution_count": null,
   "metadata": {},
   "outputs": [],
   "source": [
    "int primesUnder10[4] = {2, 3, 5, 7};\n",
    "char letterGrades[] = {'A', 'B', 'C', 'D', 'E'};\n",
    "string days[] {  // as of C++11, the = is not required.\n",
    "    \"sun\", \"mon\", \"tue\", \n",
    "    \"wed\", \"thu\", \"fri\", \"sat\" \n",
    "};"
   ]
  },
  {
   "cell_type": "markdown",
   "metadata": {},
   "source": [
    "Notice that the size of the array is not needed when the array is initialized using a brace-enclosed comma-separated list of values, This is because the C++ compiler will be able to get that number by counting the supplied values. \n",
    "\n",
    "### CODING CHALLENGE\n",
    "Define the following arrays:"
   ]
  },
  {
   "cell_type": "code",
   "execution_count": null,
   "metadata": {},
   "outputs": [],
   "source": [
    "//TODO: define an integer array named evenNumbers and initialize it to the even numbers between 5 and 25\n",
    "\n",
    "int evenNumbers[] {6, 8, 10, 12, 14, 16, 18, 20, 22, 24};\n"
   ]
  },
  {
   "cell_type": "code",
   "execution_count": null,
   "metadata": {},
   "outputs": [],
   "source": [
    "//TODO: define a double array named scores and initialize it to 10 random decimals between 1 and 100.\n",
    "\n",
    "double scores[] {4.8, 10.2, 29.36, 37.18, 40.1, 50.86, 75.0, 99.999, 87.16, 0.23};\n",
    "\n"
   ]
  },
  {
   "cell_type": "markdown",
   "metadata": {},
   "source": [
    "## Accessing individual elements\n",
    "\n",
    "To access an individual element inside an array we use **zero-based indexing**. This means that every element in the array is given an index number starting with the value 0 for the first element, 1 for the second and so on. "
   ]
  },
  {
   "cell_type": "code",
   "execution_count": null,
   "metadata": {},
   "outputs": [],
   "source": [
    "int primes[] = { 2, 3, 5, 7 };\n",
    "cout << primes[0] << endl; // first element\n",
    "cout << primes[3] << endl; // fourth element\n",
    "char grades[] = { 'A', 'B', 'C', 'F'}; \n",
    "cout << grades[2] << endl;\n",
    "cout << grades[1] << endl;"
   ]
  },
  {
   "cell_type": "markdown",
   "metadata": {},
   "source": [
    "Trying to access an element outside the bounds of an array is a dangerous thing. Unfortunately, C++ warns us about but does not prevent us from doing that."
   ]
  },
  {
   "cell_type": "code",
   "execution_count": null,
   "metadata": {
    "scrolled": true
   },
   "outputs": [],
   "source": [
    "cout << grades[7] << endl;"
   ]
  },
  {
   "cell_type": "markdown",
   "metadata": {},
   "source": [
    "### CODING CHALLENGE\n",
    "Write a `for` loop that displays the first four elements of the `evenNumbers` and `scores` arrays you created in the previous challenge."
   ]
  },
  {
   "cell_type": "code",
   "execution_count": null,
   "metadata": {},
   "outputs": [],
   "source": [
    "//TODO\n",
    "\n",
    "cout << \"Even Numbers: \" << endl;\n",
    "for (int i=0; i<4; i++){\n",
    "    cout << evenNumbers[i] << endl;\n",
    "}\n",
    "\n",
    "cout << endl;\n",
    "\n",
    "cout << \"Scores: \" << endl;\n",
    "for (int j=0; j < 4; j++) {\n",
    "    cout << scores[j] << endl;\n",
    "}"
   ]
  },
  {
   "cell_type": "markdown",
   "metadata": {},
   "source": [
    "## Iterating over arrays\n",
    "\n",
    "Using indices allows us to iterate over the elements of an array. For example, the following `for` loop displays the elements of the `days` array side by side with their indices (using `setw`, of course)."
   ]
  },
  {
   "cell_type": "code",
   "execution_count": null,
   "metadata": {},
   "outputs": [],
   "source": [
    "cout << setw(3) << \"Day\" << setw(8) << \"Index\" << endl;\n",
    "cout << \"===========\" << endl;\n",
    "for (int i = 0; i < 7; i++) {\n",
    "    cout << setw(3) << days[i] << setw(8) << i << endl;\n",
    "}"
   ]
  },
  {
   "cell_type": "markdown",
   "metadata": {},
   "source": [
    "### CODING CHALLENGE\n",
    "\n",
    "Copy the code above into the code cell below and replace the `for` loop with a `while` loop. The program should still work the same."
   ]
  },
  {
   "cell_type": "code",
   "execution_count": null,
   "metadata": {},
   "outputs": [],
   "source": [
    "//TODO\n",
    "\n",
    "cout << setw(3) << \"Day\" << setw(8) << \"Index\" << endl;\n",
    "cout << \"===========\" << endl;\n",
    "\n",
    "int i = 0;\n",
    "while (i < 7) {\n",
    "    cout << setw(3) << days[i] << setw(8) << i << endl;\n",
    "    i++;\n",
    "}"
   ]
  },
  {
   "cell_type": "markdown",
   "metadata": {},
   "source": [
    "## The range-based `for` loop\n",
    "\n",
    "To simplify iterating over arrays, C++11 introduced the range-based `for` loop which is similar to  Java's enhanced for loop. Unlike the \"regular\" `for` loop, it does not use indices. It takes the form:\n",
    "\n",
    "``` c++\n",
    "for (<datatype> <variable> : <array>) {\n",
    "    <statement(s)>\n",
    "}\n",
    "```\n",
    "Here is how simple it is to iterate over the the `days` array. You can read it as **\"for each day in days do something\"**"
   ]
  },
  {
   "cell_type": "code",
   "execution_count": null,
   "metadata": {},
   "outputs": [],
   "source": [
    "for (string day : days) {\n",
    "  cout << \"Day of week: \" << day << endl;\n",
    "}"
   ]
  },
  {
   "cell_type": "markdown",
   "metadata": {},
   "source": [
    "### CODING CHALLENGE\n",
    "Write a range-based `for` loop to print the elements of your previously defined `scores` arrays."
   ]
  },
  {
   "cell_type": "code",
   "execution_count": null,
   "metadata": {},
   "outputs": [],
   "source": [
    "//TODO\n",
    "\n",
    "for (double s : scores) {\n",
    "    cout << \"Score: \" << s << endl;\n",
    "}"
   ]
  },
  {
   "cell_type": "markdown",
   "metadata": {},
   "source": [
    "## Arrays of structures\n",
    "Structures can also be grouped into arrays. Given the structures:"
   ]
  },
  {
   "cell_type": "code",
   "execution_count": null,
   "metadata": {},
   "outputs": [],
   "source": [
    "struct Date {\n",
    "   int day;\n",
    "   int month;\n",
    "   int year;\n",
    "};\n",
    "\n",
    "struct Event {\n",
    "   Date from;\n",
    "   Date to;\n",
    "   string name;\n",
    "};"
   ]
  },
  {
   "cell_type": "markdown",
   "metadata": {},
   "source": [
    "We can define an array of 15 events like this:"
   ]
  },
  {
   "cell_type": "code",
   "execution_count": null,
   "metadata": {},
   "outputs": [],
   "source": [
    "Event events[15];"
   ]
  },
  {
   "cell_type": "markdown",
   "metadata": {},
   "source": [
    "And we can even use brace-enclosed comma-separated lists to define and initialize arrays of structures like this:"
   ]
  },
  {
   "cell_type": "code",
   "execution_count": null,
   "metadata": {},
   "outputs": [],
   "source": [
    "Event trips[] = {\n",
    "    { {20, 6, 2019}, {26, 6, 2019}, \"Visit to DC\" },\n",
    "    { {13, 8, 2019}, {21, 8, 2019}, \"Trip to Europe\"}\n",
    "};"
   ]
  },
  {
   "cell_type": "markdown",
   "metadata": {},
   "source": [
    "How do we display these events in a table like this using the range-based `for` loop?\n",
    "\n",
    "| FROM      | TO        | TRIP           |\n",
    "| --------- | --------- | -------------- |\n",
    "| 6/20/2019 | 6/26/2019 | Visit to DC    |\n",
    "| 8/13/2019 | 8/21/2019 | Trip to Europe |"
   ]
  },
  {
   "cell_type": "markdown",
   "metadata": {},
   "source": [
    "Well! Here is one way of doing this. Notice how this example manually inserts spaces in multiple places to make sure the output looks like a table."
   ]
  },
  {
   "cell_type": "code",
   "execution_count": null,
   "metadata": {},
   "outputs": [],
   "source": [
    "cout << \"FROM      \"  << \"TO        \" << \"TRIP\" << endl;\n",
    "cout << \"-----------------------------------\" << endl;\n",
    "for(Event e : trips){\n",
    "    cout << e.from.month << '/' << e.from.day << '/' << e.from.year << \" \"\n",
    "         << e.to.month << '/' << e.to.day << '/' << e.to.year  << \" \"\n",
    "         << e.name << endl;\n",
    "}"
   ]
  },
  {
   "cell_type": "markdown",
   "metadata": {},
   "source": [
    "### CODING CHALLENGE\n",
    "Using the above `date` structure, define and initialize an array of five dates of your choosing and then use the range-based `for` loop to print these dates."
   ]
  },
  {
   "cell_type": "code",
   "execution_count": null,
   "metadata": {},
   "outputs": [],
   "source": [
    "//TODO: \n",
    "\n",
    "Date date[5] = { {1, 3, 2018},\n",
    "                {18, 7, 1987},\n",
    "                {9, 4, 1999},\n",
    "                {25, 12, 1991},\n",
    "                {30, 8, 2005}\n",
    "               }"
   ]
  },
  {
   "cell_type": "markdown",
   "metadata": {},
   "source": [
    "# Vectors\n",
    "\n",
    "Arrays in C++ are **static**; their size must be known ahead of time and, once created, they cannot be resized. For **dynamic** arrays, C++ provides vectors.\n",
    "\n",
    "Like arrays, a vector is simply a sequence of elements you access by indexing. Unlike arrays, vectors are dynamic; they expand and shrink as needed and their size need not be known ahead of time.\n",
    " \n",
    "To use vector,\n",
    "* include the `<vector>` header file.\n",
    "* define a vector variable whose data type is the standard class template  `vector` followed by the angle brackets `<>` with the datatype of the elements in between.\n",
    "\n",
    "Here is an example vector of integers."
   ]
  },
  {
   "cell_type": "code",
   "execution_count": null,
   "metadata": {},
   "outputs": [],
   "source": [
    "#include <vector>\n",
    "vector<int> numbers;"
   ]
  },
  {
   "cell_type": "markdown",
   "metadata": {},
   "source": [
    "We can now add elements to this vector using the `push_back` function."
   ]
  },
  {
   "cell_type": "code",
   "execution_count": null,
   "metadata": {
    "scrolled": true
   },
   "outputs": [],
   "source": [
    "int input;\n",
    "cout << \"Enter integers (or any letter to stop): \";\n",
    "while(cin >> input){ \n",
    "    numbers.push_back(input); \n",
    "}"
   ]
  },
  {
   "cell_type": "markdown",
   "metadata": {},
   "source": [
    "Having entered these numbers we can use the `at()` function within a `for` loop to iterate over the elements of this vector."
   ]
  },
  {
   "cell_type": "code",
   "execution_count": null,
   "metadata": {},
   "outputs": [],
   "source": [
    "for(int i = 0; i < numbers.size(); i++){\n",
    "    cout << \"+ \" << numbers.at(i) << endl; \n",
    "}"
   ]
  },
  {
   "cell_type": "markdown",
   "metadata": {},
   "source": [
    "or we could simply use the square brackets `[]` as if it was an array."
   ]
  },
  {
   "cell_type": "code",
   "execution_count": null,
   "metadata": {},
   "outputs": [],
   "source": [
    "for(int i = 0; i < numbers.size(); i++){\n",
    "    cout << \"- \" << numbers[i] << endl; \n",
    "}"
   ]
  },
  {
   "cell_type": "markdown",
   "metadata": {},
   "source": [
    "We can also use the range-based `for` loop like this."
   ]
  },
  {
   "cell_type": "code",
   "execution_count": null,
   "metadata": {
    "scrolled": false
   },
   "outputs": [],
   "source": [
    "for(int m : numbers){ \n",
    "    cout << \"= \" << m << endl; \n",
    "}"
   ]
  },
  {
   "cell_type": "markdown",
   "metadata": {},
   "source": [
    "### CODING CHALLENGE\n",
    "Define a vector named `courses` and use the `push_back` function to enter the following courses into it:\n",
    "* CS1030\n",
    "* CS1400\n",
    "* CS1410\n",
    "* CS2420\n",
    "\n",
    "After that, use a `for` loop to iterate over and print these courses."
   ]
  },
  {
   "cell_type": "code",
   "execution_count": null,
   "metadata": {},
   "outputs": [],
   "source": [
    "//TODO\n",
    "\n",
    "vector<string> courses;\n",
    "\n",
    "string course;\n",
    "cout << \"Enter in the Course (Press z to Stop)\" << endl;\n",
    "\n",
    "while (cin >> course){\n",
    "    if (course == \"z\"){\n",
    "        break;\n",
    "    }\n",
    "    courses.push_back(course);\n",
    "}\n",
    "\n",
    "for (string c : courses) {\n",
    "    cout << c << endl;\n",
    "}"
   ]
  },
  {
   "cell_type": "markdown",
   "metadata": {},
   "source": [
    "# Strings\n",
    "\n",
    "Most of the data our programs deal with comes in the form of text which is represented by strings. In C++ we use the standard class `string` from the `<string>` header file to define strings. Here are a few example strings:"
   ]
  },
  {
   "cell_type": "code",
   "execution_count": null,
   "metadata": {},
   "outputs": [],
   "source": [
    "#include <string>\n",
    "\n",
    "string s1(\"Man\");\n",
    "string s2 = \"Beast\";\n",
    "string s3;"
   ]
  },
  {
   "cell_type": "markdown",
   "metadata": {},
   "source": [
    "In C++, srings support assignment:"
   ]
  },
  {
   "cell_type": "code",
   "execution_count": null,
   "metadata": {},
   "outputs": [],
   "source": [
    "s3 = s1;\n",
    "cout << s3;"
   ]
  },
  {
   "cell_type": "markdown",
   "metadata": {},
   "source": [
    "And two strings can be concatenated using the `+` operator:"
   ]
  },
  {
   "cell_type": "code",
   "execution_count": null,
   "metadata": {},
   "outputs": [],
   "source": [
    "s3 += \" and \" + s2;\n",
    "cout << s3;"
   ]
  },
  {
   "cell_type": "markdown",
   "metadata": {},
   "source": [
    "But the `+` operator can only be used to concatenate two strings. That means it cannot be used to concatenate an integer to a string like we are used to in Java. Uncomment the following code cell to see the error you get when you do that."
   ]
  },
  {
   "cell_type": "code",
   "execution_count": null,
   "metadata": {},
   "outputs": [],
   "source": [
    "// s3 += \" can be \" + 2 + \" dangerous.\";"
   ]
  },
  {
   "cell_type": "markdown",
   "metadata": {},
   "source": [
    "To fix this we have to convert the integer to a string first using the `to_string()` function"
   ]
  },
  {
   "cell_type": "code",
   "execution_count": null,
   "metadata": {},
   "outputs": [],
   "source": [
    "s3 += \" can be \" + to_string(2) + \" dangerous.\";\n",
    "cout << s3;"
   ]
  },
  {
   "cell_type": "markdown",
   "metadata": {},
   "source": [
    "### CODING CHALLENGE\n",
    "* Define a string named  `message` and initialize it to \"Next general election year is\".\n",
    "* Define an integer called `year` and initialize it to 2020.\n",
    "* Define a string named `sentence`; no initialization.\n",
    "* Set `sentence` to the concatenation of `message` and `year`.\n",
    "* Print `sentence`."
   ]
  },
  {
   "cell_type": "code",
   "execution_count": null,
   "metadata": {},
   "outputs": [],
   "source": [
    "//TODO\n",
    "\n",
    "string message = \"Next general election year is \";\n",
    "int year = 2020;\n",
    "string sentence;\n",
    "sentence = message + to_string(year) + \".\";\n",
    "cout << sentence ;"
   ]
  },
  {
   "cell_type": "markdown",
   "metadata": {},
   "source": [
    "## Iterating over the characters of a string\n",
    "\n",
    "Given a string like this:"
   ]
  },
  {
   "cell_type": "code",
   "execution_count": null,
   "metadata": {},
   "outputs": [],
   "source": [
    "string str = \"To be or not to be\";"
   ]
  },
  {
   "cell_type": "markdown",
   "metadata": {},
   "source": [
    "You can use a `for` loop with either the `at()` function or the square brackets `[]` to iterate over the characters of this string. Note that the first character is at index `0`."
   ]
  },
  {
   "cell_type": "code",
   "execution_count": null,
   "metadata": {},
   "outputs": [],
   "source": [
    "for(int i = 0; i < str.length(); i++){\n",
    "  cout << i << '\\t' << str.at(i) << '\\t' << str[i] << endl;\n",
    "}"
   ]
  },
  {
   "cell_type": "markdown",
   "metadata": {},
   "source": [
    "We could also use the range-based `for` loop for this"
   ]
  },
  {
   "cell_type": "code",
   "execution_count": null,
   "metadata": {
    "scrolled": true
   },
   "outputs": [],
   "source": [
    "for(char c : str){\n",
    "  cout << c << \"  .  \";\n",
    "}"
   ]
  },
  {
   "cell_type": "markdown",
   "metadata": {},
   "source": [
    "## Reading strings from the keyboard\n",
    "While we can use `cin >>` to read a single-word string, it does not work for strings with more than one word separated by spaces or tabs. Try to enter a two- or three-word string for the first name field below. What happens?"
   ]
  },
  {
   "cell_type": "code",
   "execution_count": null,
   "metadata": {},
   "outputs": [],
   "source": [
    "string id, first_name;\n",
    "\n",
    "cout << \"Enter ID Number: \";\n",
    "cin >> id;\n",
    "\n",
    "cout << \"Enter First Name: \";\n",
    "cin >> first_name;\n",
    "\n",
    "cout << \"        ID: \" << id << endl\n",
    "     << \"FIRST NAME: \" << first_name << endl;"
   ]
  },
  {
   "cell_type": "markdown",
   "metadata": {},
   "source": [
    "So how do we read a multiword string from the keyword? The answer is to use the `getline()` function like this"
   ]
  },
  {
   "cell_type": "code",
   "execution_count": null,
   "metadata": {},
   "outputs": [],
   "source": [
    "string full_name;\n",
    "\n",
    "cout << \"Enter ID Number: \";\n",
    "cin >> id;\n",
    "\n",
    "cin.ignore(); // To read the line break at the end of the id before we read the full name\n",
    "cout << \"Enter Full Name: \";\n",
    "getline(cin, full_name);\n",
    "\n",
    "cout << \"       ID: \" << id << endl\n",
    "     << \"FULL NAME: \" << full_name << endl;"
   ]
  },
  {
   "cell_type": "markdown",
   "metadata": {},
   "source": [
    "### CODING CHALLENGE\n",
    "Write a program that reads a student email and full name from the keyboard and print them to the screen in the following table-like format:\n",
    "\n",
    "| EMAIL               | NAME     |\n",
    "| ------------------- | -------- |\n",
    "| johndoe@example.com | John Doe |\n",
    "\n"
   ]
  },
  {
   "cell_type": "code",
   "execution_count": null,
   "metadata": {
    "scrolled": true
   },
   "outputs": [],
   "source": [
    "//TODO\n",
    "string email, name;\n",
    "\n",
    "cout << \"Enter in the student's name\" << endl;\n",
    "\n",
    "getline(cin, name);\n",
    "\n",
    "cout << \"Enter in the student's email address\" << endl;\n",
    "\n",
    "cin >> email;\n",
    "\n",
    "cout << endl;\n",
    "cout << \"           Email\" << \"          \" << \"Name\" << endl\n",
    "    << \"____________________________________________\" << endl\n",
    "    << email << \"       \" << name << endl;\n"
   ]
  },
  {
   "cell_type": "markdown",
   "metadata": {},
   "source": [
    "## Printing to memory using `stringstream`\n",
    "\n",
    "So far every time we want to print something we print it to the console screen using `cout`. What if we want to print to memory. We can use the `stringstream` class from the `<sstream>` header file to do that. This allows us to build a large string one piece at a time.\n",
    "\n",
    "For example, previously we ran the following code:\n",
    "\n",
    "```c++\n",
    "cout << \"FROM      \"  << \"TO        \" << \"TRIP\" << endl;\n",
    "cout << \"-----------------------------------\" << endl;\n",
    "for(Event e : trips){\n",
    "    cout << e.from.month << '/' << e.from.day << '/' << e.from.year << \" \"\n",
    "         << e.to.month << '/' << e.to.day << '/' << e.to.year  << \" \"\n",
    "         << e.name << endl;\n",
    "}\n",
    "```\n",
    "\n",
    "to display a table like this:\n",
    "\n",
    "| FROM      | TO        | TRIP           |\n",
    "| --------- | --------- | -------------- |\n",
    "| 6/20/2019 | 6/26/2019 | Visit to DC    |\n",
    "| 8/13/2019 | 8/21/2019 | Trip to Europe |\n",
    "\n",
    "Here is how to print this table to memory using `stringstream`. \n",
    "\n",
    "First, we need to include the `<sstream>` header file and define a `stringstream` variable. We'll name this variable `sout`,  but it could be any valid identifier."
   ]
  },
  {
   "cell_type": "code",
   "execution_count": null,
   "metadata": {},
   "outputs": [],
   "source": [
    "#include <sstream>\n",
    "\n",
    "stringstream sout;"
   ]
  },
  {
   "cell_type": "markdown",
   "metadata": {},
   "source": [
    "Now we use `sout` instead of `cout`."
   ]
  },
  {
   "cell_type": "code",
   "execution_count": null,
   "metadata": {},
   "outputs": [],
   "source": [
    "sout << \"FROM      \"  << \"TO        \" << \"TRIP\" << endl;\n",
    "sout << \"-----------------------------------\" << endl;\n",
    "for(Event e : trips){\n",
    "    sout << e.from.month << '/' << e.from.day << '/' << e.from.year << \" \"\n",
    "         << e.to.month << '/' << e.to.day << '/' << e.to.year  << \" \"\n",
    "         << e.name << endl;\n",
    "}"
   ]
  },
  {
   "cell_type": "markdown",
   "metadata": {},
   "source": [
    "Finally, let's save the contents of `sout` to a string using the `str()` function."
   ]
  },
  {
   "cell_type": "code",
   "execution_count": null,
   "metadata": {},
   "outputs": [],
   "source": [
    "string dates = sout.str();"
   ]
  },
  {
   "cell_type": "markdown",
   "metadata": {},
   "source": [
    "To see what was printed to memory, print the `dates` string."
   ]
  },
  {
   "cell_type": "code",
   "execution_count": null,
   "metadata": {},
   "outputs": [],
   "source": [
    "cout << dates;"
   ]
  },
  {
   "cell_type": "markdown",
   "metadata": {},
   "source": [
    "### CODING CHALLENGE\n",
    "Define a `stringstream` named `smsg` and use it to print the following:\n",
    "* The string \"Next general election year is\"\n",
    "* The space ` ` character\n",
    "* The integer 2020\n",
    "* The period `.` character\n",
    "\n",
    "Save the contents of `smsg` to a string named `m_str` and print it to the screen (using `cout`)."
   ]
  },
  {
   "cell_type": "code",
   "execution_count": null,
   "metadata": {},
   "outputs": [],
   "source": [
    "//TODO\n",
    "\n",
    "stringstream smsg;\n",
    "\n",
    "smsg << \"Next general election year is \";\n",
    "smsg << year << \".\" << endl;\n",
    "\n",
    "string m_str = smsg.str();\n",
    "cout << m_str;"
   ]
  },
  {
   "cell_type": "code",
   "execution_count": null,
   "metadata": {},
   "outputs": [],
   "source": []
  }
 ],
 "metadata": {
  "kernelspec": {
   "display_name": "C++17",
   "language": "C++17",
   "name": "xcpp17"
  },
  "language_info": {
   "codemirror_mode": "text/x-c++src",
   "file_extension": ".cpp",
   "mimetype": "text/x-c++src",
   "name": "c++",
   "version": "-std=c++17"
  }
 },
 "nbformat": 4,
 "nbformat_minor": 2
}
