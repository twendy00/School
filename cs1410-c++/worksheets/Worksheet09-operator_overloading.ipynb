{
 "cells": [
  {
   "cell_type": "markdown",
   "metadata": {},
   "source": [
    "\n",
    "# Operator Overloading\n",
    "\n",
    "Early on in this course, we learned about the basic (primitive) data types that C++ supports such as `int`, `short`, `long`, `double`, and `float`. These data types support  certain operators such as `+`, `-`, `*`, and `/`, and `%` which allow us to do something like this: "
   ]
  },
  {
   "cell_type": "code",
   "execution_count": 1,
   "metadata": {},
   "outputs": [],
   "source": [
    "#include <iostream>\n",
    "using namespace std;"
   ]
  },
  {
   "cell_type": "code",
   "execution_count": 2,
   "metadata": {},
   "outputs": [
    {
     "name": "stdout",
     "output_type": "stream",
     "text": [
      "13\n",
      "1\n",
      "12\n",
      "3\n",
      "1\n",
      "3.5\n"
     ]
    }
   ],
   "source": [
    "cout << 6 + 7   << endl \n",
    "     << 6 - 5   << endl\n",
    "     << 4 * 3   << endl\n",
    "     << 7 / 2   << endl    // Integer division\n",
    "     << 7 % 2   << endl    // Remainder\n",
    "     << 7 / 2.0 << endl;"
   ]
  },
  {
   "cell_type": "markdown",
   "metadata": {},
   "source": [
    "These basic types also support relational operators such as `<`, `>`, `<=`, `>=`, `==`, and `!=` or logical operators such as `&&` (AND), `||` (OR), and `!` (NOT). This allows us to do something like this:"
   ]
  },
  {
   "cell_type": "code",
   "execution_count": 3,
   "metadata": {},
   "outputs": [
    {
     "name": "stdout",
     "output_type": "stream",
     "text": [
      "1\n",
      "1\n",
      "1\n",
      "1\n",
      "1\n",
      "1\n"
     ]
    }
   ],
   "source": [
    "cout << (6 < 7) << endl\n",
    "     << (7 > 5) << endl\n",
    "     << (4 >= 3) << endl\n",
    "     << (2 <= 7) << endl\n",
    "     << (9 == 9) << endl\n",
    "     << (7.1 != 2.0) << endl;"
   ]
  },
  {
   "cell_type": "markdown",
   "metadata": {},
   "source": [
    "or"
   ]
  },
  {
   "cell_type": "code",
   "execution_count": 4,
   "metadata": {},
   "outputs": [
    {
     "name": "stdout",
     "output_type": "stream",
     "text": [
      "1\n",
      "1\n"
     ]
    }
   ],
   "source": [
    "int x = 4;\n",
    "cout << (x < 7 || x > 5) << endl;\n",
    "cout << (x != 5 && x != 7) << endl;"
   ]
  },
  {
   "cell_type": "markdown",
   "metadata": {},
   "source": [
    "There are the also the assignment operators that allow us to do something like this:"
   ]
  },
  {
   "cell_type": "code",
   "execution_count": 5,
   "metadata": {},
   "outputs": [
    {
     "name": "stdout",
     "output_type": "stream",
     "text": [
      "37, 30, 60, 20, 2\n"
     ]
    }
   ],
   "source": [
    "int ans = 27;\n",
    "\n",
    "ans += 10; \n",
    "cout << ans << \", \";\n",
    "ans -= 7; \n",
    "cout << ans << \", \";\n",
    "ans *= 2;\n",
    "cout << ans << \", \";\n",
    "ans /= 3;\n",
    "cout << ans << \", \";\n",
    "ans %= 3; \n",
    "cout << ans << endl;"
   ]
  },
  {
   "cell_type": "markdown",
   "metadata": {},
   "source": [
    "There are also the assignment operators that allow us to do something like this:"
   ]
  },
  {
   "cell_type": "code",
   "execution_count": 6,
   "metadata": {},
   "outputs": [
    {
     "name": "stdout",
     "output_type": "stream",
     "text": [
      "count=10\n",
      "count=11\n",
      "count=11\n",
      "count=11\n",
      "count=12\n"
     ]
    }
   ],
   "source": [
    "int count = 10;\n",
    "\n",
    "cout << \"count=\" << count << endl; \n",
    "cout << \"count=\" << ++count << endl;\n",
    "cout << \"count=\" << count << endl; \n",
    "cout << \"count=\" << count++ << endl;\n",
    "cout << \"count=\" << count << endl; "
   ]
  },
  {
   "cell_type": "markdown",
   "metadata": {},
   "source": [
    "The great thing about these operators is that they make using integers and decimals easy and efficient. The question is can we use these operators with objects of our own classes. For example, given two distance objects:\n",
    "\n",
    "```c++\n",
    "Distance d1, d2;\n",
    "``` \n",
    "can we do this:\n",
    "\n",
    "```c++\n",
    "Distance d3 = d1 + d2;\n",
    "```\n",
    "instead of:\n",
    "\n",
    "```c++\n",
    "Distance d3 = Distance.add(d1, d2);\n",
    "```\n",
    "The answer is: YES, we can, BUT we have to tell the C++ compiler how these operators should work for objects of our own classes. C++ calls this **operator overloading**, and being able to overload operators sets C++ apart from many languages and gives a lot of power and flexibility.\n",
    "\n",
    "Overloading operators involves thinking of them as functions. For example, having two objects `a` and `b` we can think of the expression `a + b` as `a.operator+(b)`. Similarly the unary operator `++` can be thought of as `a.operator++()`. We can also think of the extraction operator in the expression `cout << \"hello\"` as `operator<<(cout, \"hello\")` and so on. \n",
    "\n",
    "### CODING CHALLENGE\n",
    "Within the multi-line comment in the code cell below, think of the following operators as functions and write down what these functions would like. See the first example.\n",
    "\n",
    "```c++\n",
    "++count\n",
    "true || false\n",
    "a += 3\n",
    "3 != 6\n",
    "8 <= 7\n",
    "cin >> x\n",
    "cout << 100\n",
    "```"
   ]
  },
  {
   "cell_type": "code",
   "execution_count": 7,
   "metadata": {},
   "outputs": [],
   "source": [
    "//TODO \n",
    "/*\n",
    "count.operator++();\n",
    "true.operator||(false);\n",
    "operator#(true, false);\n",
    "a.operator+=(3);\n",
    "3.operator!=(6);\n",
    "8.operator<=(7);\n",
    "cin.operator>>(x);\n",
    "cout.operator<<(100);\n",
    "*/"
   ]
  },
  {
   "cell_type": "markdown",
   "metadata": {},
   "source": [
    "## Two ways to overload operators\n",
    "\n",
    "C++ gives us two ways to overload operators in our classes: \n",
    "* using member functions\n",
    "* Using friend functions\n",
    "\n",
    "Let us go through an example, first. Here we have a class like this:"
   ]
  },
  {
   "cell_type": "code",
   "execution_count": 8,
   "metadata": {},
   "outputs": [],
   "source": [
    "class Counter {\n",
    "private:\n",
    "     int count;\n",
    "     int initial;\n",
    "protected:\n",
    "     int step;\n",
    "public:\n",
    "    Counter(int i): initial(i), count(i), step(1){}\n",
    "    int next(){ return count += step; }\n",
    "    int prev(){ return count -= step; }\n",
    "    int current(){ return count; }\n",
    "    void reset(){ count = initial; }\n",
    "};"
   ]
  },
  {
   "cell_type": "markdown",
   "metadata": {},
   "source": [
    "And we think it makes sense to use the operator ++ to mean `next()` and -- to mean `prev()` and would like the following code to work. Right now it does not. Uncomment the following code cell to see what kind of errors you are getting."
   ]
  },
  {
   "cell_type": "code",
   "execution_count": 9,
   "metadata": {
    "scrolled": false
   },
   "outputs": [
    {
     "name": "stderr",
     "output_type": "stream",
     "text": [
      "\u001b[1minput_line_16:3:1: \u001b[0m\u001b[0;1;31merror: \u001b[0m\u001b[1mcannot increment value of type 'Counter'\u001b[0m\n",
      "++c; // equivalent ot calling c.next()\n",
      "\u001b[0;1;32m^ ~\n",
      "\u001b[0m\u001b[1minput_line_16:4:1: \u001b[0m\u001b[0;1;31merror: \u001b[0m\u001b[1mcannot decrement value of type 'Counter'\u001b[0m\n",
      "--c; // equivalent to calling c.prev()\n",
      "\u001b[0;1;32m^ ~\n",
      "\u001b[0m\u001b[1minput_line_16:5:6: \u001b[0m\u001b[0;1;31merror: \u001b[0m\u001b[1minvalid operands to binary expression ('std::__1::ostream' (aka\n",
      "      'basic_ostream<char>') and 'Counter')\u001b[0m\n",
      "cout << c; // Prints the current value of the counter\n",
      "\u001b[0;1;32m~~~~ ^  ~\n",
      "\u001b[0m\u001b[1m/anaconda3/envs/cling/include/c++/v1/ostream:219:20: \u001b[0m\u001b[0;1;30mnote: \u001b[0mcandidate function not viable: no known conversion from 'Counter' to\n",
      "      'const void *' for 1st argument; take the address of the argument with &\u001b[0m\n",
      "    basic_ostream& operator<<(const void* __p);\n",
      "\u001b[0;1;32m                   ^\n",
      "\u001b[0m\u001b[1m/anaconda3/envs/cling/include/c++/v1/type_traits:4843:3: \u001b[0m\u001b[0;1;30mnote: \u001b[0mcandidate function not viable: no known conversion from 'std::__1::ostream' (aka\n",
      "      'basic_ostream<char>') to 'std::byte' for 1st argument\u001b[0m\n",
      "  operator<< (byte  __lhs, _Integer __shift) noexcept\n",
      "\u001b[0;1;32m  ^\n",
      "\u001b[0m\u001b[1m/anaconda3/envs/cling/include/c++/v1/ostream:195:20: \u001b[0m\u001b[0;1;30mnote: \u001b[0mcandidate function not viable: no known conversion from 'Counter' to\n",
      "      'std::__1::basic_ostream<char> &(*)(std::__1::basic_ostream<char> &)' for\n",
      "      1st argument\u001b[0m\n",
      "    basic_ostream& operator<<(basic_ostream& (*__pf)(basic_ostream&))\n",
      "\u001b[0;1;32m                   ^\n",
      "\u001b[0m\u001b[1m/anaconda3/envs/cling/include/c++/v1/ostream:199:20: \u001b[0m\u001b[0;1;30mnote: \u001b[0mcandidate function not viable: no known conversion from 'Counter' to\n",
      "      'basic_ios<std::__1::basic_ostream<char, std::__1::char_traits<char>\n",
      "      >::char_type, std::__1::basic_ostream<char, std::__1::char_traits<char>\n",
      "      >::traits_type> &(*)(basic_ios<std::__1::basic_ostream<char,\n",
      "      std::__1::char_traits<char> >::char_type, std::__1::basic_ostream<char,\n",
      "      std::__1::char_traits<char> >::traits_type> &)' (aka 'basic_ios<char,\n",
      "      std::__1::char_traits<char> > &(*)(basic_ios<char,\n",
      "      std::__1::char_traits<char> > &)') for 1st argument\u001b[0m\n",
      "    basic_ostream& operator<<(basic_ios<char_type, traits_type>&\n",
      "\u001b[0;1;32m                   ^\n",
      "\u001b[0m\u001b[1m/anaconda3/envs/cling/include/c++/v1/ostream:204:20: \u001b[0m\u001b[0;1;30mnote: \u001b[0mcandidate function not viable: no known conversion from 'Counter' to\n",
      "      'std::__1::ios_base &(*)(std::__1::ios_base &)' for 1st argument\u001b[0m\n",
      "    basic_ostream& operator<<(ios_base& (*__pf)(ios_base&))\n",
      "\u001b[0;1;32m                   ^\n",
      "\u001b[0m\u001b[1m/anaconda3/envs/cling/include/c++/v1/ostream:207:20: \u001b[0m\u001b[0;1;30mnote: \u001b[0mcandidate function not viable: no known conversion from 'Counter' to 'bool' for\n",
      "      1st argument\u001b[0m\n",
      "    basic_ostream& operator<<(bool __n);\n",
      "\u001b[0;1;32m                   ^\n",
      "\u001b[0m\u001b[1m/anaconda3/envs/cling/include/c++/v1/ostream:208:20: \u001b[0m\u001b[0;1;30mnote: \u001b[0mcandidate function not viable: no known conversion from 'Counter' to 'short' for\n",
      "      1st argument\u001b[0m\n",
      "    basic_ostream& operator<<(short __n);\n",
      "\u001b[0;1;32m                   ^\n",
      "\u001b[0m\u001b[1m/anaconda3/envs/cling/include/c++/v1/ostream:209:20: \u001b[0m\u001b[0;1;30mnote: \u001b[0mcandidate function not viable: no known conversion from 'Counter' to\n",
      "      'unsigned short' for 1st argument\u001b[0m\n",
      "    basic_ostream& operator<<(unsigned short __n);\n",
      "\u001b[0;1;32m                   ^\n",
      "\u001b[0m\u001b[1m/anaconda3/envs/cling/include/c++/v1/ostream:210:20: \u001b[0m\u001b[0;1;30mnote: \u001b[0mcandidate function not viable: no known conversion from 'Counter' to 'int' for\n",
      "      1st argument\u001b[0m\n",
      "    basic_ostream& operator<<(int __n);\n",
      "\u001b[0;1;32m                   ^\n",
      "\u001b[0m\u001b[1m/anaconda3/envs/cling/include/c++/v1/ostream:211:20: \u001b[0m\u001b[0;1;30mnote: \u001b[0mcandidate function not viable: no known conversion from 'Counter' to\n",
      "      'unsigned int' for 1st argument\u001b[0m\n",
      "    basic_ostream& operator<<(unsigned int __n);\n",
      "\u001b[0;1;32m                   ^\n",
      "\u001b[0m\u001b[1m/anaconda3/envs/cling/include/c++/v1/ostream:212:20: \u001b[0m\u001b[0;1;30mnote: \u001b[0mcandidate function not viable: no known conversion from 'Counter' to 'long' for\n",
      "      1st argument\u001b[0m\n",
      "    basic_ostream& operator<<(long __n);\n",
      "\u001b[0;1;32m                   ^\n",
      "\u001b[0m\u001b[1m/anaconda3/envs/cling/include/c++/v1/ostream:213:20: \u001b[0m\u001b[0;1;30mnote: \u001b[0mcandidate function not viable: no known conversion from 'Counter' to\n",
      "      'unsigned long' for 1st argument\u001b[0m\n",
      "    basic_ostream& operator<<(unsigned long __n);\n",
      "\u001b[0;1;32m                   ^\n",
      "\u001b[0m\u001b[1m/anaconda3/envs/cling/include/c++/v1/ostream:214:20: \u001b[0m\u001b[0;1;30mnote: \u001b[0mcandidate function not viable: no known conversion from 'Counter' to 'long long'\n",
      "      for 1st argument\u001b[0m\n",
      "    basic_ostream& operator<<(long long __n);\n",
      "\u001b[0;1;32m                   ^\n",
      "\u001b[0m\u001b[1m/anaconda3/envs/cling/include/c++/v1/ostream:215:20: \u001b[0m\u001b[0;1;30mnote: \u001b[0mcandidate function not viable: no known conversion from 'Counter' to\n",
      "      'unsigned long long' for 1st argument\u001b[0m\n",
      "    basic_ostream& operator<<(unsigned long long __n);\n",
      "\u001b[0;1;32m                   ^\n",
      "\u001b[0m\u001b[1m/anaconda3/envs/cling/include/c++/v1/ostream:216:20: \u001b[0m\u001b[0;1;30mnote: \u001b[0mcandidate function not viable: no known conversion from 'Counter' to 'float' for\n",
      "      1st argument\u001b[0m\n",
      "    basic_ostream& operator<<(float __f);\n",
      "\u001b[0;1;32m                   ^\n",
      "\u001b[0m\u001b[1m/anaconda3/envs/cling/include/c++/v1/ostream:217:20: \u001b[0m\u001b[0;1;30mnote: \u001b[0mcandidate function not viable: no known conversion from 'Counter' to 'double'\n",
      "      for 1st argument\u001b[0m\n",
      "    basic_ostream& operator<<(double __f);\n",
      "\u001b[0;1;32m                   ^\n",
      "\u001b[0m\u001b[1m/anaconda3/envs/cling/include/c++/v1/ostream:218:20: \u001b[0m\u001b[0;1;30mnote: \u001b[0mcandidate function not viable: no known conversion from 'Counter' to\n",
      "      'long double' for 1st argument\u001b[0m\n",
      "    basic_ostream& operator<<(long double __f);\n",
      "\u001b[0;1;32m                   ^\n",
      "\u001b[0m\u001b[1m/anaconda3/envs/cling/include/c++/v1/ostream:220:20: \u001b[0m\u001b[0;1;30mnote: \u001b[0mcandidate function not viable: no known conversion from 'Counter' to\n",
      "      'basic_streambuf<std::__1::basic_ostream<char, std::__1::char_traits<char>\n",
      "      >::char_type, std::__1::basic_ostream<char, std::__1::char_traits<char>\n",
      "      >::traits_type> *' (aka 'basic_streambuf<char, std::__1::char_traits<char>\n",
      "      > *') for 1st argument\u001b[0m\n",
      "    basic_ostream& operator<<(basic_streambuf<char_type, traits_type>* __sb);\n",
      "\u001b[0;1;32m                   ^\n",
      "\u001b[0m\u001b[1m/anaconda3/envs/cling/include/c++/v1/ostream:756:1: \u001b[0m\u001b[0;1;30mnote: \u001b[0mcandidate function not viable: no known conversion from 'Counter' to 'char' for\n",
      "      2nd argument\u001b[0m\n",
      "operator<<(basic_ostream<_CharT, _Traits>& __os, char __cn)\n",
      "\u001b[0;1;32m^\n",
      "\u001b[0m\u001b[1m/anaconda3/envs/cling/include/c++/v1/ostream:789:1: \u001b[0m\u001b[0;1;30mnote: \u001b[0mcandidate function not viable: no known conversion from 'Counter' to 'char' for\n",
      "      2nd argument\u001b[0m\n",
      "operator<<(basic_ostream<char, _Traits>& __os, char __c)\n",
      "\u001b[0;1;32m^\n",
      "\u001b[0m\u001b[1m/anaconda3/envs/cling/include/c++/v1/ostream:796:1: \u001b[0m\u001b[0;1;30mnote: \u001b[0mcandidate function not viable: no known conversion from 'Counter' to\n",
      "      'signed char' for 2nd argument\u001b[0m\n",
      "operator<<(basic_ostream<char, _Traits>& __os, signed char __c)\n",
      "\u001b[0;1;32m^\n",
      "\u001b[0m\u001b[1m/anaconda3/envs/cling/include/c++/v1/ostream:803:1: \u001b[0m\u001b[0;1;30mnote: \u001b[0mcandidate function not viable: no known conversion from 'Counter' to\n",
      "      'unsigned char' for 2nd argument\u001b[0m\n",
      "operator<<(basic_ostream<char, _Traits>& __os, unsigned char __c)\n",
      "\u001b[0;1;32m^\n",
      "\u001b[0m\u001b[1m/anaconda3/envs/cling/include/c++/v1/ostream:817:1: \u001b[0m\u001b[0;1;30mnote: \u001b[0mcandidate function not viable: no known conversion from 'Counter' to\n",
      "      'const char *' for 2nd argument\u001b[0m\n",
      "operator<<(basic_ostream<_CharT, _Traits>& __os, const char* __strn)\n",
      "\u001b[0;1;32m^\n",
      "\u001b[0m\u001b[1m/anaconda3/envs/cling/include/c++/v1/ostream:863:1: \u001b[0m\u001b[0;1;30mnote: \u001b[0mcandidate function not viable: no known conversion from 'Counter' to\n",
      "      'const char *' for 2nd argument\u001b[0m\n",
      "operator<<(basic_ostream<char, _Traits>& __os, const char* __str)\n",
      "\u001b[0;1;32m^\n",
      "\u001b[0m\u001b[1m/anaconda3/envs/cling/include/c++/v1/ostream:870:1: \u001b[0m\u001b[0;1;30mnote: \u001b[0mcandidate function not viable: no known conversion from 'Counter' to\n",
      "      'const signed char *' for 2nd argument\u001b[0m\n",
      "operator<<(basic_ostream<char, _Traits>& __os, const signed char* __str)\n",
      "\u001b[0;1;32m^\n"
     ]
    },
    {
     "name": "stderr",
     "output_type": "stream",
     "text": [
      "\u001b[0m\u001b[1m/anaconda3/envs/cling/include/c++/v1/ostream:878:1: \u001b[0m\u001b[0;1;30mnote: \u001b[0mcandidate function not viable: no known conversion from 'Counter' to\n",
      "      'const unsigned char *' for 2nd argument\u001b[0m\n",
      "operator<<(basic_ostream<char, _Traits>& __os, const unsigned char* __str)\n",
      "\u001b[0;1;32m^\n",
      "\u001b[0m\u001b[1m/anaconda3/envs/cling/include/c++/v1/ostream:1062:1: \u001b[0m\u001b[0;1;30mnote: \u001b[0mcandidate function not viable: no known conversion from 'Counter' to 'const\n",
      "      std::__1::error_code' for 2nd argument\u001b[0m\n",
      "operator<<(basic_ostream<_CharT, _Traits>& __os, const error_code& __ec)\n",
      "\u001b[0;1;32m^\n",
      "\u001b[0m\u001b[1m/anaconda3/envs/cling/include/c++/v1/ostream:749:1: \u001b[0m\u001b[0;1;30mnote: \u001b[0mcandidate template ignored: deduced conflicting types for parameter '_CharT'\n",
      "      ('char' vs. 'Counter')\u001b[0m\n",
      "operator<<(basic_ostream<_CharT, _Traits>& __os, _CharT __c)\n",
      "\u001b[0;1;32m^\n",
      "\u001b[0m\u001b[1m/anaconda3/envs/cling/include/c++/v1/ostream:1053:1: \u001b[0m\u001b[0;1;30mnote: \u001b[0mcandidate template ignored: could not match\n",
      "      'basic_string_view<type-parameter-0-0, type-parameter-0-1>' against\n",
      "      'Counter'\u001b[0m\n",
      "operator<<(basic_ostream<_CharT, _Traits>& __os,\n",
      "\u001b[0;1;32m^\n",
      "\u001b[0m\u001b[1m/anaconda3/envs/cling/include/c++/v1/ostream:1082:1: \u001b[0m\u001b[0;1;30mnote: \u001b[0mcandidate template ignored: could not match 'unique_ptr<type-parameter-0-2,\n",
      "      type-parameter-0-3>' against 'Counter'\u001b[0m\n",
      "operator<<(basic_ostream<_CharT, _Traits>& __os, unique_ptr<_Yp, _Dp> co...\n",
      "\u001b[0;1;32m^\n",
      "\u001b[0m\u001b[1m/anaconda3/envs/cling/include/c++/v1/ostream:1035:1: \u001b[0m\u001b[0;1;30mnote: \u001b[0mcandidate template ignored: requirement\n",
      "      '!is_lvalue_reference<basic_ostream<char> &>::value' was not satisfied\n",
      "      [with _Stream = std::__1::basic_ostream<char> &, _Tp = Counter]\u001b[0m\n",
      "operator<<(_Stream&& __os, const _Tp& __x)\n",
      "\u001b[0;1;32m^\n",
      "\u001b[0m\u001b[1m/anaconda3/envs/cling/include/c++/v1/ostream:810:1: \u001b[0m\u001b[0;1;30mnote: \u001b[0mcandidate template ignored: could not match 'const _CharT *' against 'Counter'\u001b[0m\n",
      "operator<<(basic_ostream<_CharT, _Traits>& __os, const _CharT* __str)\n",
      "\u001b[0;1;32m^\n",
      "\u001b[0m\u001b[1m/anaconda3/envs/cling/include/c++/v1/ostream:1089:1: \u001b[0m\u001b[0;1;30mnote: \u001b[0mcandidate template ignored: could not match 'bitset<_Size>' against 'Counter'\u001b[0m\n",
      "operator<<(basic_ostream<_CharT, _Traits>& __os, const bitset<_Size>& __x)\n",
      "\u001b[0;1;32m^\n",
      "\u001b[0m\u001b[1m/anaconda3/envs/cling/include/c++/v1/iomanip:478:5: \u001b[0m\u001b[0;1;30mnote: \u001b[0mcandidate template ignored: could not match '__iom_t10<type-parameter-0-0>'\n",
      "      against 'Counter'\u001b[0m\n",
      "    operator<<(basic_ostream<_Cp, _Traits>& __os, const __iom_t10<_Cp>& __x);\n",
      "\u001b[0;1;32m    ^\n",
      "\u001b[0m\u001b[1m/anaconda3/envs/cling/include/c++/v1/iomanip:573:33: \u001b[0m\u001b[0;1;30mnote: \u001b[0mcandidate template ignored: could not match\n",
      "      '__quoted_output_proxy<type-parameter-0-0, type-parameter-0-2,\n",
      "      type-parameter-0-1>' against 'Counter'\u001b[0m\n",
      "basic_ostream<_CharT, _Traits>& operator<<(\n",
      "\u001b[0;1;32m                                ^\n",
      "\u001b[0m\u001b[1m/anaconda3/envs/cling/include/c++/v1/iomanip:593:33: \u001b[0m\u001b[0;1;30mnote: \u001b[0mcandidate template ignored: could not match '__quoted_proxy<type-parameter-0-0,\n",
      "      type-parameter-0-1, type-parameter-0-2>' against 'Counter'\u001b[0m\n",
      "basic_ostream<_CharT, _Traits>& operator<<(\n",
      "\u001b[0;1;32m                                ^\n",
      "\u001b[0m\u001b[1m/anaconda3/envs/cling/include/c++/v1/valarray:4153:1: \u001b[0m\u001b[0;1;30mnote: \u001b[0mcandidate template ignored: substitution failure [with _Expr1 =\n",
      "      std::__1::basic_ostream<char>, _Expr2 = Counter]: no type named\n",
      "      'value_type' in 'std::__1::basic_ostream<char>'\u001b[0m\n",
      "operator<<(const _Expr1& __x, const _Expr2& __y)\n",
      "\u001b[0;1;32m^\n",
      "\u001b[0m\u001b[1m/anaconda3/envs/cling/include/c++/v1/valarray:4168:1: \u001b[0m\u001b[0;1;30mnote: \u001b[0mcandidate template ignored: substitution failure [with _Expr =\n",
      "      std::__1::basic_ostream<char>]: no type named 'value_type' in\n",
      "      'std::__1::basic_ostream<char>'\u001b[0m\n",
      "operator<<(const _Expr& __x, const typename _Expr::value_type& __y)\n",
      "\u001b[0;1;32m^\n",
      "\u001b[0m\u001b[1m/anaconda3/envs/cling/include/c++/v1/valarray:4184:1: \u001b[0m\u001b[0;1;30mnote: \u001b[0mcandidate template ignored: substitution failure [with _Expr = Counter]: no type\n",
      "      named 'value_type' in 'Counter'\u001b[0m\n",
      "operator<<(const typename _Expr::value_type& __x, const _Expr& __y)\n",
      "\u001b[0;1;32m^\n",
      "\u001b[0m\u001b[1m/anaconda3/envs/cling/include/c++/v1/ostream:1045:1: \u001b[0m\u001b[0;1;30mnote: \u001b[0mcandidate template ignored: could not match 'basic_string<type-parameter-0-0,\n",
      "      type-parameter-0-1, type-parameter-0-2>' against 'Counter'\u001b[0m\n",
      "operator<<(basic_ostream<_CharT, _Traits>& __os,\n",
      "\u001b[0;1;32m^\n",
      "\u001b[0m\u001b[1m/anaconda3/envs/cling/include/c++/v1/ostream:1070:1: \u001b[0m\u001b[0;1;30mnote: \u001b[0mcandidate template ignored: could not match 'shared_ptr<type-parameter-0-2>'\n",
      "      against 'Counter'\u001b[0m\n",
      "operator<<(basic_ostream<_CharT, _Traits>& __os, shared_ptr<_Yp> const& __p)\n",
      "\u001b[0;1;32m^\n",
      "\u001b[0m\u001b[1m/anaconda3/envs/cling/include/c++/v1/iomanip:363:1: \u001b[0m\u001b[0;1;30mnote: \u001b[0mcandidate template ignored: could not match '__iom_t8<type-parameter-0-2>'\n",
      "      against 'Counter'\u001b[0m\n",
      "operator<<(basic_ostream<_CharT, _Traits>& __os, const __iom_t8<_MoneyT>& __x)\n",
      "\u001b[0;1;32m^\n",
      "\u001b[0m"
     ]
    },
    {
     "ename": "Interpreter Error",
     "evalue": "",
     "output_type": "error",
     "traceback": [
      "Interpreter Error: "
     ]
    }
   ],
   "source": [
    "Counter c(0);\n",
    "++c; // equivalent ot calling c.next()\n",
    "--c; // equivalent to calling c.prev()\n",
    "cout << c; // Prints the current value of the counter\n"
   ]
  },
  {
   "cell_type": "markdown",
   "metadata": {},
   "source": [
    "To make operators `++`, `--`, and `<<` work for counter objects, the `Counter` class must overload these operators\n",
    "\n",
    "From the above coding challenge, we can think of these operators as functions like this:\n",
    "* `++c` is equivalent to `c.operator++()`\n",
    "* `--c` is equivalent to `c.operator--()`\n",
    "* `cout << c` is equivalent to `operator++(cout, c)`\n",
    "\n",
    "Now we look at the leftmost operands for these operators. For both `++` and `--`, `c`,  which is a `Counter` object, is the leftmost operand. For the `<<` operand,  `cout` is leftmost operand.\n",
    "\n",
    "Because the object `c` belongs to our own `Counter` class and we can easily add functions to it, we use member functions to overload the `++` and `--` operators.\n",
    "\n",
    "On the other side, `cout` is an output stream object of a class given to us by the C++ standard library to which we cannot add member functions. Therefore we use a friend function instead to overload the `<<` operator.\n",
    "\n",
    "In C++, all operator-overloading functions (member or friend) must have a name that starts with the keyword `operator` followed by the operator symbol(s).\n",
    "\n",
    "Here is the `Counter` class after overloading the `++`, `--`, and `<<` operators. I changed the class name to `Counter2` so it does not conflict with the class `Counter` above."
   ]
  },
  {
   "cell_type": "code",
   "execution_count": 10,
   "metadata": {},
   "outputs": [],
   "source": [
    "class Counter2 {\n",
    "private:\n",
    "     int count;\n",
    "     int initial;\n",
    "protected:\n",
    "     int step;\n",
    "public:\n",
    "    Counter2(int i): initial(i), count(i), step(1){}\n",
    "    int next(){ return count += step; }\n",
    "    int prev(){ return count -= step; }\n",
    "    int current(){ return count; }\n",
    "    void reset(){ count = initial; }\n",
    "    \n",
    "    int operator++(){ return next(); } // Overloads prefix ++\n",
    "    int operator--(){ return prev(); } // Overloads prefix --\n",
    "    \n",
    "    friend ostream& operator<<(ostream& out, Counter2& c){ // Overloads <<\n",
    "        out << c.count;\n",
    "        return out;\n",
    "    } \n",
    "};"
   ]
  },
  {
   "cell_type": "markdown",
   "metadata": {},
   "source": [
    "Having these operator functions tells the C++ compiler what to do when it sees these the `++`, `--`, and `<<` operators used for objects of the `Counter2` class. In other words, we can now run the following code without errors:"
   ]
  },
  {
   "cell_type": "code",
   "execution_count": 11,
   "metadata": {},
   "outputs": [
    {
     "name": "stdout",
     "output_type": "stream",
     "text": [
      "12"
     ]
    }
   ],
   "source": [
    "Counter2 c(10);\n",
    "++c;\n",
    "--c;\n",
    "++c;\n",
    "++c;\n",
    "cout << c;"
   ]
  },
  {
   "cell_type": "markdown",
   "metadata": {},
   "source": [
    "We must keep in mind that a **friend function** is not a member function even if the friend function is defined inside the class. It's just a regular function designated as a friend. Being a friend allows the function to access the private and protected members of this class's objects. In the `Counter2` class, the `operator<<` function, being a friend of the `Counter2` class, is able to access the private member `count` of the `c` object of the `Counter2` class.\n",
    "\n",
    "To summarize, when overloading an operator we need to think of it as a function and find out its leftmost operand:\n",
    "* If the leftmost operand is an object of the class we are overloading, then use a member function\n",
    "* If the leftmost operand is not an object of the class we are overloading, then use a friend function.\n",
    "\n",
    "Pay attention to the signature of the friend `operator<<` function. It's a pattern that is repeated every time you want your object to work with `cout`. There is a similar pattern for `operator>>` which is used to make your object work with `cin`.\n",
    "\n",
    "Let us create another counter class by overloading four more operators:\n",
    "* the `+` operator such that `c + 5` means add 5 to c's count.\n",
    "* the `-` operator such that `c - 6` means subtract 6 from c's count.\n",
    "* the `==` operator such that `c1 == c2` returns true if `c1` has the same values for count, step, and initial as those of `c2`. It returns false otherwise.\n",
    "* the `!=` operator which is the opposite of `==`.\n",
    "* the `>>` operator such that `cin >> c` prompts the user to enter three integers: one for initial, another for count, and the last for step.\n",
    "\n",
    "Here is the new  counter class."
   ]
  },
  {
   "cell_type": "code",
   "execution_count": 12,
   "metadata": {},
   "outputs": [],
   "source": [
    "class Counter3 {\n",
    "private:\n",
    "     int count;\n",
    "     int initial;\n",
    "protected:\n",
    "     int step;\n",
    "public:\n",
    "    Counter3(int i): initial(i), count(i), step(1){}\n",
    "    int next(){ return count += step; }\n",
    "    int prev(){ return count -= step; }\n",
    "    int current(){ return count; }\n",
    "    void reset(){ count = initial; }\n",
    "    \n",
    "    int operator++(){ return next(); } // Overloads prefix ++\n",
    "    int operator--(){ return prev(); } // Overloads prefix --\n",
    "    \n",
    "    friend ostream& operator<<(ostream& out, Counter3& c){ // Overloads <<\n",
    "        out << c.count;\n",
    "        return out;\n",
    "    } \n",
    "    \n",
    "    // The new five operators\n",
    "    void operator+(int n){ count += n; }\n",
    "    void operator-(int n){ count -= n; }\n",
    "    bool operator==(Counter3& c){\n",
    "        return this->initial == c.initial && this->count == c.count && this->step == c.step;\n",
    "    }\n",
    "    bool operator!=(Counter3& c) { return !(*this == c); }\n",
    "    friend istream& operator>>(istream& in, Counter3& c){\n",
    "        cout << \"Enter counter initial, count, and step: \";\n",
    "        in >> c.initial >>  c.count >> c.step;\n",
    "        return in;\n",
    "    }\n",
    "};"
   ]
  },
  {
   "cell_type": "markdown",
   "metadata": {},
   "source": [
    "which allows us to run something like this:"
   ]
  },
  {
   "cell_type": "code",
   "execution_count": 13,
   "metadata": {
    "scrolled": true
   },
   "outputs": [
    {
     "name": "stdout",
     "output_type": "stream",
     "text": [
      "Enter counter initial, count, and step: 1\n",
      "2\n",
      "3\n",
      "2\n",
      "5\n",
      "14\n",
      "11\n",
      "1\n",
      "0\n"
     ]
    }
   ],
   "source": [
    "Counter3 c3(0);\n",
    "cin >> c3;\n",
    "cout << c3 << endl;\n",
    "++c3;\n",
    "cout << c3 << endl;\n",
    "c3 + 9;\n",
    "cout << c3 << endl;\n",
    "--c3;\n",
    "cout << c3 << endl;\n",
    "c3 - 2;\n",
    "cout << (c3 == c3) << endl;\n",
    "cout << (c3 != c3) << endl;"
   ]
  },
  {
   "cell_type": "markdown",
   "metadata": {},
   "source": [
    "### CODING CHALLENGE\n",
    "\n",
    "Copy the following class to the code cell below and refactor it so as to overload the following operators:\n",
    "* the `>>` operator such that `cin >> d` prompts the user to enter two integers: feet and inches.\n",
    "* the `<<` operator such that `cout << d` prints out the distance `d` in a format like this: `12' 3\"`.\n",
    "* the `+` operator such that `d + 5` means add 5 feed to d.\n",
    "* the `--` operator such that `--d` means subtract d's fee by 1 foot.\n",
    "* the `==` operator such that `d1 == d2` returns true if `d1` has the same feet and inches as `d2`.\n",
    "\n",
    "```c++\n",
    "class Distance{\n",
    "private:\n",
    "    int feet;\n",
    "    int inches;\n",
    "\n",
    "public:\n",
    "    Distance(): feet(0), inches(0){}\n",
    "    Distance(int feet, int inches): feet(feet), inches(inches){}\n",
    "    Distance& add(const Distance& d){\n",
    "        this->feet += d.feet + (this->inches + d.inches) / 12;\n",
    "        this->inches = (this->inches + d.inches) % 12;\n",
    "        return *this;\n",
    "    }\n",
    "    Distance& add(int feet){\n",
    "        this->feet += feet;\n",
    "        return *this;\n",
    "    }\n",
    "    Distance& add(int feet, int inches){\n",
    "        this->feet += feet + (this->inches + inches) / 12;\n",
    "        this->inches = (this->inches + inches) % 12;\n",
    "        return *this;\n",
    "    }\n",
    "    \n",
    "    Distance& show(){\n",
    "        cout << this->feet << \"' \" << this->inches << \"\\\"\" << endl;\n",
    "        return *this;\n",
    "    }\n",
    "};\n",
    "```"
   ]
  },
  {
   "cell_type": "code",
   "execution_count": 14,
   "metadata": {},
   "outputs": [],
   "source": [
    "//TODO\n",
    "\n",
    "class Distance{\n",
    "private:\n",
    "    int feet;\n",
    "    int inches;\n",
    "public:\n",
    "    Distance(): feet(0), inches(0){}\n",
    "    Distance(int feet, int inches): feet(feet), inches(inches){}\n",
    "    Distance& add(const Distance& d){\n",
    "        this->feet += d.feet + (this->inches + d.inches) / 12;\n",
    "        this->inches = (this->inches + d.inches) % 12;\n",
    "        return *this;\n",
    "    }\n",
    "    Distance& add(int feet){\n",
    "        this->feet += feet;\n",
    "        return *this;\n",
    "    }\n",
    "    Distance& add(int feet, int inches){\n",
    "        this->feet += feet + (this->inches + inches) / 12;\n",
    "        this->inches = (this->inches + inches) % 12;\n",
    "        return *this;\n",
    "    }\n",
    "\n",
    "    Distance& show(){\n",
    "        cout << this->feet << \"' \" << this->inches << \"\\\"\" << endl;\n",
    "        return *this;\n",
    "    }\n",
    "    \n",
    "    friend istream& operator>>(istream& in, Distance& d){\n",
    "        cout << \"Enter two integers: feet and inches \";\n",
    "        in >> d.feet >>  d.inches;\n",
    "        return in;\n",
    "    }\n",
    "    \n",
    "    friend ostream& operator<<(ostream& out, Distance& d){ \n",
    "        out << d.feet << \"' \" << d.inches << '\"';\n",
    "        return out;\n",
    "    } \n",
    "    \n",
    "    void operator+(int f){ this->feet += f; }\n",
    "    void operator--(){ this->feet--; }\n",
    "    bool operator==(Distance& d){\n",
    "        return this->feet == d.feet && this->inches == d.inches;\n",
    "    }\n",
    "    \n",
    "};"
   ]
  },
  {
   "cell_type": "markdown",
   "metadata": {},
   "source": [
    "### CODING CHALLENGE\n",
    "\n",
    "In the code cell below, create two distance objects `d1` and `d2` and use them to call and test all the five operators overloaded in the previous coding challenge."
   ]
  },
  {
   "cell_type": "code",
   "execution_count": 15,
   "metadata": {},
   "outputs": [
    {
     "name": "stdout",
     "output_type": "stream",
     "text": [
      "Enter two integers: feet and inches 1\n",
      "1\n",
      "Enter two integers: feet and inches 2\n",
      "2\n",
      "6' 1\"\n",
      "7' 2\"\n",
      "5' 1\"\n",
      "6' 2\"\n",
      "0\n"
     ]
    }
   ],
   "source": [
    "//TODO\n",
    "\n",
    "Distance d1;\n",
    "Distance d2;\n",
    "\n",
    "cin >> d1;\n",
    "cin >> d2;\n",
    "d1 + 5;\n",
    "d2 + 5;\n",
    "cout << d1 << endl << d2 << endl;\n",
    "--d1;\n",
    "--d2;\n",
    "cout << d1 << endl << d2 << endl;  \n",
    "cout << (d1 == d2) << endl;"
   ]
  },
  {
   "cell_type": "markdown",
   "metadata": {},
   "source": [
    "## Another look at the counter class\n",
    "\n",
    "Right now the above `Counter3` class suppors something like this:"
   ]
  },
  {
   "cell_type": "code",
   "execution_count": 16,
   "metadata": {},
   "outputs": [],
   "source": [
    "Counter3 c4(0);\n",
    "++c4;\n",
    "--c4;\n",
    "c4 + 9;\n",
    "c4 - 2;"
   ]
  },
  {
   "cell_type": "markdown",
   "metadata": {},
   "source": [
    "However, it does not support something like this. Uncomment the code cell below to see the errors."
   ]
  },
  {
   "cell_type": "code",
   "execution_count": 17,
   "metadata": {},
   "outputs": [
    {
     "name": "stderr",
     "output_type": "stream",
     "text": [
      "\u001b[1minput_line_24:2:4: \u001b[0m\u001b[0;1;31merror: \u001b[0m\u001b[1mcannot increment value of type 'Counter3'\u001b[0m\n",
      " c4++;\n",
      "\u001b[0;1;32m ~~^\n",
      "\u001b[0m\u001b[1minput_line_24:3:3: \u001b[0m\u001b[0;1;31merror: \u001b[0m\u001b[1mcannot decrement value of type 'Counter3'\u001b[0m\n",
      "c4--;\n",
      "\u001b[0;1;32m~~^\n",
      "\u001b[0m\u001b[1minput_line_24:4:3: \u001b[0m\u001b[0;1;31merror: \u001b[0m\u001b[1minvalid operands to binary expression ('int' and 'Counter3')\u001b[0m\n",
      "9 + c4;\n",
      "\u001b[0;1;32m~ ^ ~~\n",
      "\u001b[0m\u001b[1m/anaconda3/envs/cling/include/c++/v1/iterator:779:1: \u001b[0m\u001b[0;1;30mnote: \u001b[0mcandidate template ignored: could not match\n",
      "      'reverse_iterator<type-parameter-0-0>' against 'Counter3'\u001b[0m\n",
      "operator+(typename reverse_iterator<_Iter>::difference_type __n, const r...\n",
      "\u001b[0;1;32m^\n",
      "\u001b[0m\u001b[1m/anaconda3/envs/cling/include/c++/v1/iterator:1220:1: \u001b[0m\u001b[0;1;30mnote: \u001b[0mcandidate template ignored: could not match 'move_iterator<type-parameter-0-0>'\n",
      "      against 'Counter3'\u001b[0m\n",
      "operator+(typename move_iterator<_Iter>::difference_type __n, const move...\n",
      "\u001b[0;1;32m^\n",
      "\u001b[0m\u001b[1m/anaconda3/envs/cling/include/c++/v1/iterator:1494:5: \u001b[0m\u001b[0;1;30mnote: \u001b[0mcandidate template ignored: could not match '__wrap_iter<type-parameter-0-0>'\n",
      "      against 'Counter3'\u001b[0m\n",
      "    operator+(typename __wrap_iter<_Iter1>::difference_type, __wrap_iter...\n",
      "\u001b[0;1;32m    ^\n",
      "\u001b[0m\u001b[1m/anaconda3/envs/cling/include/c++/v1/string:4046:1: \u001b[0m\u001b[0;1;30mnote: \u001b[0mcandidate template ignored: could not match 'basic_string<type-parameter-0-0,\n",
      "      type-parameter-0-1, type-parameter-0-2>' against 'int'\u001b[0m\n",
      "operator+(const basic_string<_CharT, _Traits, _Allocator>& __lhs,\n",
      "\u001b[0;1;32m^\n",
      "\u001b[0m\u001b[1m/anaconda3/envs/cling/include/c++/v1/string:4059:1: \u001b[0m\u001b[0;1;30mnote: \u001b[0mcandidate template ignored: could not match 'const _CharT *' against 'int'\u001b[0m\n",
      "operator+(const _CharT* __lhs , const basic_string<_CharT,_Traits,_Alloc...\n",
      "\u001b[0;1;32m^\n",
      "\u001b[0m\u001b[1m/anaconda3/envs/cling/include/c++/v1/string:4071:1: \u001b[0m\u001b[0;1;30mnote: \u001b[0mcandidate template ignored: could not match 'basic_string<type-parameter-0-0,\n",
      "      type-parameter-0-1, type-parameter-0-2>' against 'Counter3'\u001b[0m\n",
      "operator+(_CharT __lhs, const basic_string<_CharT,_Traits,_Allocator>& __rhs)\n",
      "\u001b[0;1;32m^\n",
      "\u001b[0m\u001b[1m/anaconda3/envs/cling/include/c++/v1/string:4083:1: \u001b[0m\u001b[0;1;30mnote: \u001b[0mcandidate template ignored: could not match 'basic_string<type-parameter-0-0,\n",
      "      type-parameter-0-1, type-parameter-0-2>' against 'int'\u001b[0m\n",
      "operator+(const basic_string<_CharT, _Traits, _Allocator>& __lhs, const ...\n",
      "\u001b[0;1;32m^\n",
      "\u001b[0m\u001b[1m/anaconda3/envs/cling/include/c++/v1/string:4095:1: \u001b[0m\u001b[0;1;30mnote: \u001b[0mcandidate template ignored: could not match 'basic_string<type-parameter-0-0,\n",
      "      type-parameter-0-1, type-parameter-0-2>' against 'int'\u001b[0m\n",
      "operator+(const basic_string<_CharT, _Traits, _Allocator>& __lhs, _CharT __rhs)\n",
      "\u001b[0;1;32m^\n",
      "\u001b[0m\u001b[1m/anaconda3/envs/cling/include/c++/v1/string:4109:1: \u001b[0m\u001b[0;1;30mnote: \u001b[0mcandidate template ignored: could not match 'basic_string<type-parameter-0-0,\n",
      "      type-parameter-0-1, type-parameter-0-2>' against 'int'\u001b[0m\n",
      "operator+(basic_string<_CharT, _Traits, _Allocator>&& __lhs, const basic...\n",
      "\u001b[0;1;32m^\n",
      "\u001b[0m\u001b[1m/anaconda3/envs/cling/include/c++/v1/string:4117:1: \u001b[0m\u001b[0;1;30mnote: \u001b[0mcandidate template ignored: could not match 'basic_string<type-parameter-0-0,\n",
      "      type-parameter-0-1, type-parameter-0-2>' against 'int'\u001b[0m\n",
      "operator+(const basic_string<_CharT, _Traits, _Allocator>& __lhs, basic_...\n",
      "\u001b[0;1;32m^\n",
      "\u001b[0m\u001b[1m/anaconda3/envs/cling/include/c++/v1/string:4125:1: \u001b[0m\u001b[0;1;30mnote: \u001b[0mcandidate template ignored: could not match 'basic_string<type-parameter-0-0,\n",
      "      type-parameter-0-1, type-parameter-0-2>' against 'int'\u001b[0m\n",
      "operator+(basic_string<_CharT, _Traits, _Allocator>&& __lhs, basic_strin...\n",
      "\u001b[0;1;32m^\n",
      "\u001b[0m\u001b[1m/anaconda3/envs/cling/include/c++/v1/string:4133:1: \u001b[0m\u001b[0;1;30mnote: \u001b[0mcandidate template ignored: could not match 'const _CharT *' against 'int'\u001b[0m\n",
      "operator+(const _CharT* __lhs , basic_string<_CharT,_Traits,_Allocator>&& __rhs)\n",
      "\u001b[0;1;32m^\n",
      "\u001b[0m\u001b[1m/anaconda3/envs/cling/include/c++/v1/string:4141:1: \u001b[0m\u001b[0;1;30mnote: \u001b[0mcandidate template ignored: could not match 'basic_string<type-parameter-0-0,\n",
      "      type-parameter-0-1, type-parameter-0-2>' against 'Counter3'\u001b[0m\n",
      "operator+(_CharT __lhs, basic_string<_CharT,_Traits,_Allocator>&& __rhs)\n",
      "\u001b[0;1;32m^\n",
      "\u001b[0m\u001b[1m/anaconda3/envs/cling/include/c++/v1/string:4150:1: \u001b[0m\u001b[0;1;30mnote: \u001b[0mcandidate template ignored: could not match 'basic_string<type-parameter-0-0,\n",
      "      type-parameter-0-1, type-parameter-0-2>' against 'int'\u001b[0m\n",
      "operator+(basic_string<_CharT, _Traits, _Allocator>&& __lhs, const _Char...\n",
      "\u001b[0;1;32m^\n",
      "\u001b[0m\u001b[1m/anaconda3/envs/cling/include/c++/v1/string:4158:1: \u001b[0m\u001b[0;1;30mnote: \u001b[0mcandidate template ignored: could not match 'basic_string<type-parameter-0-0,\n",
      "      type-parameter-0-1, type-parameter-0-2>' against 'int'\u001b[0m\n",
      "operator+(basic_string<_CharT, _Traits, _Allocator>&& __lhs, _CharT __rhs)\n",
      "\u001b[0;1;32m^\n",
      "\u001b[0m\u001b[1m/anaconda3/envs/cling/include/c++/v1/valarray:3923:1: \u001b[0m\u001b[0;1;30mnote: \u001b[0mcandidate template ignored: substitution failure [with _Expr1 = int, _Expr2 =\n",
      "      Counter3]: no member named 'value' in 'std::__1::__is_val_expr<int>'\u001b[0m\n",
      "operator+(const _Expr1& __x, const _Expr2& __y)\n",
      "\u001b[0;1;32m^\n",
      "\u001b[0m\u001b[1m/anaconda3/envs/cling/include/c++/v1/valarray:3938:1: \u001b[0m\u001b[0;1;30mnote: \u001b[0mcandidate template ignored: substitution failure [with _Expr = int]: no member\n",
      "      named 'value' in 'std::__1::__is_val_expr<int>'\u001b[0m\n",
      "operator+(const _Expr& __x, const typename _Expr::value_type& __y)\n",
      "\u001b[0;1;32m^\n",
      "\u001b[0m\u001b[1m/anaconda3/envs/cling/include/c++/v1/valarray:3954:1: \u001b[0m\u001b[0;1;30mnote: \u001b[0mcandidate template ignored: substitution failure [with _Expr = Counter3]: no\n",
      "      member named 'value' in 'std::__1::__is_val_expr<Counter3>'\u001b[0m\n",
      "operator+(const typename _Expr::value_type& __x, const _Expr& __y)\n",
      "\u001b[0;1;32m^\n",
      "\u001b[0m\u001b[1minput_line_24:5:3: \u001b[0m\u001b[0;1;31merror: \u001b[0m\u001b[1minvalid operands to binary expression ('int' and 'Counter3')\u001b[0m\n",
      "2 - c4;\n",
      "\u001b[0;1;32m~ ^ ~~\n",
      "\u001b[0m\u001b[1m/anaconda3/envs/cling/include/c++/v1/iterator:761:1: \u001b[0m\u001b[0;1;30mnote: \u001b[0mcandidate template ignored: could not match\n",
      "      'reverse_iterator<type-parameter-0-0>' against 'int'\u001b[0m\n",
      "operator-(const reverse_iterator<_Iter1>& __x, const reverse_iterator<_I...\n",
      "\u001b[0;1;32m^\n",
      "\u001b[0m\u001b[1m/anaconda3/envs/cling/include/c++/v1/iterator:1202:1: \u001b[0m\u001b[0;1;30mnote: \u001b[0mcandidate template ignored: could not match 'move_iterator<type-parameter-0-0>'\n",
      "      against 'int'\u001b[0m\n",
      "operator-(const move_iterator<_Iter1>& __x, const move_iterator<_Iter2>& __y)\n",
      "\u001b[0;1;32m^\n",
      "\u001b[0m\u001b[1m/anaconda3/envs/cling/include/c++/v1/iterator:1482:5: \u001b[0m\u001b[0;1;30mnote: \u001b[0mcandidate template ignored: could not match '__wrap_iter<type-parameter-0-0>'\n",
      "      against 'int'\u001b[0m\n",
      "    operator-(const __wrap_iter<_Iter1>& __x, const __wrap_iter<_Iter2>...\n",
      "\u001b[0;1;32m    ^\n",
      "\u001b[0m\u001b[1m/anaconda3/envs/cling/include/c++/v1/string:559:11: \u001b[0m\u001b[0;1;30mnote: \u001b[0mcandidate template ignored: could not match 'fpos<type-parameter-0-0>' against\n",
      "      'int'\u001b[0m\n",
      "streamoff operator-(const fpos<_StateT>& __x, const fpos<_StateT>& __y)\n",
      "\u001b[0;1;32m          ^\n",
      "\u001b[0m\u001b[1m/anaconda3/envs/cling/include/c++/v1/valarray:3969:1: \u001b[0m\u001b[0;1;30mnote: \u001b[0mcandidate template ignored: substitution failure [with _Expr1 = int, _Expr2 =\n",
      "      Counter3]: no member named 'value' in 'std::__1::__is_val_expr<int>'\u001b[0m\n",
      "operator-(const _Expr1& __x, const _Expr2& __y)\n",
      "\u001b[0;1;32m^\n",
      "\u001b[0m\u001b[1m/anaconda3/envs/cling/include/c++/v1/valarray:3984:1: \u001b[0m\u001b[0;1;30mnote: \u001b[0mcandidate template ignored: substitution failure [with _Expr = int]: no member\n",
      "      named 'value' in 'std::__1::__is_val_expr<int>'\u001b[0m\n",
      "operator-(const _Expr& __x, const typename _Expr::value_type& __y)\n",
      "\u001b[0;1;32m^\n",
      "\u001b[0m\u001b[1m/anaconda3/envs/cling/include/c++/v1/valarray:4000:1: \u001b[0m\u001b[0;1;30mnote: \u001b[0mcandidate template ignored: substitution failure [with _Expr = Counter3]: no\n",
      "      member named 'value' in 'std::__1::__is_val_expr<Counter3>'\u001b[0m\n",
      "operator-(const typename _Expr::value_type& __x, const _Expr& __y)\n",
      "\u001b[0;1;32m^\n",
      "\u001b[0m"
     ]
    },
    {
     "ename": "Interpreter Error",
     "evalue": "",
     "output_type": "error",
     "traceback": [
      "Interpreter Error: "
     ]
    }
   ],
   "source": [
    "c4++;\n",
    "c4--;\n",
    "9 + c4;\n",
    "2 - c4;\n"
   ]
  },
  {
   "cell_type": "markdown",
   "metadata": {},
   "source": [
    "How do we support the postfix operations `c4++` and `c4--` and what makes them different from the already implemented  prefix operators `++c4` and `--c4`? It turns out that to distinguish between prefix and postfix operators, C++ uses a different signature for the postfix operators from the prefix operators. While the prefix operators use the following definitions:\n",
    "\n",
    "```c++\n",
    "int operator++(){ return next(); }\n",
    "int operator--(){ return prev(); } \n",
    "```\n",
    "the postfix operators use the following definitions:\n",
    "\n",
    "```c++\n",
    "int operator++(int){ return next(); }\n",
    "int operator--(int){ return prev(); } \n",
    "```\n",
    "\n",
    "The `int` parameter is a dummy unused parameter meant to only tell C++ which definition is for prefix and which is postfix operators. \n",
    "\n",
    "On the other hand, the expressions `9 + c4` and `2 - c4` both have integer leftmost operands. That means we need to use a friend function for these.\n",
    "\n",
    "Here is a counter class that supports these new operators."
   ]
  },
  {
   "cell_type": "code",
   "execution_count": 18,
   "metadata": {},
   "outputs": [],
   "source": [
    "class Counter4 {\n",
    "private:\n",
    "     int count;\n",
    "     int initial;\n",
    "protected:\n",
    "     int step;\n",
    "public:\n",
    "    Counter4(int i): initial(i), count(i), step(1){}\n",
    "    int next(){ return count += step; }\n",
    "    int prev(){ return count -= step; }\n",
    "    int current(){ return count; }\n",
    "    void reset(){ count = initial; }\n",
    "    \n",
    "    int operator++(){ return next(); } // Overloads prefix ++\n",
    "    int operator--(){ return prev(); } // Overloads prefix --\n",
    "    \n",
    "    friend ostream& operator<<(ostream& out, Counter4& c){ // Overloads <<\n",
    "        out << c.count;\n",
    "        return out;\n",
    "    } \n",
    "    \n",
    "    // The new five operators\n",
    "    void operator+(int n){ count += n; }\n",
    "    void operator-(int n){ count -= n; }\n",
    "    bool operator==(Counter4& c){\n",
    "        return this->initial == c.initial && this->count == c.count && this->step == c.step;\n",
    "    }\n",
    "    bool operator!=(Counter4& c) { return !(*this == c); }\n",
    "    friend istream& operator>>(istream& in, Counter4& c){\n",
    "        cout << \"Enter counter initial, count, and step: \";\n",
    "        in >> c.initial >>  c.count >> c.step;\n",
    "        return in;\n",
    "    }\n",
    "    \n",
    "    int operator++(int){ return next(); } // Overloads postfix ++\n",
    "    int operator--(int){ return prev(); } // Overloads postfix --\n",
    "    \n",
    "    friend void operator+(int n, Counter4& c){ c.count += n; }\n",
    "    friend void operator-(int n, Counter4& c){ c.count -= n; }\n",
    "    \n",
    "};"
   ]
  },
  {
   "cell_type": "markdown",
   "metadata": {},
   "source": [
    "Let's test these operators again."
   ]
  },
  {
   "cell_type": "code",
   "execution_count": 19,
   "metadata": {},
   "outputs": [
    {
     "name": "stdout",
     "output_type": "stream",
     "text": [
      "7"
     ]
    }
   ],
   "source": [
    "Counter4 cc(0);\n",
    "cc++;\n",
    "cc--;\n",
    "9 + cc;\n",
    "2 - cc;\n",
    "cout << cc;"
   ]
  },
  {
   "cell_type": "markdown",
   "metadata": {},
   "source": [
    "Finally here is an example of overloading the `[]` operator which is typically used for indexing arrays."
   ]
  },
  {
   "cell_type": "code",
   "execution_count": 20,
   "metadata": {},
   "outputs": [],
   "source": [
    "class Complex {\n",
    "private:\n",
    "    double real, imaginary;\n",
    "\n",
    "public:\n",
    "    Complex(double r = 0, double i= 0): real(r), imaginary(i){}\n",
    "\n",
    "    double operator[](int index) const { //READ OONLY: real value at index 0, imaginary at any other index;\n",
    "        switch(index){\n",
    "        case 0: return real;\n",
    "        default: return imaginary;\n",
    "        }\n",
    "    }\n",
    "    \n",
    "    double& operator[](int index){ //WRITE: real value at index 0, imaginary at any other index;\n",
    "        switch(index){\n",
    "        case 0: return real;\n",
    "        default: return imaginary;\n",
    "        }\n",
    "    }\n",
    "};"
   ]
  },
  {
   "cell_type": "code",
   "execution_count": 21,
   "metadata": {
    "scrolled": true
   },
   "outputs": [
    {
     "name": "stdout",
     "output_type": "stream",
     "text": [
      "5\n",
      "9"
     ]
    }
   ],
   "source": [
    "Complex xx(5,6);\n",
    "\n",
    "cout << xx[0] << endl;\n",
    "xx[1] = 9;\n",
    "cout << xx[1];"
   ]
  },
  {
   "cell_type": "markdown",
   "metadata": {},
   "source": [
    "## Operator overloading restrictions\n",
    "As powerful as operator overloading can be, it comes with a few restrictions:  \n",
    "* You cannot introduce a new operator that C++ does not already support. \n",
    "* You cannot alter the precedence of the operator you are overloading.\n",
    "* You cannot change the number of operands that an operator takes.\n",
    "* Overloaded operators cannot have default arguments.\n",
    "* The following operators cannot be overloaded: `.`, `::`, `.*`, `?:`, and `sizeof`\n",
    "\n",
    "### CODING CHALLENGE\n",
    "\n",
    "Copy the following class into the code cell below and refactor it so as to overload the following operators:\n",
    "* the `>>` operator such that `cin >> p` prompts the user to enter two integers: x and y.\n",
    "* the `<<` operator such that `cout << p` prints out the point `p` in a format like this: `(10, 15)`.\n",
    "* the read-only `[]` operator such that `p[0]` returns p's x and `y[1]` p's y.\n",
    "* the write `[]` operator such that `p[0] = 3` sets p's x to 3 and `y[1] = 7` sets p's y to 7.\n",
    "\n",
    "```c++\n",
    "class Point {\n",
    "private:\n",
    "    int x, y;\n",
    "    \n",
    "public:\n",
    "    Point(int x, int y): x(x), y(y){}\n",
    "    void print(){\n",
    "        cout << \"(\" << this->x << \", \" << this->y << \")\" << endl;\n",
    "    }\n",
    "};\n",
    "```\n"
   ]
  },
  {
   "cell_type": "code",
   "execution_count": 22,
   "metadata": {},
   "outputs": [],
   "source": [
    "//TODO\n",
    "\n",
    "class Point {\n",
    "private:\n",
    "    int x, y;\n",
    "\n",
    "public:\n",
    "    Point(int x, int y): x(x), y(y){}\n",
    "    void print(){\n",
    "        cout << \"(\" << this->x << \", \" << this->y << \")\" << endl;\n",
    "    }\n",
    "\n",
    "    friend istream& operator>>(istream& in, Point& p){\n",
    "        cout << \"Enter two integers for x and y:\";\n",
    "        in >> p.x >> p.y;\n",
    "        return in;\n",
    "    }\n",
    "    \n",
    "    friend ostream& operator<<(ostream& out, Point& p){ \n",
    "        out << \"(\" << p.x << \", \" << p.y << \")\";\n",
    "        return out;\n",
    "    } \n",
    "    \n",
    "    int operator[](int index) const {\n",
    "        switch(index){\n",
    "            case 0: return x;\n",
    "            default: return y;\n",
    "        }\n",
    "    }\n",
    "    \n",
    "    int& operator[](int index){\n",
    "        switch(index){\n",
    "            case 0: return x;\n",
    "            default: return y;\n",
    "        }\n",
    "    }\n",
    "\n",
    "};"
   ]
  },
  {
   "cell_type": "markdown",
   "metadata": {},
   "source": [
    "### CODING CHALLENGE\n",
    "\n",
    "In the code cell below, create two point objects `p` and `q` and use them to call and test all the four operators overloaded in the previous coding challenge."
   ]
  },
  {
   "cell_type": "code",
   "execution_count": 23,
   "metadata": {},
   "outputs": [
    {
     "name": "stdout",
     "output_type": "stream",
     "text": [
      "Enter two integers for x and y:3\n",
      "4\n",
      "Enter two integers for x and y:9\n",
      "10\n",
      "(3, 4)\n",
      "(9, 10)\n",
      "3\n",
      "4\n",
      "9\n",
      "10\n",
      "(90, 100)(2, 5)"
     ]
    }
   ],
   "source": [
    "//TODO\n",
    "{\n",
    "Point p(0,0);\n",
    "Point q(0,0);\n",
    "\n",
    "cin >> p;\n",
    "cin >> q;\n",
    "\n",
    "cout << p << endl;\n",
    "cout << q << endl;\n",
    "    \n",
    "cout << p[0] << endl;\n",
    "cout << p[1] << endl;\n",
    "    \n",
    "cout << q[0] << endl;\n",
    "cout << q[1] << endl;\n",
    "    \n",
    "p[0] = 90;\n",
    "p[1] = 100;\n",
    "    \n",
    "q[0] = 2;\n",
    "q[1] = 5;   \n",
    "    \n",
    "cout << p;\n",
    "cout << q;\n",
    "}"
   ]
  },
  {
   "cell_type": "code",
   "execution_count": null,
   "metadata": {},
   "outputs": [],
   "source": []
  }
 ],
 "metadata": {
  "kernelspec": {
   "display_name": "C++17",
   "language": "C++17",
   "name": "xcpp17"
  },
  "language_info": {
   "codemirror_mode": "text/x-c++src",
   "file_extension": ".cpp",
   "mimetype": "text/x-c++src",
   "name": "c++",
   "version": "-std=c++17"
  }
 },
 "nbformat": 4,
 "nbformat_minor": 2
}
