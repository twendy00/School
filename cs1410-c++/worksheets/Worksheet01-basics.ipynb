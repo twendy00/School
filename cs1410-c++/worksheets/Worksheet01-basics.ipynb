{
 "cells": [
  {
   "cell_type": "markdown",
   "metadata": {},
   "source": [
    "# C++ Programming Basics\n",
    "\n",
    "## The Hello World program\n",
    "Here is the simplest C++ program. It contains only one function named `main`. This function does only one thing: it prints the string \"Hello, World!\" to the screen.\n",
    "\n",
    "``` c++\n",
    "// FILE: ex01-hello.cpp\n",
    "#include <iostream>\n",
    "\n",
    "int main(){\n",
    "  std::cout << \"Hello, world!\"\n",
    "            << std::endl;\n",
    "\n",
    "  return 0;\n",
    "}\n",
    "```\n",
    "\n",
    "Use the `std::cout` along with the **insertion operator** `<<` to output text (strings and numbers) to the console. We can use `std::endl` to output a line break. To use `std::cout`, we must first include the `<iostream>` header file.\n",
    "\n",
    "Here is the example hello-world output statement. Run it by selecting and running (using Run button) the following two code cells."
   ]
  },
  {
   "cell_type": "code",
   "execution_count": 2,
   "metadata": {},
   "outputs": [],
   "source": [
    "#include <iostream>"
   ]
  },
  {
   "cell_type": "code",
   "execution_count": 2,
   "metadata": {},
   "outputs": [
    {
     "name": "stdout",
     "output_type": "stream",
     "text": [
      "Hello, world!\n"
     ]
    }
   ],
   "source": [
    "std::cout << \"Hello, world!\" << std::endl;"
   ]
  },
  {
   "cell_type": "markdown",
   "metadata": {},
   "source": [
    "## C++ does not care about white spaces (space, tabs, and new lines)\n",
    "C++ does not care much for white space (spaces, tabs, and new lines). So the above statement would still work if was written as:"
   ]
  },
  {
   "cell_type": "code",
   "execution_count": 3,
   "metadata": {},
   "outputs": [
    {
     "name": "stdout",
     "output_type": "stream",
     "text": [
      "Hello, world!\n"
     ]
    }
   ],
   "source": [
    "std ::  cout <<                \"Hello, world!\" << \n",
    "    std   ::   endl;"
   ]
  },
  {
   "cell_type": "markdown",
   "metadata": {},
   "source": [
    "However, spaces cannot break operators like `::` and `<<` or keywords like `int` or `while`. Doing so will result in errors. Run the following to see these errors."
   ]
  },
  {
   "cell_type": "code",
   "execution_count": 4,
   "metadata": {},
   "outputs": [
    {
     "name": "stdout",
     "output_type": "stream",
     "text": [
      "Hello, world!\n"
     ]
    }
   ],
   "source": [
    "std::cout << \"Hello, world!\" << std::endl;"
   ]
  },
  {
   "cell_type": "markdown",
   "metadata": {},
   "source": [
    "### CODING CHALLENGE\n",
    "Copy the above statement to the code cell below, fix it and and re-write it such that it spans five lines.  Make sure it still runs."
   ]
  },
  {
   "cell_type": "code",
   "execution_count": 5,
   "metadata": {},
   "outputs": [
    {
     "name": "stdout",
     "output_type": "stream",
     "text": [
      "Hello, world!\n"
     ]
    }
   ],
   "source": [
    "std::cout << \"Hello, world!\" << std::endl;"
   ]
  },
  {
   "cell_type": "markdown",
   "metadata": {},
   "source": [
    "## Outputting new lines\n",
    "We can output new lines using both the manipulator `std::endl` or the character `'\\n'`."
   ]
  },
  {
   "cell_type": "code",
   "execution_count": 6,
   "metadata": {},
   "outputs": [
    {
     "name": "stdout",
     "output_type": "stream",
     "text": [
      "Hello, world!\n",
      "Good\n",
      "morning!\n",
      "Welcome\n",
      "to\n",
      "C++!!!"
     ]
    }
   ],
   "source": [
    "std::cout << \"Hello, world!\" << std::endl;\n",
    "std::cout << \"Good\" << std::endl << \"morning!\" << std::endl;\n",
    "std::cout << \"Welcome\\nto\\nC++!!!\";"
   ]
  },
  {
   "cell_type": "markdown",
   "metadata": {},
   "source": [
    "And we can chain as many output pieces to a single `std::cout` as possible. The statement below is equivalent to the the above three statements."
   ]
  },
  {
   "cell_type": "code",
   "execution_count": 7,
   "metadata": {},
   "outputs": [
    {
     "name": "stdout",
     "output_type": "stream",
     "text": [
      "Hello, world!\n",
      "Good\n",
      "morning!\n",
      "Welcome\n",
      "to\n",
      "C++!!!"
     ]
    }
   ],
   "source": [
    "std::cout << \"Hello, world!\" << std::endl\n",
    "          << \"Good\" << std::endl << \"morning!\" << std::endl\n",
    "          << \"Welcome\\nto\\nC++!!!\";"
   ]
  },
  {
   "cell_type": "markdown",
   "metadata": {},
   "source": [
    "### CODING CHALLENGE\n",
    "Rewrite the above statement in the code cell below by replacing `std::endl` with `'\\n'` and vice versa."
   ]
  },
  {
   "cell_type": "code",
   "execution_count": 8,
   "metadata": {},
   "outputs": [
    {
     "name": "stdout",
     "output_type": "stream",
     "text": [
      "Hello, world!\n",
      "Good\n",
      "morning!\n",
      "Welcome\n",
      "to\n",
      "C++!!!"
     ]
    }
   ],
   "source": [
    "std::cout << \"Hello, world!\\nGood\\nmorning!\\n\"\n",
    "        << \"Welcome\" << std::endl\n",
    "        << \"to\" << std::endl\n",
    "        << \"C++!!!\";\n"
   ]
  },
  {
   "cell_type": "markdown",
   "metadata": {},
   "source": [
    "## Using namespaces\n",
    "To avoid having to put `std::` in front of every `cout`, `endl`, and other functions from the standard C++ library, we could use the `using namespace std;` statement typically, but not necessarily, right after the include directives.\n",
    "\n",
    "``` c++\n",
    "// FILE: ex01-hello-2.cpp\n",
    "#include <iostream>\n",
    "using namespace std;\n",
    "\n",
    "int main(){\n",
    "  cout << \"Hello, world!\\n\";\n",
    "\n",
    "  return 0;\n",
    "}\n",
    "```\n",
    "\n",
    "### CODING CHALLENGE\n",
    "\n",
    "Rewrite the \n",
    "``` c++\n",
    "std::cout << \"Hello, world!\" << std::endl\n",
    "          << \"Good\" << std::endl << \"morning!\" << std::endl\n",
    "          << \"Welcome\\nto\\nC++!!!\";\n",
    "```\n",
    "statement in the code cell below by removing the `std::` prefixes. "
   ]
  },
  {
   "cell_type": "code",
   "execution_count": 3,
   "metadata": {},
   "outputs": [
    {
     "name": "stdout",
     "output_type": "stream",
     "text": [
      "Hello, world!\n",
      "Good\n",
      "morning!\n",
      "Welcome\n",
      "to\n",
      "C++!!!"
     ]
    }
   ],
   "source": [
    "using namespace std;\n",
    "     cout << \"Hello, world!\" <<endl\n",
    "         << \"Good\" <<endl << \"morning!\" <<endl\n",
    "        << \"Welcome\\nto\\nC++!!!\";"
   ]
  },
  {
   "cell_type": "markdown",
   "metadata": {},
   "source": [
    "## Comments\n",
    "Comments  are notes you leave in your programs to explain how they work or should be used to yourself or to anyone who reads your code. When the compiler sees these comments, it ignores them. \n",
    "\n",
    "C++ supports two kinds of comments:\n",
    "* Single line comments which start with two forward slashes `//` until end of line"
   ]
  },
  {
   "cell_type": "code",
   "execution_count": 10,
   "metadata": {},
   "outputs": [],
   "source": [
    "// single line comment; until end of line."
   ]
  },
  {
   "cell_type": "markdown",
   "metadata": {},
   "source": [
    "* multi-line comments which start with forward slash star `/*` and ends with star forward slash `*/`."
   ]
  },
  {
   "cell_type": "code",
   "execution_count": 11,
   "metadata": {},
   "outputs": [],
   "source": [
    "/* \n",
    "  multi-line comment; spans\n",
    "  one\n",
    "  or\n",
    "  more \n",
    "  lines.\n",
    "*/"
   ]
  },
  {
   "cell_type": "markdown",
   "metadata": {},
   "source": [
    "## Data types\n",
    "C++ programs work with data of many types. The most common data types are :\n",
    "* Integers like 1, 5, 10, -16: we use the keyword `int` to define integers.\n",
    "* Decimals such as .2, 5.3, 3.2: we use the keyword `double` to define double-precision decimals and the keyword `float` to define single-precision decimals. Use `double` for decimals unless you are told otherwise.\n",
    "* Characters: which are single letters or symbols written between single quotes, such as the letter `'A'`, the digit `'8'`, the symbol `'@'` the line break character `'\\n'`, the tab character `'\\t'`. We use the keyword `char` to define single characters.\n",
    "* Booleans which are either `true` or `false`. We use the keyword `bool` to define booleans.\n",
    "* Strings which are one or more characters between double quotes such as the `\"hello world\"` text or the name `\"Sam\"`. We use the class `string` to define strings, which requires including the `<string>` header file.\n",
    "\n",
    "We must use these data types to define variables. \n",
    "\n",
    "To define a variable, we start with the data type of the variable followed by its name:\n",
    "\n",
    "``` c++\n",
    "  <data-type> <name>;\n",
    "```\n",
    "\n",
    "Optionally we can initialize the variable at the time of its creation by providing an initial value:\n",
    "\n",
    "``` c++\n",
    "  <data-type> <name> = <initial-value>;\n",
    "```\n",
    "\n",
    "**NOTE:** variable names must be valid **C++ identifiers**. That means they:\n",
    "* can only contain letters, digits, and underscores, \n",
    "* cannot start with a digit, and \n",
    "* cannot be a C++ keyword.\n",
    "\n",
    "Below are five variables: some initialized, some not. \n",
    "\n",
    "### CODING CHALLENGE\n",
    "Define five more variables at the bottom of the code cell bellow."
   ]
  },
  {
   "cell_type": "code",
   "execution_count": 4,
   "metadata": {},
   "outputs": [],
   "source": [
    "#include <string> // For the string message variable\n",
    "int number;\n",
    "double pi = 3.14;\n",
    "char letter;\n",
    "bool is_active = true;\n",
    "string message = \"Good morning!\";\n",
    "\n",
    "//TODO\n",
    "int getNum;\n",
    "double getDollars = 0.00;\n",
    "char symbol;\n",
    "bool is_alive = true;\n",
    "string salutation = \"Hello!\";"
   ]
  },
  {
   "cell_type": "markdown",
   "metadata": {},
   "source": [
    "And you must always remember that, **a variable must be defined before it can be used** and **it can only be defined once**. Try running the cell code above twice. Do you get an error?"
   ]
  },
  {
   "cell_type": "markdown",
   "metadata": {},
   "source": [
    "## Reading input from the console\n",
    "\n",
    "And just like we used `cout` with the **insertion** `<<` operator to output to the console, we can use `cin` to read input data from the keyboard. To do that, we must first define a variable with the same data type as the input value.\n",
    "\n",
    "Here is an example of reading two integer values. Run it and enter two integers."
   ]
  },
  {
   "cell_type": "code",
   "execution_count": 13,
   "metadata": {},
   "outputs": [
    {
     "name": "stdout",
     "output_type": "stream",
     "text": [
      "Enter two integers: 1\n",
      "2\n"
     ]
    }
   ],
   "source": [
    "int x, y;\n",
    "cout << \"Enter two integers: \";\n",
    "cin >> x >> y;"
   ]
  },
  {
   "cell_type": "markdown",
   "metadata": {},
   "source": [
    "To display the values you entered:"
   ]
  },
  {
   "cell_type": "code",
   "execution_count": 14,
   "metadata": {},
   "outputs": [
    {
     "name": "stdout",
     "output_type": "stream",
     "text": [
      "1\t2\n"
     ]
    }
   ],
   "source": [
    "cout << x << '\\t' << y << endl;"
   ]
  },
  {
   "cell_type": "markdown",
   "metadata": {},
   "source": [
    "Similarly to receive `double` input, we define a `double` variable:"
   ]
  },
  {
   "cell_type": "code",
   "execution_count": 15,
   "metadata": {},
   "outputs": [
    {
     "name": "stdout",
     "output_type": "stream",
     "text": [
      "Temperature in fahrenheit:\n",
      "87\n"
     ]
    }
   ],
   "source": [
    "double f_temp; // To be entered\n",
    "double c_temp; // To be calculated\n",
    "\n",
    "cout << \"Temperature in fahrenheit:\\n\";\n",
    "cin >> f_temp;"
   ]
  },
  {
   "cell_type": "markdown",
   "metadata": {},
   "source": [
    "And we now can take the entered fahrenheit temperature and convert it into celsius: "
   ]
  },
  {
   "cell_type": "code",
   "execution_count": 16,
   "metadata": {},
   "outputs": [
    {
     "name": "stdout",
     "output_type": "stream",
     "text": [
      "Temperature in Celsius is: 30.5556\n"
     ]
    }
   ],
   "source": [
    "c_temp = (f_temp - 32) * 5.0 / 9.0; \n",
    "cout << \"Temperature in Celsius is: \" << c_temp << '\\n';"
   ]
  },
  {
   "cell_type": "markdown",
   "metadata": {},
   "source": [
    "### CODING CHALLENGE\n",
    "In the code cell below, prompt the user to enter the radius of a circle and read it into a `double` variable named `radius`. Calculate and display the area of a circle with that radius."
   ]
  },
  {
   "cell_type": "code",
   "execution_count": 17,
   "metadata": {},
   "outputs": [
    {
     "name": "stdout",
     "output_type": "stream",
     "text": [
      "Provide the radius for a circle:\n",
      "100\n",
      "The area of the circle is 31415.9"
     ]
    }
   ],
   "source": [
    "// TODO\n",
    "double radius;\n",
    "const double PI = 3.14159;\n",
    "double area;\n",
    "\n",
    "cout << \"Provide the radius for a circle:\\n\";\n",
    "cin >> radius;\n",
    "\n",
    "area = PI * (radius * radius);\n",
    "cout << \"The area of the circle is \" << area;"
   ]
  },
  {
   "cell_type": "markdown",
   "metadata": {},
   "source": [
    "In the challenge above, we needed the value of PI which is a constant whose value is 3.14159. To define constant variables (an oxymoron) we use the keyword `const` in front of the definition statement. And by convention, constants' names are ALL CAPS."
   ]
  },
  {
   "cell_type": "code",
   "execution_count": 18,
   "metadata": {},
   "outputs": [],
   "source": [
    "//const double PI = 3.14159;"
   ]
  },
  {
   "cell_type": "markdown",
   "metadata": {},
   "source": [
    "## Arithmetic operators\n",
    "C++ supports multiple arithmetic operators( +, -, \\*, /) representing addition, subtraction, multiplication, and division respectively. We use these operators to create expressions like:"
   ]
  },
  {
   "cell_type": "code",
   "execution_count": 19,
   "metadata": {},
   "outputs": [
    {
     "name": "stdout",
     "output_type": "stream",
     "text": [
      "13\n",
      "-4\n",
      "12\n",
      "3\n",
      "1\n",
      "3.5\n"
     ]
    }
   ],
   "source": [
    "cout << 6 + 7   << endl \n",
    "     << x - 5   << endl\n",
    "     << 4 * 3   << endl\n",
    "     << 7 / 2   << endl    // Integer division\n",
    "     << 7 % 2   << endl    // Remainder\n",
    "     << 7 / 2.0 << endl;"
   ]
  },
  {
   "cell_type": "markdown",
   "metadata": {},
   "source": [
    "## Relational operators\n",
    "C++ also support relational operators which are used to compare two values and see if one is >, <, >=, <=, == (equal to), and != (not equal to) the other. These operators return boolean values that evaluate to either `true` or `false`. For example `6 < 7` is true but `2 >= 7` is false. **Note**: We always use two equal signs `==` to check if one value is equal to another. One equal sign `=` means assignment, not equality.\n",
    "\n",
    "### CODING CHALLENGE\n",
    "Change the statement below such that all expressions become false."
   ]
  },
  {
   "cell_type": "code",
   "execution_count": 20,
   "metadata": {},
   "outputs": [
    {
     "name": "stdout",
     "output_type": "stream",
     "text": [
      "0\n",
      "0\n",
      "0\n",
      "0\n",
      "0\n",
      "0\n"
     ]
    }
   ],
   "source": [
    "//TODO\n",
    "cout << (6 > 7) << endl\n",
    "     << (7 < 5) << endl\n",
    "     << (4 <= 3) << endl\n",
    "     << (2 >= 7) << endl\n",
    "     << (9 != 9) << endl\n",
    "     << (7.1 == 2.0) << endl;"
   ]
  },
  {
   "cell_type": "markdown",
   "metadata": {},
   "source": [
    "## Logical operators\n",
    "C++ also allows us to combine multiple boolean expressions using the `&&` (AND) operator or the `||` (OR) operator, or negate a boolean expression using the `!` (NOT) operator. These are called logical operators and like relational operators, they evaluate to either `true` or `false`.\n",
    "\n",
    "### CODING CHALLENGE\n",
    "Use the `!` operator to negate the following expressions:"
   ]
  },
  {
   "cell_type": "code",
   "execution_count": 21,
   "metadata": {},
   "outputs": [
    {
     "name": "stdout",
     "output_type": "stream",
     "text": [
      "0\n",
      "0\n"
     ]
    }
   ],
   "source": [
    "//TODO\n",
    "\n",
    "cout << (x > 7 && x != 5) << endl;\n",
    "cout << (x > 5 && x != 7) << endl;"
   ]
  },
  {
   "cell_type": "markdown",
   "metadata": {},
   "source": [
    "## Assignment operators\n",
    "We also have the assignment operators. In its simplest form, the single equal sign `=` is used to assign the value to the right to the variable on the left. And because assignments are full statements, they must have `;` at the end."
   ]
  },
  {
   "cell_type": "code",
   "execution_count": 22,
   "metadata": {},
   "outputs": [],
   "source": [
    "x = 14;\n",
    "y = y + x - 7;"
   ]
  },
  {
   "cell_type": "markdown",
   "metadata": {},
   "source": [
    "C++ also supports the following shorthand arithmetic assignments. For example `x += 3;` is the same as `x = x + 3;`\n",
    "Similarly `y -= 2;` is the same as `y = y - 2;` and so on.\n",
    "\n",
    "### CODING CHALLENGE\n",
    "Replace the arithmetic assignments in the code cell below with their equivalent simple assignment alternatives."
   ]
  },
  {
   "cell_type": "code",
   "execution_count": 23,
   "metadata": {},
   "outputs": [
    {
     "name": "stdout",
     "output_type": "stream",
     "text": [
      "37, 30, 60, 20, 2\n"
     ]
    }
   ],
   "source": [
    "// TODO\n",
    "int ans = 27;\n",
    "\n",
    "ans = ans + 10; \n",
    "cout << ans << \", \";\n",
    "ans = ans - 7; \n",
    "cout << ans << \", \";\n",
    "ans = ans * 2;\n",
    "cout << ans << \", \";\n",
    "ans = ans / 3;\n",
    "cout << ans << \", \";\n",
    "ans = ans%3; \n",
    "cout << ans << endl;"
   ]
  },
  {
   "cell_type": "markdown",
   "metadata": {},
   "source": [
    "## Increment/Decrement by one operators\n",
    "Finally, C++ supports the increment by one `++` and the decrement `--` operators. For example `x++` is the same as incrementing the value of `x` by `1` and similarly `x--` is like decrementing `x` by `1`. The same goes for `++x` and `--x`.\n",
    "But one must understand the difference between `++x` and `x++`. `++x` is called **prefix increment** which means `x` is incremented at the beginning of the statement, while`x++` is called **postfix increment** meaning that `x` is incremented at the end of the statement.\n",
    "\n",
    "\n",
    "### CODING CHALLENGE\n",
    "\n",
    "Run the code cell below with the `++` operator. Change all `++` to `--` and run it again. Does the output make sense?"
   ]
  },
  {
   "cell_type": "code",
   "execution_count": 5,
   "metadata": {},
   "outputs": [
    {
     "name": "stdout",
     "output_type": "stream",
     "text": [
      "count=10\n",
      "count=11\n",
      "count=11\n",
      "count=11\n",
      "count=12\n"
     ]
    }
   ],
   "source": [
    "//TODO\n",
    "int count = 10;\n",
    "\n",
    "cout << \"count=\" << count << endl; \n",
    "cout << \"count=\" << ++count << endl;\n",
    "cout << \"count=\" << count << endl; \n",
    "cout << \"count=\" << count++ << endl;\n",
    "cout << \"count=\" << count << endl; "
   ]
  },
  {
   "cell_type": "code",
   "execution_count": null,
   "metadata": {},
   "outputs": [],
   "source": []
  }
 ],
 "metadata": {
  "kernelspec": {
   "display_name": "C++17",
   "language": "C++17",
   "name": "xcpp17"
  },
  "language_info": {
   "codemirror_mode": "text/x-c++src",
   "file_extension": ".cpp",
   "mimetype": "text/x-c++src",
   "name": "c++",
   "version": "-std=c++17"
  }
 },
 "nbformat": 4,
 "nbformat_minor": 2
}
